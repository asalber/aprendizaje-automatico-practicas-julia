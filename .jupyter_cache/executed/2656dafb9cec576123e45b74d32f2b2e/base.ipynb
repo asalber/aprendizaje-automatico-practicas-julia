{
 "cells": [
  {
   "cell_type": "code",
   "execution_count": 1,
   "id": "87250208",
   "metadata": {},
   "outputs": [],
   "source": [
    "import IJulia\n",
    "import Base64\n",
    "\n",
    "# The julia kernel has built in support for Revise.jl, so this is the \n",
    "# recommended approach for long-running sessions:\n",
    "# https://github.com/JuliaLang/IJulia.jl/blob/9b10fa9b879574bbf720f5285029e07758e50a5e/src/kernel.jl#L46-L51\n",
    "\n",
    "# Users should enable revise within .julia/config/startup_ijulia.jl:\n",
    "# https://timholy.github.io/Revise.jl/stable/config/#Using-Revise-automatically-within-Jupyter/IJulia-1\n",
    "\n",
    "# clear console history\n",
    "IJulia.clear_history()\n",
    "\n",
    "fig_width = 5\n",
    "fig_height = 4\n",
    "fig_format = :png\n",
    "fig_dpi = 96\n",
    "\n",
    "# no retina format type, use svg for high quality type/marks\n",
    "if fig_format == :retina\n",
    "  fig_format = :svg\n",
    "elseif fig_format == :pdf\n",
    "  fig_dpi = 96\n",
    "  # Enable PDF support for IJulia\n",
    "  IJulia.register_mime(MIME(\"application/pdf\"))\n",
    "end\n",
    "\n",
    "# convert inches to pixels\n",
    "fig_width = fig_width * fig_dpi\n",
    "fig_height = fig_height * fig_dpi\n",
    "\n",
    "# Intialize Plots w/ default fig width/height\n",
    "try\n",
    "  import Plots\n",
    "\n",
    "  # Plots.jl doesn't support PDF output for versions < 1.28.1\n",
    "  # so use png (if the DPI remains the default of 300 then set to 96)\n",
    "  if (Plots._current_plots_version < v\"1.28.1\") & (fig_format == :pdf)\n",
    "    Plots.gr(size=(fig_width, fig_height), fmt = :png, dpi = fig_dpi)\n",
    "  else\n",
    "    Plots.gr(size=(fig_width, fig_height), fmt = fig_format, dpi = fig_dpi)\n",
    "  end\n",
    "catch e\n",
    "  # @warn \"Plots init\" exception=(e, catch_backtrace())\n",
    "end\n",
    "\n",
    "# Initialize CairoMakie with default fig width/height\n",
    "try\n",
    "  import CairoMakie\n",
    "\n",
    "  # CairoMakie's display() in PDF format opens an interactive window\n",
    "  # instead of saving to the ipynb file, so we don't do that.\n",
    "  # https://github.com/quarto-dev/quarto-cli/issues/7548\n",
    "  if fig_format == :pdf\n",
    "    CairoMakie.activate!(type = \"png\")\n",
    "  else\n",
    "    CairoMakie.activate!(type = string(fig_format))\n",
    "  end\n",
    "  CairoMakie.update_theme!(resolution=(fig_width, fig_height))\n",
    "catch e\n",
    "    # @warn \"CairoMakie init\" exception=(e, catch_backtrace())\n",
    "end\n",
    "  \n",
    "# Set run_path if specified\n",
    "try\n",
    "  run_path = \"L3J1bi9tZWRpYS9hbGYvZGF0b3MvbWlzcmVwb3NpdG9yaW9zL2RvY2VuY2lhL2FwcmVuZGl6YWplLWF1dG9tYXRpY28tcHJhY3RpY2FzLWp1bGlh\"\n",
    "  if !isempty(run_path)\n",
    "    run_path = String(Base64.base64decode(run_path))\n",
    "    cd(run_path)\n",
    "  end\n",
    "catch e\n",
    "  @warn \"Run path init:\" exception=(e, catch_backtrace())\n",
    "end\n",
    "\n",
    "\n",
    "# emulate old Pkg.installed beahvior, see\n",
    "# https://discourse.julialang.org/t/how-to-use-pkg-dependencies-instead-of-pkg-installed/36416/9\n",
    "import Pkg\n",
    "function isinstalled(pkg::String)\n",
    "  any(x -> x.name == pkg && x.is_direct_dep, values(Pkg.dependencies()))\n",
    "end\n",
    "\n",
    "# ojs_define\n",
    "if isinstalled(\"JSON\") && isinstalled(\"DataFrames\")\n",
    "  import JSON, DataFrames\n",
    "  global function ojs_define(; kwargs...)\n",
    "    convert(x) = x\n",
    "    convert(x::DataFrames.AbstractDataFrame) = Tables.rows(x)\n",
    "    content = Dict(\"contents\" => [Dict(\"name\" => k, \"value\" => convert(v)) for (k, v) in kwargs])\n",
    "    tag = \"<script type='ojs-define'>$(JSON.json(content))</script>\"\n",
    "    IJulia.display(MIME(\"text/html\"), tag)\n",
    "  end\n",
    "elseif isinstalled(\"JSON\")\n",
    "  import JSON\n",
    "  global function ojs_define(; kwargs...)\n",
    "    content = Dict(\"contents\" => [Dict(\"name\" => k, \"value\" => v) for (k, v) in kwargs])\n",
    "    tag = \"<script type='ojs-define'>$(JSON.json(content))</script>\"\n",
    "    IJulia.display(MIME(\"text/html\"), tag)\n",
    "  end\n",
    "else\n",
    "  global function ojs_define(; kwargs...)\n",
    "    @warn \"JSON package not available. Please install the JSON.jl package to use ojs_define.\"\n",
    "  end\n",
    "end\n",
    "\n",
    "\n",
    "# don't return kernel dependencies (b/c Revise should take care of dependencies)\n",
    "nothing\n"
   ]
  },
  {
   "cell_type": "code",
   "execution_count": 2,
   "id": "ec401030",
   "metadata": {
    "md-indent": "    "
   },
   "outputs": [
    {
     "data": {
      "text/html": [
       "<div><div style = \"float: left;\"><span>4×4 DataFrame</span></div><div style = \"clear: both;\"></div></div><div class = \"data-frame\" style = \"overflow-x: scroll;\"><table class = \"data-frame\" style = \"margin-bottom: 6px;\"><thead><tr class = \"header\"><th class = \"rowNumber\" style = \"font-weight: bold; text-align: right;\">Row</th><th style = \"text-align: left;\">Mes</th><th style = \"text-align: left;\">Ingresos</th><th style = \"text-align: left;\">Gastos</th><th style = \"text-align: left;\">Impuestos</th></tr><tr class = \"subheader headerLastRow\"><th class = \"rowNumber\" style = \"font-weight: bold; text-align: right;\"></th><th title = \"String\" style = \"text-align: left;\">String</th><th title = \"Int64\" style = \"text-align: left;\">Int64</th><th title = \"Int64\" style = \"text-align: left;\">Int64</th><th title = \"Int64\" style = \"text-align: left;\">Int64</th></tr></thead><tbody><tr><td class = \"rowNumber\" style = \"font-weight: bold; text-align: right;\">1</td><td style = \"text-align: left;\">Enero</td><td style = \"text-align: right;\">45000</td><td style = \"text-align: right;\">33400</td><td style = \"text-align: right;\">6450</td></tr><tr><td class = \"rowNumber\" style = \"font-weight: bold; text-align: right;\">2</td><td style = \"text-align: left;\">Febrero</td><td style = \"text-align: right;\">41500</td><td style = \"text-align: right;\">35400</td><td style = \"text-align: right;\">6300</td></tr><tr><td class = \"rowNumber\" style = \"font-weight: bold; text-align: right;\">3</td><td style = \"text-align: left;\">Marzo</td><td style = \"text-align: right;\">51200</td><td style = \"text-align: right;\">35600</td><td style = \"text-align: right;\">7100</td></tr><tr><td class = \"rowNumber\" style = \"font-weight: bold; text-align: right;\">4</td><td style = \"text-align: left;\">Abril</td><td style = \"text-align: right;\">49700</td><td style = \"text-align: right;\">36300</td><td style = \"text-align: right;\">6850</td></tr></tbody></table></div>"
      ],
      "text/latex": [
       "\\begin{tabular}{r|cccc}\n",
       "\t& Mes & Ingresos & Gastos & Impuestos\\\\\n",
       "\t\\hline\n",
       "\t& String & Int64 & Int64 & Int64\\\\\n",
       "\t\\hline\n",
       "\t1 & Enero & 45000 & 33400 & 6450 \\\\\n",
       "\t2 & Febrero & 41500 & 35400 & 6300 \\\\\n",
       "\t3 & Marzo & 51200 & 35600 & 7100 \\\\\n",
       "\t4 & Abril & 49700 & 36300 & 6850 \\\\\n",
       "\\end{tabular}\n"
      ],
      "text/plain": [
       "\u001b[1m4×4 DataFrame\u001b[0m\n",
       "\u001b[1m Row \u001b[0m│\u001b[1m Mes     \u001b[0m\u001b[1m Ingresos \u001b[0m\u001b[1m Gastos \u001b[0m\u001b[1m Impuestos \u001b[0m\n",
       "     │\u001b[90m String  \u001b[0m\u001b[90m Int64    \u001b[0m\u001b[90m Int64  \u001b[0m\u001b[90m Int64     \u001b[0m\n",
       "─────┼──────────────────────────────────────\n",
       "   1 │ Enero       45000   33400       6450\n",
       "   2 │ Febrero     41500   35400       6300\n",
       "   3 │ Marzo       51200   35600       7100\n",
       "   4 │ Abril       49700   36300       6850"
      ]
     },
     "execution_count": 2,
     "metadata": {},
     "output_type": "execute_result"
    }
   ],
   "source": [
    "using DataFrames\n",
    "df = DataFrame(\n",
    "    Mes = [\"Enero\", \"Febrero\", \"Marzo\", \"Abril\"],\n",
    "    Ingresos = [45000, 41500, 51200, 49700],\n",
    "    Gastos = [33400, 35400, 35600, 36300],\n",
    "    Impuestos = [6450, 6300, 7100, 6850]\n",
    "    )"
   ]
  },
  {
   "cell_type": "code",
   "execution_count": 3,
   "id": "63d79b5f",
   "metadata": {
    "md-indent": "    "
   },
   "outputs": [
    {
     "data": {
      "text/html": [
       "<div><div style = \"float: left;\"><span>4×5 DataFrame</span></div><div style = \"clear: both;\"></div></div><div class = \"data-frame\" style = \"overflow-x: scroll;\"><table class = \"data-frame\" style = \"margin-bottom: 6px;\"><thead><tr class = \"header\"><th class = \"rowNumber\" style = \"font-weight: bold; text-align: right;\">Row</th><th style = \"text-align: left;\">Mes</th><th style = \"text-align: left;\">Ingresos</th><th style = \"text-align: left;\">Gastos</th><th style = \"text-align: left;\">Impuestos</th><th style = \"text-align: left;\">Beneficios</th></tr><tr class = \"subheader headerLastRow\"><th class = \"rowNumber\" style = \"font-weight: bold; text-align: right;\"></th><th title = \"String\" style = \"text-align: left;\">String</th><th title = \"Int64\" style = \"text-align: left;\">Int64</th><th title = \"Int64\" style = \"text-align: left;\">Int64</th><th title = \"Int64\" style = \"text-align: left;\">Int64</th><th title = \"Int64\" style = \"text-align: left;\">Int64</th></tr></thead><tbody><tr><td class = \"rowNumber\" style = \"font-weight: bold; text-align: right;\">1</td><td style = \"text-align: left;\">Enero</td><td style = \"text-align: right;\">45000</td><td style = \"text-align: right;\">33400</td><td style = \"text-align: right;\">6450</td><td style = \"text-align: right;\">5150</td></tr><tr><td class = \"rowNumber\" style = \"font-weight: bold; text-align: right;\">2</td><td style = \"text-align: left;\">Febrero</td><td style = \"text-align: right;\">41500</td><td style = \"text-align: right;\">35400</td><td style = \"text-align: right;\">6300</td><td style = \"text-align: right;\">-200</td></tr><tr><td class = \"rowNumber\" style = \"font-weight: bold; text-align: right;\">3</td><td style = \"text-align: left;\">Marzo</td><td style = \"text-align: right;\">51200</td><td style = \"text-align: right;\">35600</td><td style = \"text-align: right;\">7100</td><td style = \"text-align: right;\">8500</td></tr><tr><td class = \"rowNumber\" style = \"font-weight: bold; text-align: right;\">4</td><td style = \"text-align: left;\">Abril</td><td style = \"text-align: right;\">49700</td><td style = \"text-align: right;\">36300</td><td style = \"text-align: right;\">6850</td><td style = \"text-align: right;\">6550</td></tr></tbody></table></div>"
      ],
      "text/latex": [
       "\\begin{tabular}{r|ccccc}\n",
       "\t& Mes & Ingresos & Gastos & Impuestos & Beneficios\\\\\n",
       "\t\\hline\n",
       "\t& String & Int64 & Int64 & Int64 & Int64\\\\\n",
       "\t\\hline\n",
       "\t1 & Enero & 45000 & 33400 & 6450 & 5150 \\\\\n",
       "\t2 & Febrero & 41500 & 35400 & 6300 & -200 \\\\\n",
       "\t3 & Marzo & 51200 & 35600 & 7100 & 8500 \\\\\n",
       "\t4 & Abril & 49700 & 36300 & 6850 & 6550 \\\\\n",
       "\\end{tabular}\n"
      ],
      "text/plain": [
       "\u001b[1m4×5 DataFrame\u001b[0m\n",
       "\u001b[1m Row \u001b[0m│\u001b[1m Mes     \u001b[0m\u001b[1m Ingresos \u001b[0m\u001b[1m Gastos \u001b[0m\u001b[1m Impuestos \u001b[0m\u001b[1m Beneficios \u001b[0m\n",
       "     │\u001b[90m String  \u001b[0m\u001b[90m Int64    \u001b[0m\u001b[90m Int64  \u001b[0m\u001b[90m Int64     \u001b[0m\u001b[90m Int64      \u001b[0m\n",
       "─────┼──────────────────────────────────────────────────\n",
       "   1 │ Enero       45000   33400       6450        5150\n",
       "   2 │ Febrero     41500   35400       6300        -200\n",
       "   3 │ Marzo       51200   35600       7100        8500\n",
       "   4 │ Abril       49700   36300       6850        6550"
      ]
     },
     "execution_count": 3,
     "metadata": {},
     "output_type": "execute_result"
    }
   ],
   "source": [
    "df.Beneficios = df.Ingresos - df.Gastos - df.Impuestos\n",
    "df"
   ]
  },
  {
   "cell_type": "code",
   "execution_count": 4,
   "id": "64710217",
   "metadata": {
    "md-indent": "    "
   },
   "outputs": [
    {
     "data": {
      "text/html": [
       "<div><div style = \"float: left;\"><span>4×6 DataFrame</span></div><div style = \"clear: both;\"></div></div><div class = \"data-frame\" style = \"overflow-x: scroll;\"><table class = \"data-frame\" style = \"margin-bottom: 6px;\"><thead><tr class = \"header\"><th class = \"rowNumber\" style = \"font-weight: bold; text-align: right;\">Row</th><th style = \"text-align: left;\">Mes</th><th style = \"text-align: left;\">Ingresos</th><th style = \"text-align: left;\">Gastos</th><th style = \"text-align: left;\">Impuestos</th><th style = \"text-align: left;\">Beneficios</th><th style = \"text-align: left;\">Balance</th></tr><tr class = \"subheader headerLastRow\"><th class = \"rowNumber\" style = \"font-weight: bold; text-align: right;\"></th><th title = \"String\" style = \"text-align: left;\">String</th><th title = \"Int64\" style = \"text-align: left;\">Int64</th><th title = \"Int64\" style = \"text-align: left;\">Int64</th><th title = \"Int64\" style = \"text-align: left;\">Int64</th><th title = \"Int64\" style = \"text-align: left;\">Int64</th><th title = \"String\" style = \"text-align: left;\">String</th></tr></thead><tbody><tr><td class = \"rowNumber\" style = \"font-weight: bold; text-align: right;\">1</td><td style = \"text-align: left;\">Enero</td><td style = \"text-align: right;\">45000</td><td style = \"text-align: right;\">33400</td><td style = \"text-align: right;\">6450</td><td style = \"text-align: right;\">5150</td><td style = \"text-align: left;\">positivo</td></tr><tr><td class = \"rowNumber\" style = \"font-weight: bold; text-align: right;\">2</td><td style = \"text-align: left;\">Febrero</td><td style = \"text-align: right;\">41500</td><td style = \"text-align: right;\">35400</td><td style = \"text-align: right;\">6300</td><td style = \"text-align: right;\">-200</td><td style = \"text-align: left;\">negativo</td></tr><tr><td class = \"rowNumber\" style = \"font-weight: bold; text-align: right;\">3</td><td style = \"text-align: left;\">Marzo</td><td style = \"text-align: right;\">51200</td><td style = \"text-align: right;\">35600</td><td style = \"text-align: right;\">7100</td><td style = \"text-align: right;\">8500</td><td style = \"text-align: left;\">positivo</td></tr><tr><td class = \"rowNumber\" style = \"font-weight: bold; text-align: right;\">4</td><td style = \"text-align: left;\">Abril</td><td style = \"text-align: right;\">49700</td><td style = \"text-align: right;\">36300</td><td style = \"text-align: right;\">6850</td><td style = \"text-align: right;\">6550</td><td style = \"text-align: left;\">positivo</td></tr></tbody></table></div>"
      ],
      "text/latex": [
       "\\begin{tabular}{r|cccccc}\n",
       "\t& Mes & Ingresos & Gastos & Impuestos & Beneficios & Balance\\\\\n",
       "\t\\hline\n",
       "\t& String & Int64 & Int64 & Int64 & Int64 & String\\\\\n",
       "\t\\hline\n",
       "\t1 & Enero & 45000 & 33400 & 6450 & 5150 & positivo \\\\\n",
       "\t2 & Febrero & 41500 & 35400 & 6300 & -200 & negativo \\\\\n",
       "\t3 & Marzo & 51200 & 35600 & 7100 & 8500 & positivo \\\\\n",
       "\t4 & Abril & 49700 & 36300 & 6850 & 6550 & positivo \\\\\n",
       "\\end{tabular}\n"
      ],
      "text/plain": [
       "\u001b[1m4×6 DataFrame\u001b[0m\n",
       "\u001b[1m Row \u001b[0m│\u001b[1m Mes     \u001b[0m\u001b[1m Ingresos \u001b[0m\u001b[1m Gastos \u001b[0m\u001b[1m Impuestos \u001b[0m\u001b[1m Beneficios \u001b[0m\u001b[1m Balance  \u001b[0m\n",
       "     │\u001b[90m String  \u001b[0m\u001b[90m Int64    \u001b[0m\u001b[90m Int64  \u001b[0m\u001b[90m Int64     \u001b[0m\u001b[90m Int64      \u001b[0m\u001b[90m String   \u001b[0m\n",
       "─────┼────────────────────────────────────────────────────────────\n",
       "   1 │ Enero       45000   33400       6450        5150  positivo\n",
       "   2 │ Febrero     41500   35400       6300        -200  negativo\n",
       "   3 │ Marzo       51200   35600       7100        8500  positivo\n",
       "   4 │ Abril       49700   36300       6850        6550  positivo"
      ]
     },
     "execution_count": 4,
     "metadata": {},
     "output_type": "execute_result"
    }
   ],
   "source": [
    "df.Balance = ifelse.(df.Beneficios .> 0, \"positivo\", \"negativo\")\n",
    "df"
   ]
  },
  {
   "cell_type": "code",
   "execution_count": 5,
   "id": "bba60846",
   "metadata": {
    "md-indent": "    "
   },
   "outputs": [
    {
     "data": {
      "text/html": [
       "<div><div style = \"float: left;\"><span>3×2 DataFrame</span></div><div style = \"clear: both;\"></div></div><div class = \"data-frame\" style = \"overflow-x: scroll;\"><table class = \"data-frame\" style = \"margin-bottom: 6px;\"><thead><tr class = \"header\"><th class = \"rowNumber\" style = \"font-weight: bold; text-align: right;\">Row</th><th style = \"text-align: left;\">Mes</th><th style = \"text-align: left;\">Beneficios</th></tr><tr class = \"subheader headerLastRow\"><th class = \"rowNumber\" style = \"font-weight: bold; text-align: right;\"></th><th title = \"String\" style = \"text-align: left;\">String</th><th title = \"Int64\" style = \"text-align: left;\">Int64</th></tr></thead><tbody><tr><td class = \"rowNumber\" style = \"font-weight: bold; text-align: right;\">1</td><td style = \"text-align: left;\">Enero</td><td style = \"text-align: right;\">5150</td></tr><tr><td class = \"rowNumber\" style = \"font-weight: bold; text-align: right;\">2</td><td style = \"text-align: left;\">Marzo</td><td style = \"text-align: right;\">8500</td></tr><tr><td class = \"rowNumber\" style = \"font-weight: bold; text-align: right;\">3</td><td style = \"text-align: left;\">Abril</td><td style = \"text-align: right;\">6550</td></tr></tbody></table></div>"
      ],
      "text/latex": [
       "\\begin{tabular}{r|cc}\n",
       "\t& Mes & Beneficios\\\\\n",
       "\t\\hline\n",
       "\t& String & Int64\\\\\n",
       "\t\\hline\n",
       "\t1 & Enero & 5150 \\\\\n",
       "\t2 & Marzo & 8500 \\\\\n",
       "\t3 & Abril & 6550 \\\\\n",
       "\\end{tabular}\n"
      ],
      "text/plain": [
       "\u001b[1m3×2 DataFrame\u001b[0m\n",
       "\u001b[1m Row \u001b[0m│\u001b[1m Mes    \u001b[0m\u001b[1m Beneficios \u001b[0m\n",
       "     │\u001b[90m String \u001b[0m\u001b[90m Int64      \u001b[0m\n",
       "─────┼────────────────────\n",
       "   1 │ Enero         5150\n",
       "   2 │ Marzo         8500\n",
       "   3 │ Abril         6550"
      ]
     },
     "execution_count": 5,
     "metadata": {},
     "output_type": "execute_result"
    }
   ],
   "source": [
    "df[df.Balance .== \"positivo\", [:Mes, :Beneficios]]"
   ]
  },
  {
   "cell_type": "code",
   "execution_count": 6,
   "id": "a6359ea6",
   "metadata": {
    "md-indent": "    "
   },
   "outputs": [
    {
     "data": {
      "text/html": [
       "<div><div style = \"float: left;\"><span>14×6 DataFrame</span></div><div style = \"clear: both;\"></div></div><div class = \"data-frame\" style = \"overflow-x: scroll;\"><table class = \"data-frame\" style = \"margin-bottom: 6px;\"><thead><tr class = \"header\"><th class = \"rowNumber\" style = \"font-weight: bold; text-align: right;\">Row</th><th style = \"text-align: left;\">nombre</th><th style = \"text-align: left;\">edad</th><th style = \"text-align: left;\">sexo</th><th style = \"text-align: left;\">peso</th><th style = \"text-align: left;\">altura</th><th style = \"text-align: left;\">colesterol</th></tr><tr class = \"subheader headerLastRow\"><th class = \"rowNumber\" style = \"font-weight: bold; text-align: right;\"></th><th title = \"String\" style = \"text-align: left;\">String</th><th title = \"Int64\" style = \"text-align: left;\">Int64</th><th title = \"String1\" style = \"text-align: left;\">String1</th><th title = \"Union{Missing, Float64}\" style = \"text-align: left;\">Float64?</th><th title = \"Float64\" style = \"text-align: left;\">Float64</th><th title = \"Union{Missing, Float64}\" style = \"text-align: left;\">Float64?</th></tr></thead><tbody><tr><td class = \"rowNumber\" style = \"font-weight: bold; text-align: right;\">1</td><td style = \"text-align: left;\">José Luis Martínez Izquierdo</td><td style = \"text-align: right;\">18</td><td style = \"text-align: left;\">H</td><td style = \"text-align: right;\">85.0</td><td style = \"text-align: right;\">1.79</td><td style = \"text-align: right;\">182.0</td></tr><tr><td class = \"rowNumber\" style = \"font-weight: bold; text-align: right;\">2</td><td style = \"text-align: left;\">Rosa Díaz Díaz</td><td style = \"text-align: right;\">32</td><td style = \"text-align: left;\">M</td><td style = \"text-align: right;\">65.0</td><td style = \"text-align: right;\">1.73</td><td style = \"text-align: right;\">232.0</td></tr><tr><td class = \"rowNumber\" style = \"font-weight: bold; text-align: right;\">3</td><td style = \"text-align: left;\">Javier García Sánchez</td><td style = \"text-align: right;\">24</td><td style = \"text-align: left;\">H</td><td style = \"font-style: italic; text-align: right;\">missing</td><td style = \"text-align: right;\">1.81</td><td style = \"text-align: right;\">191.0</td></tr><tr><td class = \"rowNumber\" style = \"font-weight: bold; text-align: right;\">4</td><td style = \"text-align: left;\">Carmen López Pinzón</td><td style = \"text-align: right;\">35</td><td style = \"text-align: left;\">M</td><td style = \"text-align: right;\">65.0</td><td style = \"text-align: right;\">1.7</td><td style = \"text-align: right;\">200.0</td></tr><tr><td class = \"rowNumber\" style = \"font-weight: bold; text-align: right;\">5</td><td style = \"text-align: left;\">Marisa López Collado</td><td style = \"text-align: right;\">46</td><td style = \"text-align: left;\">M</td><td style = \"text-align: right;\">51.0</td><td style = \"text-align: right;\">1.58</td><td style = \"text-align: right;\">148.0</td></tr><tr><td class = \"rowNumber\" style = \"font-weight: bold; text-align: right;\">6</td><td style = \"text-align: left;\">Antonio Ruiz Cruz</td><td style = \"text-align: right;\">68</td><td style = \"text-align: left;\">H</td><td style = \"text-align: right;\">66.0</td><td style = \"text-align: right;\">1.74</td><td style = \"text-align: right;\">249.0</td></tr><tr><td class = \"rowNumber\" style = \"font-weight: bold; text-align: right;\">7</td><td style = \"text-align: left;\">Antonio Fernández Ocaña</td><td style = \"text-align: right;\">51</td><td style = \"text-align: left;\">H</td><td style = \"text-align: right;\">62.0</td><td style = \"text-align: right;\">1.72</td><td style = \"text-align: right;\">276.0</td></tr><tr><td class = \"rowNumber\" style = \"font-weight: bold; text-align: right;\">8</td><td style = \"text-align: left;\">Pilar Martín González</td><td style = \"text-align: right;\">22</td><td style = \"text-align: left;\">M</td><td style = \"text-align: right;\">60.0</td><td style = \"text-align: right;\">1.66</td><td style = \"font-style: italic; text-align: right;\">missing</td></tr><tr><td class = \"rowNumber\" style = \"font-weight: bold; text-align: right;\">9</td><td style = \"text-align: left;\">Pedro Gálvez Tenorio</td><td style = \"text-align: right;\">35</td><td style = \"text-align: left;\">H</td><td style = \"text-align: right;\">90.0</td><td style = \"text-align: right;\">1.94</td><td style = \"text-align: right;\">241.0</td></tr><tr><td class = \"rowNumber\" style = \"font-weight: bold; text-align: right;\">10</td><td style = \"text-align: left;\">Santiago Reillo Manzano</td><td style = \"text-align: right;\">46</td><td style = \"text-align: left;\">H</td><td style = \"text-align: right;\">75.0</td><td style = \"text-align: right;\">1.85</td><td style = \"text-align: right;\">280.0</td></tr><tr><td class = \"rowNumber\" style = \"font-weight: bold; text-align: right;\">11</td><td style = \"text-align: left;\">Macarena Álvarez Luna</td><td style = \"text-align: right;\">53</td><td style = \"text-align: left;\">M</td><td style = \"text-align: right;\">55.0</td><td style = \"text-align: right;\">1.62</td><td style = \"text-align: right;\">262.0</td></tr><tr><td class = \"rowNumber\" style = \"font-weight: bold; text-align: right;\">12</td><td style = \"text-align: left;\">José María de la Guía Sanz</td><td style = \"text-align: right;\">58</td><td style = \"text-align: left;\">H</td><td style = \"text-align: right;\">78.0</td><td style = \"text-align: right;\">1.87</td><td style = \"text-align: right;\">198.0</td></tr><tr><td class = \"rowNumber\" style = \"font-weight: bold; text-align: right;\">13</td><td style = \"text-align: left;\">Miguel Angel Cuadrado Gutiérrez</td><td style = \"text-align: right;\">27</td><td style = \"text-align: left;\">H</td><td style = \"text-align: right;\">109.0</td><td style = \"text-align: right;\">1.98</td><td style = \"text-align: right;\">210.0</td></tr><tr><td class = \"rowNumber\" style = \"font-weight: bold; text-align: right;\">14</td><td style = \"text-align: left;\">Carolina Rubio Moreno</td><td style = \"text-align: right;\">20</td><td style = \"text-align: left;\">M</td><td style = \"text-align: right;\">61.0</td><td style = \"text-align: right;\">1.77</td><td style = \"text-align: right;\">194.0</td></tr></tbody></table></div>"
      ],
      "text/latex": [
       "\\begin{tabular}{r|cccccc}\n",
       "\t& nombre & edad & sexo & peso & altura & colesterol\\\\\n",
       "\t\\hline\n",
       "\t& String & Int64 & String1 & Float64? & Float64 & Float64?\\\\\n",
       "\t\\hline\n",
       "\t1 & José Luis Martínez Izquierdo & 18 & H & 85.0 & 1.79 & 182.0 \\\\\n",
       "\t2 & Rosa Díaz Díaz & 32 & M & 65.0 & 1.73 & 232.0 \\\\\n",
       "\t3 & Javier García Sánchez & 24 & H & \\emph{missing} & 1.81 & 191.0 \\\\\n",
       "\t4 & Carmen López Pinzón & 35 & M & 65.0 & 1.7 & 200.0 \\\\\n",
       "\t5 & Marisa López Collado & 46 & M & 51.0 & 1.58 & 148.0 \\\\\n",
       "\t6 & Antonio Ruiz Cruz & 68 & H & 66.0 & 1.74 & 249.0 \\\\\n",
       "\t7 & Antonio Fernández Ocaña & 51 & H & 62.0 & 1.72 & 276.0 \\\\\n",
       "\t8 & Pilar Martín González & 22 & M & 60.0 & 1.66 & \\emph{missing} \\\\\n",
       "\t9 & Pedro Gálvez Tenorio & 35 & H & 90.0 & 1.94 & 241.0 \\\\\n",
       "\t10 & Santiago Reillo Manzano & 46 & H & 75.0 & 1.85 & 280.0 \\\\\n",
       "\t11 & Macarena Álvarez Luna & 53 & M & 55.0 & 1.62 & 262.0 \\\\\n",
       "\t12 & José María de la Guía Sanz & 58 & H & 78.0 & 1.87 & 198.0 \\\\\n",
       "\t13 & Miguel Angel Cuadrado Gutiérrez & 27 & H & 109.0 & 1.98 & 210.0 \\\\\n",
       "\t14 & Carolina Rubio Moreno & 20 & M & 61.0 & 1.77 & 194.0 \\\\\n",
       "\\end{tabular}\n"
      ],
      "text/plain": [
       "\u001b[1m14×6 DataFrame\u001b[0m\n",
       "\u001b[1m Row \u001b[0m│\u001b[1m nombre                          \u001b[0m\u001b[1m edad  \u001b[0m\u001b[1m sexo    \u001b[0m\u001b[1m peso      \u001b[0m\u001b[1m altura  \u001b[0m\u001b[1m co\u001b[0m ⋯\n",
       "     │\u001b[90m String                          \u001b[0m\u001b[90m Int64 \u001b[0m\u001b[90m String1 \u001b[0m\u001b[90m Float64?  \u001b[0m\u001b[90m Float64 \u001b[0m\u001b[90m Fl\u001b[0m ⋯\n",
       "─────┼──────────────────────────────────────────────────────────────────────────\n",
       "   1 │ José Luis Martínez Izquierdo        18  H             85.0     1.79     ⋯\n",
       "   2 │ Rosa Díaz Díaz                      32  M             65.0     1.73\n",
       "   3 │ Javier García Sánchez               24  H       \u001b[90m missing   \u001b[0m    1.81\n",
       "   4 │ Carmen López Pinzón                 35  M             65.0     1.7\n",
       "   5 │ Marisa López Collado                46  M             51.0     1.58     ⋯\n",
       "   6 │ Antonio Ruiz Cruz                   68  H             66.0     1.74\n",
       "   7 │ Antonio Fernández Ocaña             51  H             62.0     1.72\n",
       "   8 │ Pilar Martín González               22  M             60.0     1.66 \u001b[90m  m\u001b[0m\n",
       "   9 │ Pedro Gálvez Tenorio                35  H             90.0     1.94     ⋯\n",
       "  10 │ Santiago Reillo Manzano             46  H             75.0     1.85\n",
       "  11 │ Macarena Álvarez Luna               53  M             55.0     1.62\n",
       "  12 │ José María de la Guía Sanz          58  H             78.0     1.87\n",
       "  13 │ Miguel Angel Cuadrado Gutiérrez     27  H            109.0     1.98     ⋯\n",
       "  14 │ Carolina Rubio Moreno               20  M             61.0     1.77\n",
       "\u001b[36m                                                                1 column omitted\u001b[0m"
      ]
     },
     "execution_count": 6,
     "metadata": {},
     "output_type": "execute_result"
    }
   ],
   "source": [
    "using CSV\n",
    "df = CSV.read(download(\"https://aprendeconalf.es/aprendizaje-automatico-practicas-julia/datos/colesterol.csv\"), DataFrame)"
   ]
  },
  {
   "cell_type": "code",
   "execution_count": 7,
   "id": "16bfddaa",
   "metadata": {
    "md-indent": "    "
   },
   "outputs": [
    {
     "data": {
      "text/html": [
       "<div><div style = \"float: left;\"><span>14×7 DataFrame</span></div><div style = \"clear: both;\"></div></div><div class = \"data-frame\" style = \"overflow-x: scroll;\"><table class = \"data-frame\" style = \"margin-bottom: 6px;\"><thead><tr class = \"header\"><th class = \"rowNumber\" style = \"font-weight: bold; text-align: right;\">Row</th><th style = \"text-align: left;\">nombre</th><th style = \"text-align: left;\">edad</th><th style = \"text-align: left;\">sexo</th><th style = \"text-align: left;\">peso</th><th style = \"text-align: left;\">altura</th><th style = \"text-align: left;\">colesterol</th><th style = \"text-align: left;\">imc</th></tr><tr class = \"subheader headerLastRow\"><th class = \"rowNumber\" style = \"font-weight: bold; text-align: right;\"></th><th title = \"String\" style = \"text-align: left;\">String</th><th title = \"Int64\" style = \"text-align: left;\">Int64</th><th title = \"String1\" style = \"text-align: left;\">String1</th><th title = \"Union{Missing, Float64}\" style = \"text-align: left;\">Float64?</th><th title = \"Float64\" style = \"text-align: left;\">Float64</th><th title = \"Union{Missing, Float64}\" style = \"text-align: left;\">Float64?</th><th title = \"Union{Missing, Float64}\" style = \"text-align: left;\">Float64?</th></tr></thead><tbody><tr><td class = \"rowNumber\" style = \"font-weight: bold; text-align: right;\">1</td><td style = \"text-align: left;\">José Luis Martínez Izquierdo</td><td style = \"text-align: right;\">18</td><td style = \"text-align: left;\">H</td><td style = \"text-align: right;\">85.0</td><td style = \"text-align: right;\">1.79</td><td style = \"text-align: right;\">182.0</td><td style = \"text-align: right;\">26.5285</td></tr><tr><td class = \"rowNumber\" style = \"font-weight: bold; text-align: right;\">2</td><td style = \"text-align: left;\">Rosa Díaz Díaz</td><td style = \"text-align: right;\">32</td><td style = \"text-align: left;\">M</td><td style = \"text-align: right;\">65.0</td><td style = \"text-align: right;\">1.73</td><td style = \"text-align: right;\">232.0</td><td style = \"text-align: right;\">21.7181</td></tr><tr><td class = \"rowNumber\" style = \"font-weight: bold; text-align: right;\">3</td><td style = \"text-align: left;\">Javier García Sánchez</td><td style = \"text-align: right;\">24</td><td style = \"text-align: left;\">H</td><td style = \"font-style: italic; text-align: right;\">missing</td><td style = \"text-align: right;\">1.81</td><td style = \"text-align: right;\">191.0</td><td style = \"font-style: italic; text-align: right;\">missing</td></tr><tr><td class = \"rowNumber\" style = \"font-weight: bold; text-align: right;\">4</td><td style = \"text-align: left;\">Carmen López Pinzón</td><td style = \"text-align: right;\">35</td><td style = \"text-align: left;\">M</td><td style = \"text-align: right;\">65.0</td><td style = \"text-align: right;\">1.7</td><td style = \"text-align: right;\">200.0</td><td style = \"text-align: right;\">22.4913</td></tr><tr><td class = \"rowNumber\" style = \"font-weight: bold; text-align: right;\">5</td><td style = \"text-align: left;\">Marisa López Collado</td><td style = \"text-align: right;\">46</td><td style = \"text-align: left;\">M</td><td style = \"text-align: right;\">51.0</td><td style = \"text-align: right;\">1.58</td><td style = \"text-align: right;\">148.0</td><td style = \"text-align: right;\">20.4294</td></tr><tr><td class = \"rowNumber\" style = \"font-weight: bold; text-align: right;\">6</td><td style = \"text-align: left;\">Antonio Ruiz Cruz</td><td style = \"text-align: right;\">68</td><td style = \"text-align: left;\">H</td><td style = \"text-align: right;\">66.0</td><td style = \"text-align: right;\">1.74</td><td style = \"text-align: right;\">249.0</td><td style = \"text-align: right;\">21.7994</td></tr><tr><td class = \"rowNumber\" style = \"font-weight: bold; text-align: right;\">7</td><td style = \"text-align: left;\">Antonio Fernández Ocaña</td><td style = \"text-align: right;\">51</td><td style = \"text-align: left;\">H</td><td style = \"text-align: right;\">62.0</td><td style = \"text-align: right;\">1.72</td><td style = \"text-align: right;\">276.0</td><td style = \"text-align: right;\">20.9573</td></tr><tr><td class = \"rowNumber\" style = \"font-weight: bold; text-align: right;\">8</td><td style = \"text-align: left;\">Pilar Martín González</td><td style = \"text-align: right;\">22</td><td style = \"text-align: left;\">M</td><td style = \"text-align: right;\">60.0</td><td style = \"text-align: right;\">1.66</td><td style = \"font-style: italic; text-align: right;\">missing</td><td style = \"text-align: right;\">21.7738</td></tr><tr><td class = \"rowNumber\" style = \"font-weight: bold; text-align: right;\">9</td><td style = \"text-align: left;\">Pedro Gálvez Tenorio</td><td style = \"text-align: right;\">35</td><td style = \"text-align: left;\">H</td><td style = \"text-align: right;\">90.0</td><td style = \"text-align: right;\">1.94</td><td style = \"text-align: right;\">241.0</td><td style = \"text-align: right;\">23.9133</td></tr><tr><td class = \"rowNumber\" style = \"font-weight: bold; text-align: right;\">10</td><td style = \"text-align: left;\">Santiago Reillo Manzano</td><td style = \"text-align: right;\">46</td><td style = \"text-align: left;\">H</td><td style = \"text-align: right;\">75.0</td><td style = \"text-align: right;\">1.85</td><td style = \"text-align: right;\">280.0</td><td style = \"text-align: right;\">21.9138</td></tr><tr><td class = \"rowNumber\" style = \"font-weight: bold; text-align: right;\">11</td><td style = \"text-align: left;\">Macarena Álvarez Luna</td><td style = \"text-align: right;\">53</td><td style = \"text-align: left;\">M</td><td style = \"text-align: right;\">55.0</td><td style = \"text-align: right;\">1.62</td><td style = \"text-align: right;\">262.0</td><td style = \"text-align: right;\">20.9572</td></tr><tr><td class = \"rowNumber\" style = \"font-weight: bold; text-align: right;\">12</td><td style = \"text-align: left;\">José María de la Guía Sanz</td><td style = \"text-align: right;\">58</td><td style = \"text-align: left;\">H</td><td style = \"text-align: right;\">78.0</td><td style = \"text-align: right;\">1.87</td><td style = \"text-align: right;\">198.0</td><td style = \"text-align: right;\">22.3055</td></tr><tr><td class = \"rowNumber\" style = \"font-weight: bold; text-align: right;\">13</td><td style = \"text-align: left;\">Miguel Angel Cuadrado Gutiérrez</td><td style = \"text-align: right;\">27</td><td style = \"text-align: left;\">H</td><td style = \"text-align: right;\">109.0</td><td style = \"text-align: right;\">1.98</td><td style = \"text-align: right;\">210.0</td><td style = \"text-align: right;\">27.8033</td></tr><tr><td class = \"rowNumber\" style = \"font-weight: bold; text-align: right;\">14</td><td style = \"text-align: left;\">Carolina Rubio Moreno</td><td style = \"text-align: right;\">20</td><td style = \"text-align: left;\">M</td><td style = \"text-align: right;\">61.0</td><td style = \"text-align: right;\">1.77</td><td style = \"text-align: right;\">194.0</td><td style = \"text-align: right;\">19.4708</td></tr></tbody></table></div>"
      ],
      "text/latex": [
       "\\begin{tabular}{r|ccccccc}\n",
       "\t& nombre & edad & sexo & peso & altura & colesterol & \\\\\n",
       "\t\\hline\n",
       "\t& String & Int64 & String1 & Float64? & Float64 & Float64? & \\\\\n",
       "\t\\hline\n",
       "\t1 & José Luis Martínez Izquierdo & 18 & H & 85.0 & 1.79 & 182.0 & $\\dots$ \\\\\n",
       "\t2 & Rosa Díaz Díaz & 32 & M & 65.0 & 1.73 & 232.0 & $\\dots$ \\\\\n",
       "\t3 & Javier García Sánchez & 24 & H & \\emph{missing} & 1.81 & 191.0 & $\\dots$ \\\\\n",
       "\t4 & Carmen López Pinzón & 35 & M & 65.0 & 1.7 & 200.0 & $\\dots$ \\\\\n",
       "\t5 & Marisa López Collado & 46 & M & 51.0 & 1.58 & 148.0 & $\\dots$ \\\\\n",
       "\t6 & Antonio Ruiz Cruz & 68 & H & 66.0 & 1.74 & 249.0 & $\\dots$ \\\\\n",
       "\t7 & Antonio Fernández Ocaña & 51 & H & 62.0 & 1.72 & 276.0 & $\\dots$ \\\\\n",
       "\t8 & Pilar Martín González & 22 & M & 60.0 & 1.66 & \\emph{missing} & $\\dots$ \\\\\n",
       "\t9 & Pedro Gálvez Tenorio & 35 & H & 90.0 & 1.94 & 241.0 & $\\dots$ \\\\\n",
       "\t10 & Santiago Reillo Manzano & 46 & H & 75.0 & 1.85 & 280.0 & $\\dots$ \\\\\n",
       "\t11 & Macarena Álvarez Luna & 53 & M & 55.0 & 1.62 & 262.0 & $\\dots$ \\\\\n",
       "\t12 & José María de la Guía Sanz & 58 & H & 78.0 & 1.87 & 198.0 & $\\dots$ \\\\\n",
       "\t13 & Miguel Angel Cuadrado Gutiérrez & 27 & H & 109.0 & 1.98 & 210.0 & $\\dots$ \\\\\n",
       "\t14 & Carolina Rubio Moreno & 20 & M & 61.0 & 1.77 & 194.0 & $\\dots$ \\\\\n",
       "\\end{tabular}\n"
      ],
      "text/plain": [
       "\u001b[1m14×7 DataFrame\u001b[0m\n",
       "\u001b[1m Row \u001b[0m│\u001b[1m nombre                          \u001b[0m\u001b[1m edad  \u001b[0m\u001b[1m sexo    \u001b[0m\u001b[1m peso      \u001b[0m\u001b[1m altura  \u001b[0m\u001b[1m co\u001b[0m ⋯\n",
       "     │\u001b[90m String                          \u001b[0m\u001b[90m Int64 \u001b[0m\u001b[90m String1 \u001b[0m\u001b[90m Float64?  \u001b[0m\u001b[90m Float64 \u001b[0m\u001b[90m Fl\u001b[0m ⋯\n",
       "─────┼──────────────────────────────────────────────────────────────────────────\n",
       "   1 │ José Luis Martínez Izquierdo        18  H             85.0     1.79     ⋯\n",
       "   2 │ Rosa Díaz Díaz                      32  M             65.0     1.73\n",
       "   3 │ Javier García Sánchez               24  H       \u001b[90m missing   \u001b[0m    1.81\n",
       "   4 │ Carmen López Pinzón                 35  M             65.0     1.7\n",
       "   5 │ Marisa López Collado                46  M             51.0     1.58     ⋯\n",
       "   6 │ Antonio Ruiz Cruz                   68  H             66.0     1.74\n",
       "   7 │ Antonio Fernández Ocaña             51  H             62.0     1.72\n",
       "   8 │ Pilar Martín González               22  M             60.0     1.66 \u001b[90m  m\u001b[0m\n",
       "   9 │ Pedro Gálvez Tenorio                35  H             90.0     1.94     ⋯\n",
       "  10 │ Santiago Reillo Manzano             46  H             75.0     1.85\n",
       "  11 │ Macarena Álvarez Luna               53  M             55.0     1.62\n",
       "  12 │ José María de la Guía Sanz          58  H             78.0     1.87\n",
       "  13 │ Miguel Angel Cuadrado Gutiérrez     27  H            109.0     1.98     ⋯\n",
       "  14 │ Carolina Rubio Moreno               20  M             61.0     1.77\n",
       "\u001b[36m                                                               2 columns omitted\u001b[0m"
      ]
     },
     "execution_count": 7,
     "metadata": {},
     "output_type": "execute_result"
    }
   ],
   "source": [
    "df.imc = df.peso ./ (df.altura .^ 2)\n",
    "df"
   ]
  },
  {
   "cell_type": "code",
   "execution_count": 8,
   "id": "420f551f",
   "metadata": {
    "md-indent": "    "
   },
   "outputs": [
    {
     "data": {
      "text/html": [
       "<div><div style = \"float: left;\"><span>14×8 DataFrame</span></div><div style = \"clear: both;\"></div></div><div class = \"data-frame\" style = \"overflow-x: scroll;\"><table class = \"data-frame\" style = \"margin-bottom: 6px;\"><thead><tr class = \"header\"><th class = \"rowNumber\" style = \"font-weight: bold; text-align: right;\">Row</th><th style = \"text-align: left;\">nombre</th><th style = \"text-align: left;\">edad</th><th style = \"text-align: left;\">sexo</th><th style = \"text-align: left;\">peso</th><th style = \"text-align: left;\">altura</th><th style = \"text-align: left;\">colesterol</th><th style = \"text-align: left;\">imc</th><th style = \"text-align: left;\">obesidad</th></tr><tr class = \"subheader headerLastRow\"><th class = \"rowNumber\" style = \"font-weight: bold; text-align: right;\"></th><th title = \"String\" style = \"text-align: left;\">String</th><th title = \"Int64\" style = \"text-align: left;\">Int64</th><th title = \"String1\" style = \"text-align: left;\">String1</th><th title = \"Union{Missing, Float64}\" style = \"text-align: left;\">Float64?</th><th title = \"Float64\" style = \"text-align: left;\">Float64</th><th title = \"Union{Missing, Float64}\" style = \"text-align: left;\">Float64?</th><th title = \"Union{Missing, Float64}\" style = \"text-align: left;\">Float64?</th><th title = \"Union{Missing, CategoricalValue{String, UInt32}}\" style = \"text-align: left;\">Cat…?</th></tr></thead><tbody><tr><td class = \"rowNumber\" style = \"font-weight: bold; text-align: right;\">1</td><td style = \"text-align: left;\">José Luis Martínez Izquierdo</td><td style = \"text-align: right;\">18</td><td style = \"text-align: left;\">H</td><td style = \"text-align: right;\">85.0</td><td style = \"text-align: right;\">1.79</td><td style = \"text-align: right;\">182.0</td><td style = \"text-align: right;\">26.5285</td><td style = \"text-align: left;\">Sobrepeso</td></tr><tr><td class = \"rowNumber\" style = \"font-weight: bold; text-align: right;\">2</td><td style = \"text-align: left;\">Rosa Díaz Díaz</td><td style = \"text-align: right;\">32</td><td style = \"text-align: left;\">M</td><td style = \"text-align: right;\">65.0</td><td style = \"text-align: right;\">1.73</td><td style = \"text-align: right;\">232.0</td><td style = \"text-align: right;\">21.7181</td><td style = \"text-align: left;\">Saludable</td></tr><tr><td class = \"rowNumber\" style = \"font-weight: bold; text-align: right;\">3</td><td style = \"text-align: left;\">Javier García Sánchez</td><td style = \"text-align: right;\">24</td><td style = \"text-align: left;\">H</td><td style = \"font-style: italic; text-align: right;\">missing</td><td style = \"text-align: right;\">1.81</td><td style = \"text-align: right;\">191.0</td><td style = \"font-style: italic; text-align: right;\">missing</td><td style = \"font-style: italic; text-align: left;\">missing</td></tr><tr><td class = \"rowNumber\" style = \"font-weight: bold; text-align: right;\">4</td><td style = \"text-align: left;\">Carmen López Pinzón</td><td style = \"text-align: right;\">35</td><td style = \"text-align: left;\">M</td><td style = \"text-align: right;\">65.0</td><td style = \"text-align: right;\">1.7</td><td style = \"text-align: right;\">200.0</td><td style = \"text-align: right;\">22.4913</td><td style = \"text-align: left;\">Saludable</td></tr><tr><td class = \"rowNumber\" style = \"font-weight: bold; text-align: right;\">5</td><td style = \"text-align: left;\">Marisa López Collado</td><td style = \"text-align: right;\">46</td><td style = \"text-align: left;\">M</td><td style = \"text-align: right;\">51.0</td><td style = \"text-align: right;\">1.58</td><td style = \"text-align: right;\">148.0</td><td style = \"text-align: right;\">20.4294</td><td style = \"text-align: left;\">Saludable</td></tr><tr><td class = \"rowNumber\" style = \"font-weight: bold; text-align: right;\">6</td><td style = \"text-align: left;\">Antonio Ruiz Cruz</td><td style = \"text-align: right;\">68</td><td style = \"text-align: left;\">H</td><td style = \"text-align: right;\">66.0</td><td style = \"text-align: right;\">1.74</td><td style = \"text-align: right;\">249.0</td><td style = \"text-align: right;\">21.7994</td><td style = \"text-align: left;\">Saludable</td></tr><tr><td class = \"rowNumber\" style = \"font-weight: bold; text-align: right;\">7</td><td style = \"text-align: left;\">Antonio Fernández Ocaña</td><td style = \"text-align: right;\">51</td><td style = \"text-align: left;\">H</td><td style = \"text-align: right;\">62.0</td><td style = \"text-align: right;\">1.72</td><td style = \"text-align: right;\">276.0</td><td style = \"text-align: right;\">20.9573</td><td style = \"text-align: left;\">Saludable</td></tr><tr><td class = \"rowNumber\" style = \"font-weight: bold; text-align: right;\">8</td><td style = \"text-align: left;\">Pilar Martín González</td><td style = \"text-align: right;\">22</td><td style = \"text-align: left;\">M</td><td style = \"text-align: right;\">60.0</td><td style = \"text-align: right;\">1.66</td><td style = \"font-style: italic; text-align: right;\">missing</td><td style = \"text-align: right;\">21.7738</td><td style = \"text-align: left;\">Saludable</td></tr><tr><td class = \"rowNumber\" style = \"font-weight: bold; text-align: right;\">9</td><td style = \"text-align: left;\">Pedro Gálvez Tenorio</td><td style = \"text-align: right;\">35</td><td style = \"text-align: left;\">H</td><td style = \"text-align: right;\">90.0</td><td style = \"text-align: right;\">1.94</td><td style = \"text-align: right;\">241.0</td><td style = \"text-align: right;\">23.9133</td><td style = \"text-align: left;\">Saludable</td></tr><tr><td class = \"rowNumber\" style = \"font-weight: bold; text-align: right;\">10</td><td style = \"text-align: left;\">Santiago Reillo Manzano</td><td style = \"text-align: right;\">46</td><td style = \"text-align: left;\">H</td><td style = \"text-align: right;\">75.0</td><td style = \"text-align: right;\">1.85</td><td style = \"text-align: right;\">280.0</td><td style = \"text-align: right;\">21.9138</td><td style = \"text-align: left;\">Saludable</td></tr><tr><td class = \"rowNumber\" style = \"font-weight: bold; text-align: right;\">11</td><td style = \"text-align: left;\">Macarena Álvarez Luna</td><td style = \"text-align: right;\">53</td><td style = \"text-align: left;\">M</td><td style = \"text-align: right;\">55.0</td><td style = \"text-align: right;\">1.62</td><td style = \"text-align: right;\">262.0</td><td style = \"text-align: right;\">20.9572</td><td style = \"text-align: left;\">Saludable</td></tr><tr><td class = \"rowNumber\" style = \"font-weight: bold; text-align: right;\">12</td><td style = \"text-align: left;\">José María de la Guía Sanz</td><td style = \"text-align: right;\">58</td><td style = \"text-align: left;\">H</td><td style = \"text-align: right;\">78.0</td><td style = \"text-align: right;\">1.87</td><td style = \"text-align: right;\">198.0</td><td style = \"text-align: right;\">22.3055</td><td style = \"text-align: left;\">Saludable</td></tr><tr><td class = \"rowNumber\" style = \"font-weight: bold; text-align: right;\">13</td><td style = \"text-align: left;\">Miguel Angel Cuadrado Gutiérrez</td><td style = \"text-align: right;\">27</td><td style = \"text-align: left;\">H</td><td style = \"text-align: right;\">109.0</td><td style = \"text-align: right;\">1.98</td><td style = \"text-align: right;\">210.0</td><td style = \"text-align: right;\">27.8033</td><td style = \"text-align: left;\">Sobrepeso</td></tr><tr><td class = \"rowNumber\" style = \"font-weight: bold; text-align: right;\">14</td><td style = \"text-align: left;\">Carolina Rubio Moreno</td><td style = \"text-align: right;\">20</td><td style = \"text-align: left;\">M</td><td style = \"text-align: right;\">61.0</td><td style = \"text-align: right;\">1.77</td><td style = \"text-align: right;\">194.0</td><td style = \"text-align: right;\">19.4708</td><td style = \"text-align: left;\">Saludable</td></tr></tbody></table></div>"
      ],
      "text/latex": [
       "\\begin{tabular}{r|ccccccc}\n",
       "\t& nombre & edad & sexo & peso & altura & colesterol & \\\\\n",
       "\t\\hline\n",
       "\t& String & Int64 & String1 & Float64? & Float64 & Float64? & \\\\\n",
       "\t\\hline\n",
       "\t1 & José Luis Martínez Izquierdo & 18 & H & 85.0 & 1.79 & 182.0 & $\\dots$ \\\\\n",
       "\t2 & Rosa Díaz Díaz & 32 & M & 65.0 & 1.73 & 232.0 & $\\dots$ \\\\\n",
       "\t3 & Javier García Sánchez & 24 & H & \\emph{missing} & 1.81 & 191.0 & $\\dots$ \\\\\n",
       "\t4 & Carmen López Pinzón & 35 & M & 65.0 & 1.7 & 200.0 & $\\dots$ \\\\\n",
       "\t5 & Marisa López Collado & 46 & M & 51.0 & 1.58 & 148.0 & $\\dots$ \\\\\n",
       "\t6 & Antonio Ruiz Cruz & 68 & H & 66.0 & 1.74 & 249.0 & $\\dots$ \\\\\n",
       "\t7 & Antonio Fernández Ocaña & 51 & H & 62.0 & 1.72 & 276.0 & $\\dots$ \\\\\n",
       "\t8 & Pilar Martín González & 22 & M & 60.0 & 1.66 & \\emph{missing} & $\\dots$ \\\\\n",
       "\t9 & Pedro Gálvez Tenorio & 35 & H & 90.0 & 1.94 & 241.0 & $\\dots$ \\\\\n",
       "\t10 & Santiago Reillo Manzano & 46 & H & 75.0 & 1.85 & 280.0 & $\\dots$ \\\\\n",
       "\t11 & Macarena Álvarez Luna & 53 & M & 55.0 & 1.62 & 262.0 & $\\dots$ \\\\\n",
       "\t12 & José María de la Guía Sanz & 58 & H & 78.0 & 1.87 & 198.0 & $\\dots$ \\\\\n",
       "\t13 & Miguel Angel Cuadrado Gutiérrez & 27 & H & 109.0 & 1.98 & 210.0 & $\\dots$ \\\\\n",
       "\t14 & Carolina Rubio Moreno & 20 & M & 61.0 & 1.77 & 194.0 & $\\dots$ \\\\\n",
       "\\end{tabular}\n"
      ],
      "text/plain": [
       "\u001b[1m14×8 DataFrame\u001b[0m\n",
       "\u001b[1m Row \u001b[0m│\u001b[1m nombre                          \u001b[0m\u001b[1m edad  \u001b[0m\u001b[1m sexo    \u001b[0m\u001b[1m peso      \u001b[0m\u001b[1m altura  \u001b[0m\u001b[1m co\u001b[0m ⋯\n",
       "     │\u001b[90m String                          \u001b[0m\u001b[90m Int64 \u001b[0m\u001b[90m String1 \u001b[0m\u001b[90m Float64?  \u001b[0m\u001b[90m Float64 \u001b[0m\u001b[90m Fl\u001b[0m ⋯\n",
       "─────┼──────────────────────────────────────────────────────────────────────────\n",
       "   1 │ José Luis Martínez Izquierdo        18  H             85.0     1.79     ⋯\n",
       "   2 │ Rosa Díaz Díaz                      32  M             65.0     1.73\n",
       "   3 │ Javier García Sánchez               24  H       \u001b[90m missing   \u001b[0m    1.81\n",
       "   4 │ Carmen López Pinzón                 35  M             65.0     1.7\n",
       "   5 │ Marisa López Collado                46  M             51.0     1.58     ⋯\n",
       "   6 │ Antonio Ruiz Cruz                   68  H             66.0     1.74\n",
       "   7 │ Antonio Fernández Ocaña             51  H             62.0     1.72\n",
       "   8 │ Pilar Martín González               22  M             60.0     1.66 \u001b[90m  m\u001b[0m\n",
       "   9 │ Pedro Gálvez Tenorio                35  H             90.0     1.94     ⋯\n",
       "  10 │ Santiago Reillo Manzano             46  H             75.0     1.85\n",
       "  11 │ Macarena Álvarez Luna               53  M             55.0     1.62\n",
       "  12 │ José María de la Guía Sanz          58  H             78.0     1.87\n",
       "  13 │ Miguel Angel Cuadrado Gutiérrez     27  H            109.0     1.98     ⋯\n",
       "  14 │ Carolina Rubio Moreno               20  M             61.0     1.77\n",
       "\u001b[36m                                                               3 columns omitted\u001b[0m"
      ]
     },
     "execution_count": 8,
     "metadata": {},
     "output_type": "execute_result"
    }
   ],
   "source": [
    "using CategoricalArrays\n",
    "df.obesidad = cut(df.imc, [0, 18.5, 24.5, 30, Inf],\n",
    "                labels=[\"Bajo peso\", \"Saludable\", \"Sobrepeso\", \"Obeso\"],\n",
    "                extend=true)\n",
    "df"
   ]
  },
  {
   "cell_type": "code",
   "execution_count": 9,
   "id": "b63c5e88",
   "metadata": {
    "md-indent": "    "
   },
   "outputs": [
    {
     "data": {
      "text/html": [
       "<div><div style = \"float: left;\"><span>14×3 DataFrame</span></div><div style = \"clear: both;\"></div></div><div class = \"data-frame\" style = \"overflow-x: scroll;\"><table class = \"data-frame\" style = \"margin-bottom: 6px;\"><thead><tr class = \"header\"><th class = \"rowNumber\" style = \"font-weight: bold; text-align: right;\">Row</th><th style = \"text-align: left;\">nombre</th><th style = \"text-align: left;\">sexo</th><th style = \"text-align: left;\">edad</th></tr><tr class = \"subheader headerLastRow\"><th class = \"rowNumber\" style = \"font-weight: bold; text-align: right;\"></th><th title = \"String\" style = \"text-align: left;\">String</th><th title = \"String1\" style = \"text-align: left;\">String1</th><th title = \"Int64\" style = \"text-align: left;\">Int64</th></tr></thead><tbody><tr><td class = \"rowNumber\" style = \"font-weight: bold; text-align: right;\">1</td><td style = \"text-align: left;\">José Luis Martínez Izquierdo</td><td style = \"text-align: left;\">H</td><td style = \"text-align: right;\">18</td></tr><tr><td class = \"rowNumber\" style = \"font-weight: bold; text-align: right;\">2</td><td style = \"text-align: left;\">Rosa Díaz Díaz</td><td style = \"text-align: left;\">M</td><td style = \"text-align: right;\">32</td></tr><tr><td class = \"rowNumber\" style = \"font-weight: bold; text-align: right;\">3</td><td style = \"text-align: left;\">Javier García Sánchez</td><td style = \"text-align: left;\">H</td><td style = \"text-align: right;\">24</td></tr><tr><td class = \"rowNumber\" style = \"font-weight: bold; text-align: right;\">4</td><td style = \"text-align: left;\">Carmen López Pinzón</td><td style = \"text-align: left;\">M</td><td style = \"text-align: right;\">35</td></tr><tr><td class = \"rowNumber\" style = \"font-weight: bold; text-align: right;\">5</td><td style = \"text-align: left;\">Marisa López Collado</td><td style = \"text-align: left;\">M</td><td style = \"text-align: right;\">46</td></tr><tr><td class = \"rowNumber\" style = \"font-weight: bold; text-align: right;\">6</td><td style = \"text-align: left;\">Antonio Ruiz Cruz</td><td style = \"text-align: left;\">H</td><td style = \"text-align: right;\">68</td></tr><tr><td class = \"rowNumber\" style = \"font-weight: bold; text-align: right;\">7</td><td style = \"text-align: left;\">Antonio Fernández Ocaña</td><td style = \"text-align: left;\">H</td><td style = \"text-align: right;\">51</td></tr><tr><td class = \"rowNumber\" style = \"font-weight: bold; text-align: right;\">8</td><td style = \"text-align: left;\">Pilar Martín González</td><td style = \"text-align: left;\">M</td><td style = \"text-align: right;\">22</td></tr><tr><td class = \"rowNumber\" style = \"font-weight: bold; text-align: right;\">9</td><td style = \"text-align: left;\">Pedro Gálvez Tenorio</td><td style = \"text-align: left;\">H</td><td style = \"text-align: right;\">35</td></tr><tr><td class = \"rowNumber\" style = \"font-weight: bold; text-align: right;\">10</td><td style = \"text-align: left;\">Santiago Reillo Manzano</td><td style = \"text-align: left;\">H</td><td style = \"text-align: right;\">46</td></tr><tr><td class = \"rowNumber\" style = \"font-weight: bold; text-align: right;\">11</td><td style = \"text-align: left;\">Macarena Álvarez Luna</td><td style = \"text-align: left;\">M</td><td style = \"text-align: right;\">53</td></tr><tr><td class = \"rowNumber\" style = \"font-weight: bold; text-align: right;\">12</td><td style = \"text-align: left;\">José María de la Guía Sanz</td><td style = \"text-align: left;\">H</td><td style = \"text-align: right;\">58</td></tr><tr><td class = \"rowNumber\" style = \"font-weight: bold; text-align: right;\">13</td><td style = \"text-align: left;\">Miguel Angel Cuadrado Gutiérrez</td><td style = \"text-align: left;\">H</td><td style = \"text-align: right;\">27</td></tr><tr><td class = \"rowNumber\" style = \"font-weight: bold; text-align: right;\">14</td><td style = \"text-align: left;\">Carolina Rubio Moreno</td><td style = \"text-align: left;\">M</td><td style = \"text-align: right;\">20</td></tr></tbody></table></div>"
      ],
      "text/latex": [
       "\\begin{tabular}{r|ccc}\n",
       "\t& nombre & sexo & edad\\\\\n",
       "\t\\hline\n",
       "\t& String & String1 & Int64\\\\\n",
       "\t\\hline\n",
       "\t1 & José Luis Martínez Izquierdo & H & 18 \\\\\n",
       "\t2 & Rosa Díaz Díaz & M & 32 \\\\\n",
       "\t3 & Javier García Sánchez & H & 24 \\\\\n",
       "\t4 & Carmen López Pinzón & M & 35 \\\\\n",
       "\t5 & Marisa López Collado & M & 46 \\\\\n",
       "\t6 & Antonio Ruiz Cruz & H & 68 \\\\\n",
       "\t7 & Antonio Fernández Ocaña & H & 51 \\\\\n",
       "\t8 & Pilar Martín González & M & 22 \\\\\n",
       "\t9 & Pedro Gálvez Tenorio & H & 35 \\\\\n",
       "\t10 & Santiago Reillo Manzano & H & 46 \\\\\n",
       "\t11 & Macarena Álvarez Luna & M & 53 \\\\\n",
       "\t12 & José María de la Guía Sanz & H & 58 \\\\\n",
       "\t13 & Miguel Angel Cuadrado Gutiérrez & H & 27 \\\\\n",
       "\t14 & Carolina Rubio Moreno & M & 20 \\\\\n",
       "\\end{tabular}\n"
      ],
      "text/plain": [
       "\u001b[1m14×3 DataFrame\u001b[0m\n",
       "\u001b[1m Row \u001b[0m│\u001b[1m nombre                          \u001b[0m\u001b[1m sexo    \u001b[0m\u001b[1m edad  \u001b[0m\n",
       "     │\u001b[90m String                          \u001b[0m\u001b[90m String1 \u001b[0m\u001b[90m Int64 \u001b[0m\n",
       "─────┼─────────────────────────────────────────────────\n",
       "   1 │ José Luis Martínez Izquierdo     H           18\n",
       "   2 │ Rosa Díaz Díaz                   M           32\n",
       "   3 │ Javier García Sánchez            H           24\n",
       "   4 │ Carmen López Pinzón              M           35\n",
       "   5 │ Marisa López Collado             M           46\n",
       "   6 │ Antonio Ruiz Cruz                H           68\n",
       "   7 │ Antonio Fernández Ocaña          H           51\n",
       "   8 │ Pilar Martín González            M           22\n",
       "   9 │ Pedro Gálvez Tenorio             H           35\n",
       "  10 │ Santiago Reillo Manzano          H           46\n",
       "  11 │ Macarena Álvarez Luna            M           53\n",
       "  12 │ José María de la Guía Sanz       H           58\n",
       "  13 │ Miguel Angel Cuadrado Gutiérrez  H           27\n",
       "  14 │ Carolina Rubio Moreno            M           20"
      ]
     },
     "execution_count": 9,
     "metadata": {},
     "output_type": "execute_result"
    }
   ],
   "source": [
    "df[:, [:nombre, :sexo, :edad]]"
   ]
  },
  {
   "cell_type": "code",
   "execution_count": 10,
   "id": "9491cb76",
   "metadata": {
    "md-indent": "    "
   },
   "outputs": [
    {
     "data": {
      "text/html": [
       "<div><div style = \"float: left;\"><span>14×7 DataFrame</span></div><div style = \"clear: both;\"></div></div><div class = \"data-frame\" style = \"overflow-x: scroll;\"><table class = \"data-frame\" style = \"margin-bottom: 6px;\"><thead><tr class = \"header\"><th class = \"rowNumber\" style = \"font-weight: bold; text-align: right;\">Row</th><th style = \"text-align: left;\">edad</th><th style = \"text-align: left;\">sexo</th><th style = \"text-align: left;\">peso</th><th style = \"text-align: left;\">altura</th><th style = \"text-align: left;\">colesterol</th><th style = \"text-align: left;\">imc</th><th style = \"text-align: left;\">obesidad</th></tr><tr class = \"subheader headerLastRow\"><th class = \"rowNumber\" style = \"font-weight: bold; text-align: right;\"></th><th title = \"Int64\" style = \"text-align: left;\">Int64</th><th title = \"String1\" style = \"text-align: left;\">String1</th><th title = \"Union{Missing, Float64}\" style = \"text-align: left;\">Float64?</th><th title = \"Float64\" style = \"text-align: left;\">Float64</th><th title = \"Union{Missing, Float64}\" style = \"text-align: left;\">Float64?</th><th title = \"Union{Missing, Float64}\" style = \"text-align: left;\">Float64?</th><th title = \"Union{Missing, CategoricalValue{String, UInt32}}\" style = \"text-align: left;\">Cat…?</th></tr></thead><tbody><tr><td class = \"rowNumber\" style = \"font-weight: bold; text-align: right;\">1</td><td style = \"text-align: right;\">18</td><td style = \"text-align: left;\">H</td><td style = \"text-align: right;\">85.0</td><td style = \"text-align: right;\">1.79</td><td style = \"text-align: right;\">182.0</td><td style = \"text-align: right;\">26.5285</td><td style = \"text-align: left;\">Sobrepeso</td></tr><tr><td class = \"rowNumber\" style = \"font-weight: bold; text-align: right;\">2</td><td style = \"text-align: right;\">32</td><td style = \"text-align: left;\">M</td><td style = \"text-align: right;\">65.0</td><td style = \"text-align: right;\">1.73</td><td style = \"text-align: right;\">232.0</td><td style = \"text-align: right;\">21.7181</td><td style = \"text-align: left;\">Saludable</td></tr><tr><td class = \"rowNumber\" style = \"font-weight: bold; text-align: right;\">3</td><td style = \"text-align: right;\">24</td><td style = \"text-align: left;\">H</td><td style = \"font-style: italic; text-align: right;\">missing</td><td style = \"text-align: right;\">1.81</td><td style = \"text-align: right;\">191.0</td><td style = \"font-style: italic; text-align: right;\">missing</td><td style = \"font-style: italic; text-align: left;\">missing</td></tr><tr><td class = \"rowNumber\" style = \"font-weight: bold; text-align: right;\">4</td><td style = \"text-align: right;\">35</td><td style = \"text-align: left;\">M</td><td style = \"text-align: right;\">65.0</td><td style = \"text-align: right;\">1.7</td><td style = \"text-align: right;\">200.0</td><td style = \"text-align: right;\">22.4913</td><td style = \"text-align: left;\">Saludable</td></tr><tr><td class = \"rowNumber\" style = \"font-weight: bold; text-align: right;\">5</td><td style = \"text-align: right;\">46</td><td style = \"text-align: left;\">M</td><td style = \"text-align: right;\">51.0</td><td style = \"text-align: right;\">1.58</td><td style = \"text-align: right;\">148.0</td><td style = \"text-align: right;\">20.4294</td><td style = \"text-align: left;\">Saludable</td></tr><tr><td class = \"rowNumber\" style = \"font-weight: bold; text-align: right;\">6</td><td style = \"text-align: right;\">68</td><td style = \"text-align: left;\">H</td><td style = \"text-align: right;\">66.0</td><td style = \"text-align: right;\">1.74</td><td style = \"text-align: right;\">249.0</td><td style = \"text-align: right;\">21.7994</td><td style = \"text-align: left;\">Saludable</td></tr><tr><td class = \"rowNumber\" style = \"font-weight: bold; text-align: right;\">7</td><td style = \"text-align: right;\">51</td><td style = \"text-align: left;\">H</td><td style = \"text-align: right;\">62.0</td><td style = \"text-align: right;\">1.72</td><td style = \"text-align: right;\">276.0</td><td style = \"text-align: right;\">20.9573</td><td style = \"text-align: left;\">Saludable</td></tr><tr><td class = \"rowNumber\" style = \"font-weight: bold; text-align: right;\">8</td><td style = \"text-align: right;\">22</td><td style = \"text-align: left;\">M</td><td style = \"text-align: right;\">60.0</td><td style = \"text-align: right;\">1.66</td><td style = \"font-style: italic; text-align: right;\">missing</td><td style = \"text-align: right;\">21.7738</td><td style = \"text-align: left;\">Saludable</td></tr><tr><td class = \"rowNumber\" style = \"font-weight: bold; text-align: right;\">9</td><td style = \"text-align: right;\">35</td><td style = \"text-align: left;\">H</td><td style = \"text-align: right;\">90.0</td><td style = \"text-align: right;\">1.94</td><td style = \"text-align: right;\">241.0</td><td style = \"text-align: right;\">23.9133</td><td style = \"text-align: left;\">Saludable</td></tr><tr><td class = \"rowNumber\" style = \"font-weight: bold; text-align: right;\">10</td><td style = \"text-align: right;\">46</td><td style = \"text-align: left;\">H</td><td style = \"text-align: right;\">75.0</td><td style = \"text-align: right;\">1.85</td><td style = \"text-align: right;\">280.0</td><td style = \"text-align: right;\">21.9138</td><td style = \"text-align: left;\">Saludable</td></tr><tr><td class = \"rowNumber\" style = \"font-weight: bold; text-align: right;\">11</td><td style = \"text-align: right;\">53</td><td style = \"text-align: left;\">M</td><td style = \"text-align: right;\">55.0</td><td style = \"text-align: right;\">1.62</td><td style = \"text-align: right;\">262.0</td><td style = \"text-align: right;\">20.9572</td><td style = \"text-align: left;\">Saludable</td></tr><tr><td class = \"rowNumber\" style = \"font-weight: bold; text-align: right;\">12</td><td style = \"text-align: right;\">58</td><td style = \"text-align: left;\">H</td><td style = \"text-align: right;\">78.0</td><td style = \"text-align: right;\">1.87</td><td style = \"text-align: right;\">198.0</td><td style = \"text-align: right;\">22.3055</td><td style = \"text-align: left;\">Saludable</td></tr><tr><td class = \"rowNumber\" style = \"font-weight: bold; text-align: right;\">13</td><td style = \"text-align: right;\">27</td><td style = \"text-align: left;\">H</td><td style = \"text-align: right;\">109.0</td><td style = \"text-align: right;\">1.98</td><td style = \"text-align: right;\">210.0</td><td style = \"text-align: right;\">27.8033</td><td style = \"text-align: left;\">Sobrepeso</td></tr><tr><td class = \"rowNumber\" style = \"font-weight: bold; text-align: right;\">14</td><td style = \"text-align: right;\">20</td><td style = \"text-align: left;\">M</td><td style = \"text-align: right;\">61.0</td><td style = \"text-align: right;\">1.77</td><td style = \"text-align: right;\">194.0</td><td style = \"text-align: right;\">19.4708</td><td style = \"text-align: left;\">Saludable</td></tr></tbody></table></div>"
      ],
      "text/latex": [
       "\\begin{tabular}{r|ccccccc}\n",
       "\t& edad & sexo & peso & altura & colesterol & imc & obesidad\\\\\n",
       "\t\\hline\n",
       "\t& Int64 & String1 & Float64? & Float64 & Float64? & Float64? & Cat…?\\\\\n",
       "\t\\hline\n",
       "\t1 & 18 & H & 85.0 & 1.79 & 182.0 & 26.5285 & Sobrepeso \\\\\n",
       "\t2 & 32 & M & 65.0 & 1.73 & 232.0 & 21.7181 & Saludable \\\\\n",
       "\t3 & 24 & H & \\emph{missing} & 1.81 & 191.0 & \\emph{missing} & \\emph{missing} \\\\\n",
       "\t4 & 35 & M & 65.0 & 1.7 & 200.0 & 22.4913 & Saludable \\\\\n",
       "\t5 & 46 & M & 51.0 & 1.58 & 148.0 & 20.4294 & Saludable \\\\\n",
       "\t6 & 68 & H & 66.0 & 1.74 & 249.0 & 21.7994 & Saludable \\\\\n",
       "\t7 & 51 & H & 62.0 & 1.72 & 276.0 & 20.9573 & Saludable \\\\\n",
       "\t8 & 22 & M & 60.0 & 1.66 & \\emph{missing} & 21.7738 & Saludable \\\\\n",
       "\t9 & 35 & H & 90.0 & 1.94 & 241.0 & 23.9133 & Saludable \\\\\n",
       "\t10 & 46 & H & 75.0 & 1.85 & 280.0 & 21.9138 & Saludable \\\\\n",
       "\t11 & 53 & M & 55.0 & 1.62 & 262.0 & 20.9572 & Saludable \\\\\n",
       "\t12 & 58 & H & 78.0 & 1.87 & 198.0 & 22.3055 & Saludable \\\\\n",
       "\t13 & 27 & H & 109.0 & 1.98 & 210.0 & 27.8033 & Sobrepeso \\\\\n",
       "\t14 & 20 & M & 61.0 & 1.77 & 194.0 & 19.4708 & Saludable \\\\\n",
       "\\end{tabular}\n"
      ],
      "text/plain": [
       "\u001b[1m14×7 DataFrame\u001b[0m\n",
       "\u001b[1m Row \u001b[0m│\u001b[1m edad  \u001b[0m\u001b[1m sexo    \u001b[0m\u001b[1m peso      \u001b[0m\u001b[1m altura  \u001b[0m\u001b[1m colesterol \u001b[0m\u001b[1m imc          \u001b[0m\u001b[1m obesidad \u001b[0m ⋯\n",
       "     │\u001b[90m Int64 \u001b[0m\u001b[90m String1 \u001b[0m\u001b[90m Float64?  \u001b[0m\u001b[90m Float64 \u001b[0m\u001b[90m Float64?   \u001b[0m\u001b[90m Float64?     \u001b[0m\u001b[90m Cat…?    \u001b[0m ⋯\n",
       "─────┼──────────────────────────────────────────────────────────────────────────\n",
       "   1 │    18  H             85.0     1.79       182.0       26.5285  Sobrepeso ⋯\n",
       "   2 │    32  M             65.0     1.73       232.0       21.7181  Saludable\n",
       "   3 │    24  H       \u001b[90m missing   \u001b[0m    1.81       191.0 \u001b[90m missing      \u001b[0m\u001b[90m missing  \u001b[0m\n",
       "   4 │    35  M             65.0     1.7        200.0       22.4913  Saludable\n",
       "   5 │    46  M             51.0     1.58       148.0       20.4294  Saludable ⋯\n",
       "   6 │    68  H             66.0     1.74       249.0       21.7994  Saludable\n",
       "   7 │    51  H             62.0     1.72       276.0       20.9573  Saludable\n",
       "   8 │    22  M             60.0     1.66 \u001b[90m  missing   \u001b[0m      21.7738  Saludable\n",
       "   9 │    35  H             90.0     1.94       241.0       23.9133  Saludable ⋯\n",
       "  10 │    46  H             75.0     1.85       280.0       21.9138  Saludable\n",
       "  11 │    53  M             55.0     1.62       262.0       20.9572  Saludable\n",
       "  12 │    58  H             78.0     1.87       198.0       22.3055  Saludable\n",
       "  13 │    27  H            109.0     1.98       210.0       27.8033  Sobrepeso ⋯\n",
       "  14 │    20  M             61.0     1.77       194.0       19.4708  Saludable"
      ]
     },
     "execution_count": 10,
     "metadata": {},
     "output_type": "execute_result"
    }
   ],
   "source": [
    "select(df, Not(:nombre))"
   ]
  },
  {
   "cell_type": "code",
   "execution_count": 11,
   "id": "69f08de7",
   "metadata": {
    "md-indent": "    "
   },
   "outputs": [
    {
     "data": {
      "text/html": [
       "<div><div style = \"float: left;\"><span>14×8 DataFrame</span></div><div style = \"clear: both;\"></div></div><div class = \"data-frame\" style = \"overflow-x: scroll;\"><table class = \"data-frame\" style = \"margin-bottom: 6px;\"><thead><tr class = \"header\"><th class = \"rowNumber\" style = \"font-weight: bold; text-align: right;\">Row</th><th style = \"text-align: left;\">sexo</th><th style = \"text-align: left;\">edad</th><th style = \"text-align: left;\">nombre</th><th style = \"text-align: left;\">peso</th><th style = \"text-align: left;\">altura</th><th style = \"text-align: left;\">colesterol</th><th style = \"text-align: left;\">imc</th><th style = \"text-align: left;\">obesidad</th></tr><tr class = \"subheader headerLastRow\"><th class = \"rowNumber\" style = \"font-weight: bold; text-align: right;\"></th><th title = \"String1\" style = \"text-align: left;\">String1</th><th title = \"Int64\" style = \"text-align: left;\">Int64</th><th title = \"String\" style = \"text-align: left;\">String</th><th title = \"Union{Missing, Float64}\" style = \"text-align: left;\">Float64?</th><th title = \"Float64\" style = \"text-align: left;\">Float64</th><th title = \"Union{Missing, Float64}\" style = \"text-align: left;\">Float64?</th><th title = \"Union{Missing, Float64}\" style = \"text-align: left;\">Float64?</th><th title = \"Union{Missing, CategoricalValue{String, UInt32}}\" style = \"text-align: left;\">Cat…?</th></tr></thead><tbody><tr><td class = \"rowNumber\" style = \"font-weight: bold; text-align: right;\">1</td><td style = \"text-align: left;\">H</td><td style = \"text-align: right;\">18</td><td style = \"text-align: left;\">José Luis Martínez Izquierdo</td><td style = \"text-align: right;\">85.0</td><td style = \"text-align: right;\">1.79</td><td style = \"text-align: right;\">182.0</td><td style = \"text-align: right;\">26.5285</td><td style = \"text-align: left;\">Sobrepeso</td></tr><tr><td class = \"rowNumber\" style = \"font-weight: bold; text-align: right;\">2</td><td style = \"text-align: left;\">M</td><td style = \"text-align: right;\">32</td><td style = \"text-align: left;\">Rosa Díaz Díaz</td><td style = \"text-align: right;\">65.0</td><td style = \"text-align: right;\">1.73</td><td style = \"text-align: right;\">232.0</td><td style = \"text-align: right;\">21.7181</td><td style = \"text-align: left;\">Saludable</td></tr><tr><td class = \"rowNumber\" style = \"font-weight: bold; text-align: right;\">3</td><td style = \"text-align: left;\">H</td><td style = \"text-align: right;\">24</td><td style = \"text-align: left;\">Javier García Sánchez</td><td style = \"font-style: italic; text-align: right;\">missing</td><td style = \"text-align: right;\">1.81</td><td style = \"text-align: right;\">191.0</td><td style = \"font-style: italic; text-align: right;\">missing</td><td style = \"font-style: italic; text-align: left;\">missing</td></tr><tr><td class = \"rowNumber\" style = \"font-weight: bold; text-align: right;\">4</td><td style = \"text-align: left;\">M</td><td style = \"text-align: right;\">35</td><td style = \"text-align: left;\">Carmen López Pinzón</td><td style = \"text-align: right;\">65.0</td><td style = \"text-align: right;\">1.7</td><td style = \"text-align: right;\">200.0</td><td style = \"text-align: right;\">22.4913</td><td style = \"text-align: left;\">Saludable</td></tr><tr><td class = \"rowNumber\" style = \"font-weight: bold; text-align: right;\">5</td><td style = \"text-align: left;\">M</td><td style = \"text-align: right;\">46</td><td style = \"text-align: left;\">Marisa López Collado</td><td style = \"text-align: right;\">51.0</td><td style = \"text-align: right;\">1.58</td><td style = \"text-align: right;\">148.0</td><td style = \"text-align: right;\">20.4294</td><td style = \"text-align: left;\">Saludable</td></tr><tr><td class = \"rowNumber\" style = \"font-weight: bold; text-align: right;\">6</td><td style = \"text-align: left;\">H</td><td style = \"text-align: right;\">68</td><td style = \"text-align: left;\">Antonio Ruiz Cruz</td><td style = \"text-align: right;\">66.0</td><td style = \"text-align: right;\">1.74</td><td style = \"text-align: right;\">249.0</td><td style = \"text-align: right;\">21.7994</td><td style = \"text-align: left;\">Saludable</td></tr><tr><td class = \"rowNumber\" style = \"font-weight: bold; text-align: right;\">7</td><td style = \"text-align: left;\">H</td><td style = \"text-align: right;\">51</td><td style = \"text-align: left;\">Antonio Fernández Ocaña</td><td style = \"text-align: right;\">62.0</td><td style = \"text-align: right;\">1.72</td><td style = \"text-align: right;\">276.0</td><td style = \"text-align: right;\">20.9573</td><td style = \"text-align: left;\">Saludable</td></tr><tr><td class = \"rowNumber\" style = \"font-weight: bold; text-align: right;\">8</td><td style = \"text-align: left;\">M</td><td style = \"text-align: right;\">22</td><td style = \"text-align: left;\">Pilar Martín González</td><td style = \"text-align: right;\">60.0</td><td style = \"text-align: right;\">1.66</td><td style = \"font-style: italic; text-align: right;\">missing</td><td style = \"text-align: right;\">21.7738</td><td style = \"text-align: left;\">Saludable</td></tr><tr><td class = \"rowNumber\" style = \"font-weight: bold; text-align: right;\">9</td><td style = \"text-align: left;\">H</td><td style = \"text-align: right;\">35</td><td style = \"text-align: left;\">Pedro Gálvez Tenorio</td><td style = \"text-align: right;\">90.0</td><td style = \"text-align: right;\">1.94</td><td style = \"text-align: right;\">241.0</td><td style = \"text-align: right;\">23.9133</td><td style = \"text-align: left;\">Saludable</td></tr><tr><td class = \"rowNumber\" style = \"font-weight: bold; text-align: right;\">10</td><td style = \"text-align: left;\">H</td><td style = \"text-align: right;\">46</td><td style = \"text-align: left;\">Santiago Reillo Manzano</td><td style = \"text-align: right;\">75.0</td><td style = \"text-align: right;\">1.85</td><td style = \"text-align: right;\">280.0</td><td style = \"text-align: right;\">21.9138</td><td style = \"text-align: left;\">Saludable</td></tr><tr><td class = \"rowNumber\" style = \"font-weight: bold; text-align: right;\">11</td><td style = \"text-align: left;\">M</td><td style = \"text-align: right;\">53</td><td style = \"text-align: left;\">Macarena Álvarez Luna</td><td style = \"text-align: right;\">55.0</td><td style = \"text-align: right;\">1.62</td><td style = \"text-align: right;\">262.0</td><td style = \"text-align: right;\">20.9572</td><td style = \"text-align: left;\">Saludable</td></tr><tr><td class = \"rowNumber\" style = \"font-weight: bold; text-align: right;\">12</td><td style = \"text-align: left;\">H</td><td style = \"text-align: right;\">58</td><td style = \"text-align: left;\">José María de la Guía Sanz</td><td style = \"text-align: right;\">78.0</td><td style = \"text-align: right;\">1.87</td><td style = \"text-align: right;\">198.0</td><td style = \"text-align: right;\">22.3055</td><td style = \"text-align: left;\">Saludable</td></tr><tr><td class = \"rowNumber\" style = \"font-weight: bold; text-align: right;\">13</td><td style = \"text-align: left;\">H</td><td style = \"text-align: right;\">27</td><td style = \"text-align: left;\">Miguel Angel Cuadrado Gutiérrez</td><td style = \"text-align: right;\">109.0</td><td style = \"text-align: right;\">1.98</td><td style = \"text-align: right;\">210.0</td><td style = \"text-align: right;\">27.8033</td><td style = \"text-align: left;\">Sobrepeso</td></tr><tr><td class = \"rowNumber\" style = \"font-weight: bold; text-align: right;\">14</td><td style = \"text-align: left;\">M</td><td style = \"text-align: right;\">20</td><td style = \"text-align: left;\">Carolina Rubio Moreno</td><td style = \"text-align: right;\">61.0</td><td style = \"text-align: right;\">1.77</td><td style = \"text-align: right;\">194.0</td><td style = \"text-align: right;\">19.4708</td><td style = \"text-align: left;\">Saludable</td></tr></tbody></table></div>"
      ],
      "text/latex": [
       "\\begin{tabular}{r|ccccccc}\n",
       "\t& sexo & edad & nombre & peso & altura & colesterol & \\\\\n",
       "\t\\hline\n",
       "\t& String1 & Int64 & String & Float64? & Float64 & Float64? & \\\\\n",
       "\t\\hline\n",
       "\t1 & H & 18 & José Luis Martínez Izquierdo & 85.0 & 1.79 & 182.0 & $\\dots$ \\\\\n",
       "\t2 & M & 32 & Rosa Díaz Díaz & 65.0 & 1.73 & 232.0 & $\\dots$ \\\\\n",
       "\t3 & H & 24 & Javier García Sánchez & \\emph{missing} & 1.81 & 191.0 & $\\dots$ \\\\\n",
       "\t4 & M & 35 & Carmen López Pinzón & 65.0 & 1.7 & 200.0 & $\\dots$ \\\\\n",
       "\t5 & M & 46 & Marisa López Collado & 51.0 & 1.58 & 148.0 & $\\dots$ \\\\\n",
       "\t6 & H & 68 & Antonio Ruiz Cruz & 66.0 & 1.74 & 249.0 & $\\dots$ \\\\\n",
       "\t7 & H & 51 & Antonio Fernández Ocaña & 62.0 & 1.72 & 276.0 & $\\dots$ \\\\\n",
       "\t8 & M & 22 & Pilar Martín González & 60.0 & 1.66 & \\emph{missing} & $\\dots$ \\\\\n",
       "\t9 & H & 35 & Pedro Gálvez Tenorio & 90.0 & 1.94 & 241.0 & $\\dots$ \\\\\n",
       "\t10 & H & 46 & Santiago Reillo Manzano & 75.0 & 1.85 & 280.0 & $\\dots$ \\\\\n",
       "\t11 & M & 53 & Macarena Álvarez Luna & 55.0 & 1.62 & 262.0 & $\\dots$ \\\\\n",
       "\t12 & H & 58 & José María de la Guía Sanz & 78.0 & 1.87 & 198.0 & $\\dots$ \\\\\n",
       "\t13 & H & 27 & Miguel Angel Cuadrado Gutiérrez & 109.0 & 1.98 & 210.0 & $\\dots$ \\\\\n",
       "\t14 & M & 20 & Carolina Rubio Moreno & 61.0 & 1.77 & 194.0 & $\\dots$ \\\\\n",
       "\\end{tabular}\n"
      ],
      "text/plain": [
       "\u001b[1m14×8 DataFrame\u001b[0m\n",
       "\u001b[1m Row \u001b[0m│\u001b[1m sexo    \u001b[0m\u001b[1m edad  \u001b[0m\u001b[1m nombre                          \u001b[0m\u001b[1m peso      \u001b[0m\u001b[1m altura  \u001b[0m\u001b[1m co\u001b[0m ⋯\n",
       "     │\u001b[90m String1 \u001b[0m\u001b[90m Int64 \u001b[0m\u001b[90m String                          \u001b[0m\u001b[90m Float64?  \u001b[0m\u001b[90m Float64 \u001b[0m\u001b[90m Fl\u001b[0m ⋯\n",
       "─────┼──────────────────────────────────────────────────────────────────────────\n",
       "   1 │ H           18  José Luis Martínez Izquierdo          85.0     1.79     ⋯\n",
       "   2 │ M           32  Rosa Díaz Díaz                        65.0     1.73\n",
       "   3 │ H           24  Javier García Sánchez           \u001b[90m missing   \u001b[0m    1.81\n",
       "   4 │ M           35  Carmen López Pinzón                   65.0     1.7\n",
       "   5 │ M           46  Marisa López Collado                  51.0     1.58     ⋯\n",
       "   6 │ H           68  Antonio Ruiz Cruz                     66.0     1.74\n",
       "   7 │ H           51  Antonio Fernández Ocaña               62.0     1.72\n",
       "   8 │ M           22  Pilar Martín González                 60.0     1.66 \u001b[90m  m\u001b[0m\n",
       "   9 │ H           35  Pedro Gálvez Tenorio                  90.0     1.94     ⋯\n",
       "  10 │ H           46  Santiago Reillo Manzano               75.0     1.85\n",
       "  11 │ M           53  Macarena Álvarez Luna                 55.0     1.62\n",
       "  12 │ H           58  José María de la Guía Sanz            78.0     1.87\n",
       "  13 │ H           27  Miguel Angel Cuadrado Gutiérrez      109.0     1.98     ⋯\n",
       "  14 │ M           20  Carolina Rubio Moreno                 61.0     1.77\n",
       "\u001b[36m                                                               3 columns omitted\u001b[0m"
      ]
     },
     "execution_count": 11,
     "metadata": {},
     "output_type": "execute_result"
    }
   ],
   "source": [
    "select(df, Cols(:sexo, :edad, Not(:sexo, :edad)))"
   ]
  },
  {
   "cell_type": "code",
   "execution_count": 12,
   "id": "39549d06",
   "metadata": {
    "md-indent": "    "
   },
   "outputs": [
    {
     "data": {
      "text/html": [
       "<div><div style = \"float: left;\"><span>6×8 DataFrame</span></div><div style = \"clear: both;\"></div></div><div class = \"data-frame\" style = \"overflow-x: scroll;\"><table class = \"data-frame\" style = \"margin-bottom: 6px;\"><thead><tr class = \"header\"><th class = \"rowNumber\" style = \"font-weight: bold; text-align: right;\">Row</th><th style = \"text-align: left;\">nombre</th><th style = \"text-align: left;\">edad</th><th style = \"text-align: left;\">sexo</th><th style = \"text-align: left;\">peso</th><th style = \"text-align: left;\">altura</th><th style = \"text-align: left;\">colesterol</th><th style = \"text-align: left;\">imc</th><th style = \"text-align: left;\">obesidad</th></tr><tr class = \"subheader headerLastRow\"><th class = \"rowNumber\" style = \"font-weight: bold; text-align: right;\"></th><th title = \"String\" style = \"text-align: left;\">String</th><th title = \"Int64\" style = \"text-align: left;\">Int64</th><th title = \"String1\" style = \"text-align: left;\">String1</th><th title = \"Union{Missing, Float64}\" style = \"text-align: left;\">Float64?</th><th title = \"Float64\" style = \"text-align: left;\">Float64</th><th title = \"Union{Missing, Float64}\" style = \"text-align: left;\">Float64?</th><th title = \"Union{Missing, Float64}\" style = \"text-align: left;\">Float64?</th><th title = \"Union{Missing, CategoricalValue{String, UInt32}}\" style = \"text-align: left;\">Cat…?</th></tr></thead><tbody><tr><td class = \"rowNumber\" style = \"font-weight: bold; text-align: right;\">1</td><td style = \"text-align: left;\">Rosa Díaz Díaz</td><td style = \"text-align: right;\">32</td><td style = \"text-align: left;\">M</td><td style = \"text-align: right;\">65.0</td><td style = \"text-align: right;\">1.73</td><td style = \"text-align: right;\">232.0</td><td style = \"text-align: right;\">21.7181</td><td style = \"text-align: left;\">Saludable</td></tr><tr><td class = \"rowNumber\" style = \"font-weight: bold; text-align: right;\">2</td><td style = \"text-align: left;\">Carmen López Pinzón</td><td style = \"text-align: right;\">35</td><td style = \"text-align: left;\">M</td><td style = \"text-align: right;\">65.0</td><td style = \"text-align: right;\">1.7</td><td style = \"text-align: right;\">200.0</td><td style = \"text-align: right;\">22.4913</td><td style = \"text-align: left;\">Saludable</td></tr><tr><td class = \"rowNumber\" style = \"font-weight: bold; text-align: right;\">3</td><td style = \"text-align: left;\">Marisa López Collado</td><td style = \"text-align: right;\">46</td><td style = \"text-align: left;\">M</td><td style = \"text-align: right;\">51.0</td><td style = \"text-align: right;\">1.58</td><td style = \"text-align: right;\">148.0</td><td style = \"text-align: right;\">20.4294</td><td style = \"text-align: left;\">Saludable</td></tr><tr><td class = \"rowNumber\" style = \"font-weight: bold; text-align: right;\">4</td><td style = \"text-align: left;\">Pilar Martín González</td><td style = \"text-align: right;\">22</td><td style = \"text-align: left;\">M</td><td style = \"text-align: right;\">60.0</td><td style = \"text-align: right;\">1.66</td><td style = \"font-style: italic; text-align: right;\">missing</td><td style = \"text-align: right;\">21.7738</td><td style = \"text-align: left;\">Saludable</td></tr><tr><td class = \"rowNumber\" style = \"font-weight: bold; text-align: right;\">5</td><td style = \"text-align: left;\">Macarena Álvarez Luna</td><td style = \"text-align: right;\">53</td><td style = \"text-align: left;\">M</td><td style = \"text-align: right;\">55.0</td><td style = \"text-align: right;\">1.62</td><td style = \"text-align: right;\">262.0</td><td style = \"text-align: right;\">20.9572</td><td style = \"text-align: left;\">Saludable</td></tr><tr><td class = \"rowNumber\" style = \"font-weight: bold; text-align: right;\">6</td><td style = \"text-align: left;\">Carolina Rubio Moreno</td><td style = \"text-align: right;\">20</td><td style = \"text-align: left;\">M</td><td style = \"text-align: right;\">61.0</td><td style = \"text-align: right;\">1.77</td><td style = \"text-align: right;\">194.0</td><td style = \"text-align: right;\">19.4708</td><td style = \"text-align: left;\">Saludable</td></tr></tbody></table></div>"
      ],
      "text/latex": [
       "\\begin{tabular}{r|cccccccc}\n",
       "\t& nombre & edad & sexo & peso & altura & colesterol & imc & \\\\\n",
       "\t\\hline\n",
       "\t& String & Int64 & String1 & Float64? & Float64 & Float64? & Float64? & \\\\\n",
       "\t\\hline\n",
       "\t1 & Rosa Díaz Díaz & 32 & M & 65.0 & 1.73 & 232.0 & 21.7181 & $\\dots$ \\\\\n",
       "\t2 & Carmen López Pinzón & 35 & M & 65.0 & 1.7 & 200.0 & 22.4913 & $\\dots$ \\\\\n",
       "\t3 & Marisa López Collado & 46 & M & 51.0 & 1.58 & 148.0 & 20.4294 & $\\dots$ \\\\\n",
       "\t4 & Pilar Martín González & 22 & M & 60.0 & 1.66 & \\emph{missing} & 21.7738 & $\\dots$ \\\\\n",
       "\t5 & Macarena Álvarez Luna & 53 & M & 55.0 & 1.62 & 262.0 & 20.9572 & $\\dots$ \\\\\n",
       "\t6 & Carolina Rubio Moreno & 20 & M & 61.0 & 1.77 & 194.0 & 19.4708 & $\\dots$ \\\\\n",
       "\\end{tabular}\n"
      ],
      "text/plain": [
       "\u001b[1m6×8 DataFrame\u001b[0m\n",
       "\u001b[1m Row \u001b[0m│\u001b[1m nombre                \u001b[0m\u001b[1m edad  \u001b[0m\u001b[1m sexo    \u001b[0m\u001b[1m peso     \u001b[0m\u001b[1m altura  \u001b[0m\u001b[1m colesterol \u001b[0m\u001b[1m i\u001b[0m ⋯\n",
       "     │\u001b[90m String                \u001b[0m\u001b[90m Int64 \u001b[0m\u001b[90m String1 \u001b[0m\u001b[90m Float64? \u001b[0m\u001b[90m Float64 \u001b[0m\u001b[90m Float64?   \u001b[0m\u001b[90m F\u001b[0m ⋯\n",
       "─────┼──────────────────────────────────────────────────────────────────────────\n",
       "   1 │ Rosa Díaz Díaz            32  M            65.0     1.73       232.0    ⋯\n",
       "   2 │ Carmen López Pinzón       35  M            65.0     1.7        200.0\n",
       "   3 │ Marisa López Collado      46  M            51.0     1.58       148.0\n",
       "   4 │ Pilar Martín González     22  M            60.0     1.66 \u001b[90m  missing   \u001b[0m\n",
       "   5 │ Macarena Álvarez Luna     53  M            55.0     1.62       262.0    ⋯\n",
       "   6 │ Carolina Rubio Moreno     20  M            61.0     1.77       194.0\n",
       "\u001b[36m                                                               2 columns omitted\u001b[0m"
      ]
     },
     "execution_count": 12,
     "metadata": {},
     "output_type": "execute_result"
    }
   ],
   "source": [
    "df[df.sexo .== \"M\", :]"
   ]
  },
  {
   "cell_type": "code",
   "execution_count": 13,
   "id": "adb394e5",
   "metadata": {
    "md-indent": "    "
   },
   "outputs": [
    {
     "data": {
      "text/html": [
       "<div><div style = \"float: left;\"><span>5×8 DataFrame</span></div><div style = \"clear: both;\"></div></div><div class = \"data-frame\" style = \"overflow-x: scroll;\"><table class = \"data-frame\" style = \"margin-bottom: 6px;\"><thead><tr class = \"header\"><th class = \"rowNumber\" style = \"font-weight: bold; text-align: right;\">Row</th><th style = \"text-align: left;\">nombre</th><th style = \"text-align: left;\">edad</th><th style = \"text-align: left;\">sexo</th><th style = \"text-align: left;\">peso</th><th style = \"text-align: left;\">altura</th><th style = \"text-align: left;\">colesterol</th><th style = \"text-align: left;\">imc</th><th style = \"text-align: left;\">obesidad</th></tr><tr class = \"subheader headerLastRow\"><th class = \"rowNumber\" style = \"font-weight: bold; text-align: right;\"></th><th title = \"String\" style = \"text-align: left;\">String</th><th title = \"Int64\" style = \"text-align: left;\">Int64</th><th title = \"String1\" style = \"text-align: left;\">String1</th><th title = \"Union{Missing, Float64}\" style = \"text-align: left;\">Float64?</th><th title = \"Float64\" style = \"text-align: left;\">Float64</th><th title = \"Union{Missing, Float64}\" style = \"text-align: left;\">Float64?</th><th title = \"Union{Missing, Float64}\" style = \"text-align: left;\">Float64?</th><th title = \"Union{Missing, CategoricalValue{String, UInt32}}\" style = \"text-align: left;\">Cat…?</th></tr></thead><tbody><tr><td class = \"rowNumber\" style = \"font-weight: bold; text-align: right;\">1</td><td style = \"text-align: left;\">Antonio Ruiz Cruz</td><td style = \"text-align: right;\">68</td><td style = \"text-align: left;\">H</td><td style = \"text-align: right;\">66.0</td><td style = \"text-align: right;\">1.74</td><td style = \"text-align: right;\">249.0</td><td style = \"text-align: right;\">21.7994</td><td style = \"text-align: left;\">Saludable</td></tr><tr><td class = \"rowNumber\" style = \"font-weight: bold; text-align: right;\">2</td><td style = \"text-align: left;\">Antonio Fernández Ocaña</td><td style = \"text-align: right;\">51</td><td style = \"text-align: left;\">H</td><td style = \"text-align: right;\">62.0</td><td style = \"text-align: right;\">1.72</td><td style = \"text-align: right;\">276.0</td><td style = \"text-align: right;\">20.9573</td><td style = \"text-align: left;\">Saludable</td></tr><tr><td class = \"rowNumber\" style = \"font-weight: bold; text-align: right;\">3</td><td style = \"text-align: left;\">Pedro Gálvez Tenorio</td><td style = \"text-align: right;\">35</td><td style = \"text-align: left;\">H</td><td style = \"text-align: right;\">90.0</td><td style = \"text-align: right;\">1.94</td><td style = \"text-align: right;\">241.0</td><td style = \"text-align: right;\">23.9133</td><td style = \"text-align: left;\">Saludable</td></tr><tr><td class = \"rowNumber\" style = \"font-weight: bold; text-align: right;\">4</td><td style = \"text-align: left;\">Santiago Reillo Manzano</td><td style = \"text-align: right;\">46</td><td style = \"text-align: left;\">H</td><td style = \"text-align: right;\">75.0</td><td style = \"text-align: right;\">1.85</td><td style = \"text-align: right;\">280.0</td><td style = \"text-align: right;\">21.9138</td><td style = \"text-align: left;\">Saludable</td></tr><tr><td class = \"rowNumber\" style = \"font-weight: bold; text-align: right;\">5</td><td style = \"text-align: left;\">José María de la Guía Sanz</td><td style = \"text-align: right;\">58</td><td style = \"text-align: left;\">H</td><td style = \"text-align: right;\">78.0</td><td style = \"text-align: right;\">1.87</td><td style = \"text-align: right;\">198.0</td><td style = \"text-align: right;\">22.3055</td><td style = \"text-align: left;\">Saludable</td></tr></tbody></table></div>"
      ],
      "text/latex": [
       "\\begin{tabular}{r|cccccccc}\n",
       "\t& nombre & edad & sexo & peso & altura & colesterol & imc & \\\\\n",
       "\t\\hline\n",
       "\t& String & Int64 & String1 & Float64? & Float64 & Float64? & Float64? & \\\\\n",
       "\t\\hline\n",
       "\t1 & Antonio Ruiz Cruz & 68 & H & 66.0 & 1.74 & 249.0 & 21.7994 & $\\dots$ \\\\\n",
       "\t2 & Antonio Fernández Ocaña & 51 & H & 62.0 & 1.72 & 276.0 & 20.9573 & $\\dots$ \\\\\n",
       "\t3 & Pedro Gálvez Tenorio & 35 & H & 90.0 & 1.94 & 241.0 & 23.9133 & $\\dots$ \\\\\n",
       "\t4 & Santiago Reillo Manzano & 46 & H & 75.0 & 1.85 & 280.0 & 21.9138 & $\\dots$ \\\\\n",
       "\t5 & José María de la Guía Sanz & 58 & H & 78.0 & 1.87 & 198.0 & 22.3055 & $\\dots$ \\\\\n",
       "\\end{tabular}\n"
      ],
      "text/plain": [
       "\u001b[1m5×8 DataFrame\u001b[0m\n",
       "\u001b[1m Row \u001b[0m│\u001b[1m nombre                     \u001b[0m\u001b[1m edad  \u001b[0m\u001b[1m sexo    \u001b[0m\u001b[1m peso     \u001b[0m\u001b[1m altura  \u001b[0m\u001b[1m colester\u001b[0m ⋯\n",
       "     │\u001b[90m String                     \u001b[0m\u001b[90m Int64 \u001b[0m\u001b[90m String1 \u001b[0m\u001b[90m Float64? \u001b[0m\u001b[90m Float64 \u001b[0m\u001b[90m Float64?\u001b[0m ⋯\n",
       "─────┼──────────────────────────────────────────────────────────────────────────\n",
       "   1 │ Antonio Ruiz Cruz              68  H            66.0     1.74       249 ⋯\n",
       "   2 │ Antonio Fernández Ocaña        51  H            62.0     1.72       276\n",
       "   3 │ Pedro Gálvez Tenorio           35  H            90.0     1.94       241\n",
       "   4 │ Santiago Reillo Manzano        46  H            75.0     1.85       280\n",
       "   5 │ José María de la Guía Sanz     58  H            78.0     1.87       198 ⋯\n",
       "\u001b[36m                                                               3 columns omitted\u001b[0m"
      ]
     },
     "execution_count": 13,
     "metadata": {},
     "output_type": "execute_result"
    }
   ],
   "source": [
    "df[(df.sexo .== \"H\") .& (df.edad .> 30), :]"
   ]
  },
  {
   "cell_type": "code",
   "execution_count": 14,
   "id": "a72e1f62",
   "metadata": {
    "md-indent": "    "
   },
   "outputs": [
    {
     "data": {
      "text/html": [
       "<div><div style = \"float: left;\"><span>12×8 DataFrame</span></div><div style = \"clear: both;\"></div></div><div class = \"data-frame\" style = \"overflow-x: scroll;\"><table class = \"data-frame\" style = \"margin-bottom: 6px;\"><thead><tr class = \"header\"><th class = \"rowNumber\" style = \"font-weight: bold; text-align: right;\">Row</th><th style = \"text-align: left;\">nombre</th><th style = \"text-align: left;\">edad</th><th style = \"text-align: left;\">sexo</th><th style = \"text-align: left;\">peso</th><th style = \"text-align: left;\">altura</th><th style = \"text-align: left;\">colesterol</th><th style = \"text-align: left;\">imc</th><th style = \"text-align: left;\">obesidad</th></tr><tr class = \"subheader headerLastRow\"><th class = \"rowNumber\" style = \"font-weight: bold; text-align: right;\"></th><th title = \"String\" style = \"text-align: left;\">String</th><th title = \"Int64\" style = \"text-align: left;\">Int64</th><th title = \"String1\" style = \"text-align: left;\">String1</th><th title = \"Float64\" style = \"text-align: left;\">Float64</th><th title = \"Float64\" style = \"text-align: left;\">Float64</th><th title = \"Float64\" style = \"text-align: left;\">Float64</th><th title = \"Float64\" style = \"text-align: left;\">Float64</th><th title = \"CategoricalValue{String, UInt32}\" style = \"text-align: left;\">Cat…</th></tr></thead><tbody><tr><td class = \"rowNumber\" style = \"font-weight: bold; text-align: right;\">1</td><td style = \"text-align: left;\">José Luis Martínez Izquierdo</td><td style = \"text-align: right;\">18</td><td style = \"text-align: left;\">H</td><td style = \"text-align: right;\">85.0</td><td style = \"text-align: right;\">1.79</td><td style = \"text-align: right;\">182.0</td><td style = \"text-align: right;\">26.5285</td><td style = \"text-align: left;\">Sobrepeso</td></tr><tr><td class = \"rowNumber\" style = \"font-weight: bold; text-align: right;\">2</td><td style = \"text-align: left;\">Rosa Díaz Díaz</td><td style = \"text-align: right;\">32</td><td style = \"text-align: left;\">M</td><td style = \"text-align: right;\">65.0</td><td style = \"text-align: right;\">1.73</td><td style = \"text-align: right;\">232.0</td><td style = \"text-align: right;\">21.7181</td><td style = \"text-align: left;\">Saludable</td></tr><tr><td class = \"rowNumber\" style = \"font-weight: bold; text-align: right;\">3</td><td style = \"text-align: left;\">Carmen López Pinzón</td><td style = \"text-align: right;\">35</td><td style = \"text-align: left;\">M</td><td style = \"text-align: right;\">65.0</td><td style = \"text-align: right;\">1.7</td><td style = \"text-align: right;\">200.0</td><td style = \"text-align: right;\">22.4913</td><td style = \"text-align: left;\">Saludable</td></tr><tr><td class = \"rowNumber\" style = \"font-weight: bold; text-align: right;\">4</td><td style = \"text-align: left;\">Marisa López Collado</td><td style = \"text-align: right;\">46</td><td style = \"text-align: left;\">M</td><td style = \"text-align: right;\">51.0</td><td style = \"text-align: right;\">1.58</td><td style = \"text-align: right;\">148.0</td><td style = \"text-align: right;\">20.4294</td><td style = \"text-align: left;\">Saludable</td></tr><tr><td class = \"rowNumber\" style = \"font-weight: bold; text-align: right;\">5</td><td style = \"text-align: left;\">Antonio Ruiz Cruz</td><td style = \"text-align: right;\">68</td><td style = \"text-align: left;\">H</td><td style = \"text-align: right;\">66.0</td><td style = \"text-align: right;\">1.74</td><td style = \"text-align: right;\">249.0</td><td style = \"text-align: right;\">21.7994</td><td style = \"text-align: left;\">Saludable</td></tr><tr><td class = \"rowNumber\" style = \"font-weight: bold; text-align: right;\">6</td><td style = \"text-align: left;\">Antonio Fernández Ocaña</td><td style = \"text-align: right;\">51</td><td style = \"text-align: left;\">H</td><td style = \"text-align: right;\">62.0</td><td style = \"text-align: right;\">1.72</td><td style = \"text-align: right;\">276.0</td><td style = \"text-align: right;\">20.9573</td><td style = \"text-align: left;\">Saludable</td></tr><tr><td class = \"rowNumber\" style = \"font-weight: bold; text-align: right;\">7</td><td style = \"text-align: left;\">Pedro Gálvez Tenorio</td><td style = \"text-align: right;\">35</td><td style = \"text-align: left;\">H</td><td style = \"text-align: right;\">90.0</td><td style = \"text-align: right;\">1.94</td><td style = \"text-align: right;\">241.0</td><td style = \"text-align: right;\">23.9133</td><td style = \"text-align: left;\">Saludable</td></tr><tr><td class = \"rowNumber\" style = \"font-weight: bold; text-align: right;\">8</td><td style = \"text-align: left;\">Santiago Reillo Manzano</td><td style = \"text-align: right;\">46</td><td style = \"text-align: left;\">H</td><td style = \"text-align: right;\">75.0</td><td style = \"text-align: right;\">1.85</td><td style = \"text-align: right;\">280.0</td><td style = \"text-align: right;\">21.9138</td><td style = \"text-align: left;\">Saludable</td></tr><tr><td class = \"rowNumber\" style = \"font-weight: bold; text-align: right;\">9</td><td style = \"text-align: left;\">Macarena Álvarez Luna</td><td style = \"text-align: right;\">53</td><td style = \"text-align: left;\">M</td><td style = \"text-align: right;\">55.0</td><td style = \"text-align: right;\">1.62</td><td style = \"text-align: right;\">262.0</td><td style = \"text-align: right;\">20.9572</td><td style = \"text-align: left;\">Saludable</td></tr><tr><td class = \"rowNumber\" style = \"font-weight: bold; text-align: right;\">10</td><td style = \"text-align: left;\">José María de la Guía Sanz</td><td style = \"text-align: right;\">58</td><td style = \"text-align: left;\">H</td><td style = \"text-align: right;\">78.0</td><td style = \"text-align: right;\">1.87</td><td style = \"text-align: right;\">198.0</td><td style = \"text-align: right;\">22.3055</td><td style = \"text-align: left;\">Saludable</td></tr><tr><td class = \"rowNumber\" style = \"font-weight: bold; text-align: right;\">11</td><td style = \"text-align: left;\">Miguel Angel Cuadrado Gutiérrez</td><td style = \"text-align: right;\">27</td><td style = \"text-align: left;\">H</td><td style = \"text-align: right;\">109.0</td><td style = \"text-align: right;\">1.98</td><td style = \"text-align: right;\">210.0</td><td style = \"text-align: right;\">27.8033</td><td style = \"text-align: left;\">Sobrepeso</td></tr><tr><td class = \"rowNumber\" style = \"font-weight: bold; text-align: right;\">12</td><td style = \"text-align: left;\">Carolina Rubio Moreno</td><td style = \"text-align: right;\">20</td><td style = \"text-align: left;\">M</td><td style = \"text-align: right;\">61.0</td><td style = \"text-align: right;\">1.77</td><td style = \"text-align: right;\">194.0</td><td style = \"text-align: right;\">19.4708</td><td style = \"text-align: left;\">Saludable</td></tr></tbody></table></div>"
      ],
      "text/latex": [
       "\\begin{tabular}{r|cccccccc}\n",
       "\t& nombre & edad & sexo & peso & altura & colesterol & imc & \\\\\n",
       "\t\\hline\n",
       "\t& String & Int64 & String1 & Float64 & Float64 & Float64 & Float64 & \\\\\n",
       "\t\\hline\n",
       "\t1 & José Luis Martínez Izquierdo & 18 & H & 85.0 & 1.79 & 182.0 & 26.5285 & $\\dots$ \\\\\n",
       "\t2 & Rosa Díaz Díaz & 32 & M & 65.0 & 1.73 & 232.0 & 21.7181 & $\\dots$ \\\\\n",
       "\t3 & Carmen López Pinzón & 35 & M & 65.0 & 1.7 & 200.0 & 22.4913 & $\\dots$ \\\\\n",
       "\t4 & Marisa López Collado & 46 & M & 51.0 & 1.58 & 148.0 & 20.4294 & $\\dots$ \\\\\n",
       "\t5 & Antonio Ruiz Cruz & 68 & H & 66.0 & 1.74 & 249.0 & 21.7994 & $\\dots$ \\\\\n",
       "\t6 & Antonio Fernández Ocaña & 51 & H & 62.0 & 1.72 & 276.0 & 20.9573 & $\\dots$ \\\\\n",
       "\t7 & Pedro Gálvez Tenorio & 35 & H & 90.0 & 1.94 & 241.0 & 23.9133 & $\\dots$ \\\\\n",
       "\t8 & Santiago Reillo Manzano & 46 & H & 75.0 & 1.85 & 280.0 & 21.9138 & $\\dots$ \\\\\n",
       "\t9 & Macarena Álvarez Luna & 53 & M & 55.0 & 1.62 & 262.0 & 20.9572 & $\\dots$ \\\\\n",
       "\t10 & José María de la Guía Sanz & 58 & H & 78.0 & 1.87 & 198.0 & 22.3055 & $\\dots$ \\\\\n",
       "\t11 & Miguel Angel Cuadrado Gutiérrez & 27 & H & 109.0 & 1.98 & 210.0 & 27.8033 & $\\dots$ \\\\\n",
       "\t12 & Carolina Rubio Moreno & 20 & M & 61.0 & 1.77 & 194.0 & 19.4708 & $\\dots$ \\\\\n",
       "\\end{tabular}\n"
      ],
      "text/plain": [
       "\u001b[1m12×8 DataFrame\u001b[0m\n",
       "\u001b[1m Row \u001b[0m│\u001b[1m nombre                          \u001b[0m\u001b[1m edad  \u001b[0m\u001b[1m sexo    \u001b[0m\u001b[1m peso    \u001b[0m\u001b[1m altura  \u001b[0m\u001b[1m cole\u001b[0m ⋯\n",
       "     │\u001b[90m String                          \u001b[0m\u001b[90m Int64 \u001b[0m\u001b[90m String1 \u001b[0m\u001b[90m Float64 \u001b[0m\u001b[90m Float64 \u001b[0m\u001b[90m Floa\u001b[0m ⋯\n",
       "─────┼──────────────────────────────────────────────────────────────────────────\n",
       "   1 │ José Luis Martínez Izquierdo        18  H           85.0     1.79       ⋯\n",
       "   2 │ Rosa Díaz Díaz                      32  M           65.0     1.73\n",
       "   3 │ Carmen López Pinzón                 35  M           65.0     1.7\n",
       "   4 │ Marisa López Collado                46  M           51.0     1.58\n",
       "   5 │ Antonio Ruiz Cruz                   68  H           66.0     1.74       ⋯\n",
       "   6 │ Antonio Fernández Ocaña             51  H           62.0     1.72\n",
       "   7 │ Pedro Gálvez Tenorio                35  H           90.0     1.94\n",
       "   8 │ Santiago Reillo Manzano             46  H           75.0     1.85\n",
       "   9 │ Macarena Álvarez Luna               53  M           55.0     1.62       ⋯\n",
       "  10 │ José María de la Guía Sanz          58  H           78.0     1.87\n",
       "  11 │ Miguel Angel Cuadrado Gutiérrez     27  H          109.0     1.98\n",
       "  12 │ Carolina Rubio Moreno               20  M           61.0     1.77\n",
       "\u001b[36m                                                               3 columns omitted\u001b[0m"
      ]
     },
     "execution_count": 14,
     "metadata": {},
     "output_type": "execute_result"
    }
   ],
   "source": [
    "dropmissing(df)"
   ]
  },
  {
   "cell_type": "code",
   "execution_count": 15,
   "id": "21adc173",
   "metadata": {
    "md-indent": "    "
   },
   "outputs": [
    {
     "data": {
      "text/html": [
       "<div><div style = \"float: left;\"><span>13×8 DataFrame</span></div><div style = \"clear: both;\"></div></div><div class = \"data-frame\" style = \"overflow-x: scroll;\"><table class = \"data-frame\" style = \"margin-bottom: 6px;\"><thead><tr class = \"header\"><th class = \"rowNumber\" style = \"font-weight: bold; text-align: right;\">Row</th><th style = \"text-align: left;\">nombre</th><th style = \"text-align: left;\">edad</th><th style = \"text-align: left;\">sexo</th><th style = \"text-align: left;\">peso</th><th style = \"text-align: left;\">altura</th><th style = \"text-align: left;\">colesterol</th><th style = \"text-align: left;\">imc</th><th style = \"text-align: left;\">obesidad</th></tr><tr class = \"subheader headerLastRow\"><th class = \"rowNumber\" style = \"font-weight: bold; text-align: right;\"></th><th title = \"String\" style = \"text-align: left;\">String</th><th title = \"Int64\" style = \"text-align: left;\">Int64</th><th title = \"String1\" style = \"text-align: left;\">String1</th><th title = \"Union{Missing, Float64}\" style = \"text-align: left;\">Float64?</th><th title = \"Float64\" style = \"text-align: left;\">Float64</th><th title = \"Float64\" style = \"text-align: left;\">Float64</th><th title = \"Union{Missing, Float64}\" style = \"text-align: left;\">Float64?</th><th title = \"Union{Missing, CategoricalValue{String, UInt32}}\" style = \"text-align: left;\">Cat…?</th></tr></thead><tbody><tr><td class = \"rowNumber\" style = \"font-weight: bold; text-align: right;\">1</td><td style = \"text-align: left;\">José Luis Martínez Izquierdo</td><td style = \"text-align: right;\">18</td><td style = \"text-align: left;\">H</td><td style = \"text-align: right;\">85.0</td><td style = \"text-align: right;\">1.79</td><td style = \"text-align: right;\">182.0</td><td style = \"text-align: right;\">26.5285</td><td style = \"text-align: left;\">Sobrepeso</td></tr><tr><td class = \"rowNumber\" style = \"font-weight: bold; text-align: right;\">2</td><td style = \"text-align: left;\">Rosa Díaz Díaz</td><td style = \"text-align: right;\">32</td><td style = \"text-align: left;\">M</td><td style = \"text-align: right;\">65.0</td><td style = \"text-align: right;\">1.73</td><td style = \"text-align: right;\">232.0</td><td style = \"text-align: right;\">21.7181</td><td style = \"text-align: left;\">Saludable</td></tr><tr><td class = \"rowNumber\" style = \"font-weight: bold; text-align: right;\">3</td><td style = \"text-align: left;\">Javier García Sánchez</td><td style = \"text-align: right;\">24</td><td style = \"text-align: left;\">H</td><td style = \"font-style: italic; text-align: right;\">missing</td><td style = \"text-align: right;\">1.81</td><td style = \"text-align: right;\">191.0</td><td style = \"font-style: italic; text-align: right;\">missing</td><td style = \"font-style: italic; text-align: left;\">missing</td></tr><tr><td class = \"rowNumber\" style = \"font-weight: bold; text-align: right;\">4</td><td style = \"text-align: left;\">Carmen López Pinzón</td><td style = \"text-align: right;\">35</td><td style = \"text-align: left;\">M</td><td style = \"text-align: right;\">65.0</td><td style = \"text-align: right;\">1.7</td><td style = \"text-align: right;\">200.0</td><td style = \"text-align: right;\">22.4913</td><td style = \"text-align: left;\">Saludable</td></tr><tr><td class = \"rowNumber\" style = \"font-weight: bold; text-align: right;\">5</td><td style = \"text-align: left;\">Marisa López Collado</td><td style = \"text-align: right;\">46</td><td style = \"text-align: left;\">M</td><td style = \"text-align: right;\">51.0</td><td style = \"text-align: right;\">1.58</td><td style = \"text-align: right;\">148.0</td><td style = \"text-align: right;\">20.4294</td><td style = \"text-align: left;\">Saludable</td></tr><tr><td class = \"rowNumber\" style = \"font-weight: bold; text-align: right;\">6</td><td style = \"text-align: left;\">Antonio Ruiz Cruz</td><td style = \"text-align: right;\">68</td><td style = \"text-align: left;\">H</td><td style = \"text-align: right;\">66.0</td><td style = \"text-align: right;\">1.74</td><td style = \"text-align: right;\">249.0</td><td style = \"text-align: right;\">21.7994</td><td style = \"text-align: left;\">Saludable</td></tr><tr><td class = \"rowNumber\" style = \"font-weight: bold; text-align: right;\">7</td><td style = \"text-align: left;\">Antonio Fernández Ocaña</td><td style = \"text-align: right;\">51</td><td style = \"text-align: left;\">H</td><td style = \"text-align: right;\">62.0</td><td style = \"text-align: right;\">1.72</td><td style = \"text-align: right;\">276.0</td><td style = \"text-align: right;\">20.9573</td><td style = \"text-align: left;\">Saludable</td></tr><tr><td class = \"rowNumber\" style = \"font-weight: bold; text-align: right;\">8</td><td style = \"text-align: left;\">Pedro Gálvez Tenorio</td><td style = \"text-align: right;\">35</td><td style = \"text-align: left;\">H</td><td style = \"text-align: right;\">90.0</td><td style = \"text-align: right;\">1.94</td><td style = \"text-align: right;\">241.0</td><td style = \"text-align: right;\">23.9133</td><td style = \"text-align: left;\">Saludable</td></tr><tr><td class = \"rowNumber\" style = \"font-weight: bold; text-align: right;\">9</td><td style = \"text-align: left;\">Santiago Reillo Manzano</td><td style = \"text-align: right;\">46</td><td style = \"text-align: left;\">H</td><td style = \"text-align: right;\">75.0</td><td style = \"text-align: right;\">1.85</td><td style = \"text-align: right;\">280.0</td><td style = \"text-align: right;\">21.9138</td><td style = \"text-align: left;\">Saludable</td></tr><tr><td class = \"rowNumber\" style = \"font-weight: bold; text-align: right;\">10</td><td style = \"text-align: left;\">Macarena Álvarez Luna</td><td style = \"text-align: right;\">53</td><td style = \"text-align: left;\">M</td><td style = \"text-align: right;\">55.0</td><td style = \"text-align: right;\">1.62</td><td style = \"text-align: right;\">262.0</td><td style = \"text-align: right;\">20.9572</td><td style = \"text-align: left;\">Saludable</td></tr><tr><td class = \"rowNumber\" style = \"font-weight: bold; text-align: right;\">11</td><td style = \"text-align: left;\">José María de la Guía Sanz</td><td style = \"text-align: right;\">58</td><td style = \"text-align: left;\">H</td><td style = \"text-align: right;\">78.0</td><td style = \"text-align: right;\">1.87</td><td style = \"text-align: right;\">198.0</td><td style = \"text-align: right;\">22.3055</td><td style = \"text-align: left;\">Saludable</td></tr><tr><td class = \"rowNumber\" style = \"font-weight: bold; text-align: right;\">12</td><td style = \"text-align: left;\">Miguel Angel Cuadrado Gutiérrez</td><td style = \"text-align: right;\">27</td><td style = \"text-align: left;\">H</td><td style = \"text-align: right;\">109.0</td><td style = \"text-align: right;\">1.98</td><td style = \"text-align: right;\">210.0</td><td style = \"text-align: right;\">27.8033</td><td style = \"text-align: left;\">Sobrepeso</td></tr><tr><td class = \"rowNumber\" style = \"font-weight: bold; text-align: right;\">13</td><td style = \"text-align: left;\">Carolina Rubio Moreno</td><td style = \"text-align: right;\">20</td><td style = \"text-align: left;\">M</td><td style = \"text-align: right;\">61.0</td><td style = \"text-align: right;\">1.77</td><td style = \"text-align: right;\">194.0</td><td style = \"text-align: right;\">19.4708</td><td style = \"text-align: left;\">Saludable</td></tr></tbody></table></div>"
      ],
      "text/latex": [
       "\\begin{tabular}{r|ccccccc}\n",
       "\t& nombre & edad & sexo & peso & altura & colesterol & \\\\\n",
       "\t\\hline\n",
       "\t& String & Int64 & String1 & Float64? & Float64 & Float64 & \\\\\n",
       "\t\\hline\n",
       "\t1 & José Luis Martínez Izquierdo & 18 & H & 85.0 & 1.79 & 182.0 & $\\dots$ \\\\\n",
       "\t2 & Rosa Díaz Díaz & 32 & M & 65.0 & 1.73 & 232.0 & $\\dots$ \\\\\n",
       "\t3 & Javier García Sánchez & 24 & H & \\emph{missing} & 1.81 & 191.0 & $\\dots$ \\\\\n",
       "\t4 & Carmen López Pinzón & 35 & M & 65.0 & 1.7 & 200.0 & $\\dots$ \\\\\n",
       "\t5 & Marisa López Collado & 46 & M & 51.0 & 1.58 & 148.0 & $\\dots$ \\\\\n",
       "\t6 & Antonio Ruiz Cruz & 68 & H & 66.0 & 1.74 & 249.0 & $\\dots$ \\\\\n",
       "\t7 & Antonio Fernández Ocaña & 51 & H & 62.0 & 1.72 & 276.0 & $\\dots$ \\\\\n",
       "\t8 & Pedro Gálvez Tenorio & 35 & H & 90.0 & 1.94 & 241.0 & $\\dots$ \\\\\n",
       "\t9 & Santiago Reillo Manzano & 46 & H & 75.0 & 1.85 & 280.0 & $\\dots$ \\\\\n",
       "\t10 & Macarena Álvarez Luna & 53 & M & 55.0 & 1.62 & 262.0 & $\\dots$ \\\\\n",
       "\t11 & José María de la Guía Sanz & 58 & H & 78.0 & 1.87 & 198.0 & $\\dots$ \\\\\n",
       "\t12 & Miguel Angel Cuadrado Gutiérrez & 27 & H & 109.0 & 1.98 & 210.0 & $\\dots$ \\\\\n",
       "\t13 & Carolina Rubio Moreno & 20 & M & 61.0 & 1.77 & 194.0 & $\\dots$ \\\\\n",
       "\\end{tabular}\n"
      ],
      "text/plain": [
       "\u001b[1m13×8 DataFrame\u001b[0m\n",
       "\u001b[1m Row \u001b[0m│\u001b[1m nombre                          \u001b[0m\u001b[1m edad  \u001b[0m\u001b[1m sexo    \u001b[0m\u001b[1m peso      \u001b[0m\u001b[1m altura  \u001b[0m\u001b[1m co\u001b[0m ⋯\n",
       "     │\u001b[90m String                          \u001b[0m\u001b[90m Int64 \u001b[0m\u001b[90m String1 \u001b[0m\u001b[90m Float64?  \u001b[0m\u001b[90m Float64 \u001b[0m\u001b[90m Fl\u001b[0m ⋯\n",
       "─────┼──────────────────────────────────────────────────────────────────────────\n",
       "   1 │ José Luis Martínez Izquierdo        18  H             85.0     1.79     ⋯\n",
       "   2 │ Rosa Díaz Díaz                      32  M             65.0     1.73\n",
       "   3 │ Javier García Sánchez               24  H       \u001b[90m missing   \u001b[0m    1.81\n",
       "   4 │ Carmen López Pinzón                 35  M             65.0     1.7\n",
       "   5 │ Marisa López Collado                46  M             51.0     1.58     ⋯\n",
       "   6 │ Antonio Ruiz Cruz                   68  H             66.0     1.74\n",
       "   7 │ Antonio Fernández Ocaña             51  H             62.0     1.72\n",
       "   8 │ Pedro Gálvez Tenorio                35  H             90.0     1.94\n",
       "   9 │ Santiago Reillo Manzano             46  H             75.0     1.85     ⋯\n",
       "  10 │ Macarena Álvarez Luna               53  M             55.0     1.62\n",
       "  11 │ José María de la Guía Sanz          58  H             78.0     1.87\n",
       "  12 │ Miguel Angel Cuadrado Gutiérrez     27  H            109.0     1.98\n",
       "  13 │ Carolina Rubio Moreno               20  M             61.0     1.77     ⋯\n",
       "\u001b[36m                                                               3 columns omitted\u001b[0m"
      ]
     },
     "execution_count": 15,
     "metadata": {},
     "output_type": "execute_result"
    }
   ],
   "source": [
    "dropmissing(df, :colesterol)    "
   ]
  },
  {
   "cell_type": "code",
   "execution_count": 16,
   "id": "b7e4c807",
   "metadata": {
    "md-indent": "    "
   },
   "outputs": [
    {
     "data": {
      "text/html": [
       "<div><div style = \"float: left;\"><span>14×8 DataFrame</span></div><div style = \"clear: both;\"></div></div><div class = \"data-frame\" style = \"overflow-x: scroll;\"><table class = \"data-frame\" style = \"margin-bottom: 6px;\"><thead><tr class = \"header\"><th class = \"rowNumber\" style = \"font-weight: bold; text-align: right;\">Row</th><th style = \"text-align: left;\">nombre</th><th style = \"text-align: left;\">edad</th><th style = \"text-align: left;\">sexo</th><th style = \"text-align: left;\">peso</th><th style = \"text-align: left;\">altura</th><th style = \"text-align: left;\">colesterol</th><th style = \"text-align: left;\">imc</th><th style = \"text-align: left;\">obesidad</th></tr><tr class = \"subheader headerLastRow\"><th class = \"rowNumber\" style = \"font-weight: bold; text-align: right;\"></th><th title = \"String\" style = \"text-align: left;\">String</th><th title = \"Int64\" style = \"text-align: left;\">Int64</th><th title = \"String1\" style = \"text-align: left;\">String1</th><th title = \"Union{Missing, Float64}\" style = \"text-align: left;\">Float64?</th><th title = \"Float64\" style = \"text-align: left;\">Float64</th><th title = \"Float64\" style = \"text-align: left;\">Float64</th><th title = \"Union{Missing, Float64}\" style = \"text-align: left;\">Float64?</th><th title = \"Union{Missing, CategoricalValue{String, UInt32}}\" style = \"text-align: left;\">Cat…?</th></tr></thead><tbody><tr><td class = \"rowNumber\" style = \"font-weight: bold; text-align: right;\">1</td><td style = \"text-align: left;\">José Luis Martínez Izquierdo</td><td style = \"text-align: right;\">18</td><td style = \"text-align: left;\">H</td><td style = \"text-align: right;\">85.0</td><td style = \"text-align: right;\">1.79</td><td style = \"text-align: right;\">182.0</td><td style = \"text-align: right;\">26.5285</td><td style = \"text-align: left;\">Sobrepeso</td></tr><tr><td class = \"rowNumber\" style = \"font-weight: bold; text-align: right;\">2</td><td style = \"text-align: left;\">Rosa Díaz Díaz</td><td style = \"text-align: right;\">32</td><td style = \"text-align: left;\">M</td><td style = \"text-align: right;\">65.0</td><td style = \"text-align: right;\">1.73</td><td style = \"text-align: right;\">232.0</td><td style = \"text-align: right;\">21.7181</td><td style = \"text-align: left;\">Saludable</td></tr><tr><td class = \"rowNumber\" style = \"font-weight: bold; text-align: right;\">3</td><td style = \"text-align: left;\">Javier García Sánchez</td><td style = \"text-align: right;\">24</td><td style = \"text-align: left;\">H</td><td style = \"font-style: italic; text-align: right;\">missing</td><td style = \"text-align: right;\">1.81</td><td style = \"text-align: right;\">191.0</td><td style = \"font-style: italic; text-align: right;\">missing</td><td style = \"font-style: italic; text-align: left;\">missing</td></tr><tr><td class = \"rowNumber\" style = \"font-weight: bold; text-align: right;\">4</td><td style = \"text-align: left;\">Carmen López Pinzón</td><td style = \"text-align: right;\">35</td><td style = \"text-align: left;\">M</td><td style = \"text-align: right;\">65.0</td><td style = \"text-align: right;\">1.7</td><td style = \"text-align: right;\">200.0</td><td style = \"text-align: right;\">22.4913</td><td style = \"text-align: left;\">Saludable</td></tr><tr><td class = \"rowNumber\" style = \"font-weight: bold; text-align: right;\">5</td><td style = \"text-align: left;\">Marisa López Collado</td><td style = \"text-align: right;\">46</td><td style = \"text-align: left;\">M</td><td style = \"text-align: right;\">51.0</td><td style = \"text-align: right;\">1.58</td><td style = \"text-align: right;\">148.0</td><td style = \"text-align: right;\">20.4294</td><td style = \"text-align: left;\">Saludable</td></tr><tr><td class = \"rowNumber\" style = \"font-weight: bold; text-align: right;\">6</td><td style = \"text-align: left;\">Antonio Ruiz Cruz</td><td style = \"text-align: right;\">68</td><td style = \"text-align: left;\">H</td><td style = \"text-align: right;\">66.0</td><td style = \"text-align: right;\">1.74</td><td style = \"text-align: right;\">249.0</td><td style = \"text-align: right;\">21.7994</td><td style = \"text-align: left;\">Saludable</td></tr><tr><td class = \"rowNumber\" style = \"font-weight: bold; text-align: right;\">7</td><td style = \"text-align: left;\">Antonio Fernández Ocaña</td><td style = \"text-align: right;\">51</td><td style = \"text-align: left;\">H</td><td style = \"text-align: right;\">62.0</td><td style = \"text-align: right;\">1.72</td><td style = \"text-align: right;\">276.0</td><td style = \"text-align: right;\">20.9573</td><td style = \"text-align: left;\">Saludable</td></tr><tr><td class = \"rowNumber\" style = \"font-weight: bold; text-align: right;\">8</td><td style = \"text-align: left;\">Pilar Martín González</td><td style = \"text-align: right;\">22</td><td style = \"text-align: left;\">M</td><td style = \"text-align: right;\">60.0</td><td style = \"text-align: right;\">1.66</td><td style = \"text-align: right;\">220.231</td><td style = \"text-align: right;\">21.7738</td><td style = \"text-align: left;\">Saludable</td></tr><tr><td class = \"rowNumber\" style = \"font-weight: bold; text-align: right;\">9</td><td style = \"text-align: left;\">Pedro Gálvez Tenorio</td><td style = \"text-align: right;\">35</td><td style = \"text-align: left;\">H</td><td style = \"text-align: right;\">90.0</td><td style = \"text-align: right;\">1.94</td><td style = \"text-align: right;\">241.0</td><td style = \"text-align: right;\">23.9133</td><td style = \"text-align: left;\">Saludable</td></tr><tr><td class = \"rowNumber\" style = \"font-weight: bold; text-align: right;\">10</td><td style = \"text-align: left;\">Santiago Reillo Manzano</td><td style = \"text-align: right;\">46</td><td style = \"text-align: left;\">H</td><td style = \"text-align: right;\">75.0</td><td style = \"text-align: right;\">1.85</td><td style = \"text-align: right;\">280.0</td><td style = \"text-align: right;\">21.9138</td><td style = \"text-align: left;\">Saludable</td></tr><tr><td class = \"rowNumber\" style = \"font-weight: bold; text-align: right;\">11</td><td style = \"text-align: left;\">Macarena Álvarez Luna</td><td style = \"text-align: right;\">53</td><td style = \"text-align: left;\">M</td><td style = \"text-align: right;\">55.0</td><td style = \"text-align: right;\">1.62</td><td style = \"text-align: right;\">262.0</td><td style = \"text-align: right;\">20.9572</td><td style = \"text-align: left;\">Saludable</td></tr><tr><td class = \"rowNumber\" style = \"font-weight: bold; text-align: right;\">12</td><td style = \"text-align: left;\">José María de la Guía Sanz</td><td style = \"text-align: right;\">58</td><td style = \"text-align: left;\">H</td><td style = \"text-align: right;\">78.0</td><td style = \"text-align: right;\">1.87</td><td style = \"text-align: right;\">198.0</td><td style = \"text-align: right;\">22.3055</td><td style = \"text-align: left;\">Saludable</td></tr><tr><td class = \"rowNumber\" style = \"font-weight: bold; text-align: right;\">13</td><td style = \"text-align: left;\">Miguel Angel Cuadrado Gutiérrez</td><td style = \"text-align: right;\">27</td><td style = \"text-align: left;\">H</td><td style = \"text-align: right;\">109.0</td><td style = \"text-align: right;\">1.98</td><td style = \"text-align: right;\">210.0</td><td style = \"text-align: right;\">27.8033</td><td style = \"text-align: left;\">Sobrepeso</td></tr><tr><td class = \"rowNumber\" style = \"font-weight: bold; text-align: right;\">14</td><td style = \"text-align: left;\">Carolina Rubio Moreno</td><td style = \"text-align: right;\">20</td><td style = \"text-align: left;\">M</td><td style = \"text-align: right;\">61.0</td><td style = \"text-align: right;\">1.77</td><td style = \"text-align: right;\">194.0</td><td style = \"text-align: right;\">19.4708</td><td style = \"text-align: left;\">Saludable</td></tr></tbody></table></div>"
      ],
      "text/latex": [
       "\\begin{tabular}{r|ccccccc}\n",
       "\t& nombre & edad & sexo & peso & altura & colesterol & \\\\\n",
       "\t\\hline\n",
       "\t& String & Int64 & String1 & Float64? & Float64 & Float64 & \\\\\n",
       "\t\\hline\n",
       "\t1 & José Luis Martínez Izquierdo & 18 & H & 85.0 & 1.79 & 182.0 & $\\dots$ \\\\\n",
       "\t2 & Rosa Díaz Díaz & 32 & M & 65.0 & 1.73 & 232.0 & $\\dots$ \\\\\n",
       "\t3 & Javier García Sánchez & 24 & H & \\emph{missing} & 1.81 & 191.0 & $\\dots$ \\\\\n",
       "\t4 & Carmen López Pinzón & 35 & M & 65.0 & 1.7 & 200.0 & $\\dots$ \\\\\n",
       "\t5 & Marisa López Collado & 46 & M & 51.0 & 1.58 & 148.0 & $\\dots$ \\\\\n",
       "\t6 & Antonio Ruiz Cruz & 68 & H & 66.0 & 1.74 & 249.0 & $\\dots$ \\\\\n",
       "\t7 & Antonio Fernández Ocaña & 51 & H & 62.0 & 1.72 & 276.0 & $\\dots$ \\\\\n",
       "\t8 & Pilar Martín González & 22 & M & 60.0 & 1.66 & 220.231 & $\\dots$ \\\\\n",
       "\t9 & Pedro Gálvez Tenorio & 35 & H & 90.0 & 1.94 & 241.0 & $\\dots$ \\\\\n",
       "\t10 & Santiago Reillo Manzano & 46 & H & 75.0 & 1.85 & 280.0 & $\\dots$ \\\\\n",
       "\t11 & Macarena Álvarez Luna & 53 & M & 55.0 & 1.62 & 262.0 & $\\dots$ \\\\\n",
       "\t12 & José María de la Guía Sanz & 58 & H & 78.0 & 1.87 & 198.0 & $\\dots$ \\\\\n",
       "\t13 & Miguel Angel Cuadrado Gutiérrez & 27 & H & 109.0 & 1.98 & 210.0 & $\\dots$ \\\\\n",
       "\t14 & Carolina Rubio Moreno & 20 & M & 61.0 & 1.77 & 194.0 & $\\dots$ \\\\\n",
       "\\end{tabular}\n"
      ],
      "text/plain": [
       "\u001b[1m14×8 DataFrame\u001b[0m\n",
       "\u001b[1m Row \u001b[0m│\u001b[1m nombre                          \u001b[0m\u001b[1m edad  \u001b[0m\u001b[1m sexo    \u001b[0m\u001b[1m peso      \u001b[0m\u001b[1m altura  \u001b[0m\u001b[1m co\u001b[0m ⋯\n",
       "     │\u001b[90m String                          \u001b[0m\u001b[90m Int64 \u001b[0m\u001b[90m String1 \u001b[0m\u001b[90m Float64?  \u001b[0m\u001b[90m Float64 \u001b[0m\u001b[90m Fl\u001b[0m ⋯\n",
       "─────┼──────────────────────────────────────────────────────────────────────────\n",
       "   1 │ José Luis Martínez Izquierdo        18  H             85.0     1.79     ⋯\n",
       "   2 │ Rosa Díaz Díaz                      32  M             65.0     1.73\n",
       "   3 │ Javier García Sánchez               24  H       \u001b[90m missing   \u001b[0m    1.81\n",
       "   4 │ Carmen López Pinzón                 35  M             65.0     1.7\n",
       "   5 │ Marisa López Collado                46  M             51.0     1.58     ⋯\n",
       "   6 │ Antonio Ruiz Cruz                   68  H             66.0     1.74\n",
       "   7 │ Antonio Fernández Ocaña             51  H             62.0     1.72\n",
       "   8 │ Pilar Martín González               22  M             60.0     1.66\n",
       "   9 │ Pedro Gálvez Tenorio                35  H             90.0     1.94     ⋯\n",
       "  10 │ Santiago Reillo Manzano             46  H             75.0     1.85\n",
       "  11 │ Macarena Álvarez Luna               53  M             55.0     1.62\n",
       "  12 │ José María de la Guía Sanz          58  H             78.0     1.87\n",
       "  13 │ Miguel Angel Cuadrado Gutiérrez     27  H            109.0     1.98     ⋯\n",
       "  14 │ Carolina Rubio Moreno               20  M             61.0     1.77\n",
       "\u001b[36m                                                               3 columns omitted\u001b[0m"
      ]
     },
     "execution_count": 16,
     "metadata": {},
     "output_type": "execute_result"
    }
   ],
   "source": [
    "using Statistics\n",
    "media_colesterol = mean(skipmissing(df.colesterol))\n",
    "df.colesterol = coalesce.(df.colesterol, media_colesterol)\n",
    "df"
   ]
  },
  {
   "cell_type": "code",
   "execution_count": 17,
   "id": "7efca75a",
   "metadata": {
    "md-indent": "    "
   },
   "outputs": [
    {
     "data": {
      "text/html": [
       "<div><div style = \"float: left;\"><span>14×8 DataFrame</span></div><div style = \"clear: both;\"></div></div><div class = \"data-frame\" style = \"overflow-x: scroll;\"><table class = \"data-frame\" style = \"margin-bottom: 6px;\"><thead><tr class = \"header\"><th class = \"rowNumber\" style = \"font-weight: bold; text-align: right;\">Row</th><th style = \"text-align: left;\">nombre</th><th style = \"text-align: left;\">edad</th><th style = \"text-align: left;\">sexo</th><th style = \"text-align: left;\">peso</th><th style = \"text-align: left;\">altura</th><th style = \"text-align: left;\">colesterol</th><th style = \"text-align: left;\">imc</th><th style = \"text-align: left;\">obesidad</th></tr><tr class = \"subheader headerLastRow\"><th class = \"rowNumber\" style = \"font-weight: bold; text-align: right;\"></th><th title = \"String\" style = \"text-align: left;\">String</th><th title = \"Int64\" style = \"text-align: left;\">Int64</th><th title = \"String1\" style = \"text-align: left;\">String1</th><th title = \"Union{Missing, Float64}\" style = \"text-align: left;\">Float64?</th><th title = \"Float64\" style = \"text-align: left;\">Float64</th><th title = \"Float64\" style = \"text-align: left;\">Float64</th><th title = \"Union{Missing, Float64}\" style = \"text-align: left;\">Float64?</th><th title = \"Union{Missing, CategoricalValue{String, UInt32}}\" style = \"text-align: left;\">Cat…?</th></tr></thead><tbody><tr><td class = \"rowNumber\" style = \"font-weight: bold; text-align: right;\">1</td><td style = \"text-align: left;\">Antonio Fernández Ocaña</td><td style = \"text-align: right;\">51</td><td style = \"text-align: left;\">H</td><td style = \"text-align: right;\">62.0</td><td style = \"text-align: right;\">1.72</td><td style = \"text-align: right;\">276.0</td><td style = \"text-align: right;\">20.9573</td><td style = \"text-align: left;\">Saludable</td></tr><tr><td class = \"rowNumber\" style = \"font-weight: bold; text-align: right;\">2</td><td style = \"text-align: left;\">Antonio Ruiz Cruz</td><td style = \"text-align: right;\">68</td><td style = \"text-align: left;\">H</td><td style = \"text-align: right;\">66.0</td><td style = \"text-align: right;\">1.74</td><td style = \"text-align: right;\">249.0</td><td style = \"text-align: right;\">21.7994</td><td style = \"text-align: left;\">Saludable</td></tr><tr><td class = \"rowNumber\" style = \"font-weight: bold; text-align: right;\">3</td><td style = \"text-align: left;\">Carmen López Pinzón</td><td style = \"text-align: right;\">35</td><td style = \"text-align: left;\">M</td><td style = \"text-align: right;\">65.0</td><td style = \"text-align: right;\">1.7</td><td style = \"text-align: right;\">200.0</td><td style = \"text-align: right;\">22.4913</td><td style = \"text-align: left;\">Saludable</td></tr><tr><td class = \"rowNumber\" style = \"font-weight: bold; text-align: right;\">4</td><td style = \"text-align: left;\">Carolina Rubio Moreno</td><td style = \"text-align: right;\">20</td><td style = \"text-align: left;\">M</td><td style = \"text-align: right;\">61.0</td><td style = \"text-align: right;\">1.77</td><td style = \"text-align: right;\">194.0</td><td style = \"text-align: right;\">19.4708</td><td style = \"text-align: left;\">Saludable</td></tr><tr><td class = \"rowNumber\" style = \"font-weight: bold; text-align: right;\">5</td><td style = \"text-align: left;\">Javier García Sánchez</td><td style = \"text-align: right;\">24</td><td style = \"text-align: left;\">H</td><td style = \"font-style: italic; text-align: right;\">missing</td><td style = \"text-align: right;\">1.81</td><td style = \"text-align: right;\">191.0</td><td style = \"font-style: italic; text-align: right;\">missing</td><td style = \"font-style: italic; text-align: left;\">missing</td></tr><tr><td class = \"rowNumber\" style = \"font-weight: bold; text-align: right;\">6</td><td style = \"text-align: left;\">José Luis Martínez Izquierdo</td><td style = \"text-align: right;\">18</td><td style = \"text-align: left;\">H</td><td style = \"text-align: right;\">85.0</td><td style = \"text-align: right;\">1.79</td><td style = \"text-align: right;\">182.0</td><td style = \"text-align: right;\">26.5285</td><td style = \"text-align: left;\">Sobrepeso</td></tr><tr><td class = \"rowNumber\" style = \"font-weight: bold; text-align: right;\">7</td><td style = \"text-align: left;\">José María de la Guía Sanz</td><td style = \"text-align: right;\">58</td><td style = \"text-align: left;\">H</td><td style = \"text-align: right;\">78.0</td><td style = \"text-align: right;\">1.87</td><td style = \"text-align: right;\">198.0</td><td style = \"text-align: right;\">22.3055</td><td style = \"text-align: left;\">Saludable</td></tr><tr><td class = \"rowNumber\" style = \"font-weight: bold; text-align: right;\">8</td><td style = \"text-align: left;\">Macarena Álvarez Luna</td><td style = \"text-align: right;\">53</td><td style = \"text-align: left;\">M</td><td style = \"text-align: right;\">55.0</td><td style = \"text-align: right;\">1.62</td><td style = \"text-align: right;\">262.0</td><td style = \"text-align: right;\">20.9572</td><td style = \"text-align: left;\">Saludable</td></tr><tr><td class = \"rowNumber\" style = \"font-weight: bold; text-align: right;\">9</td><td style = \"text-align: left;\">Marisa López Collado</td><td style = \"text-align: right;\">46</td><td style = \"text-align: left;\">M</td><td style = \"text-align: right;\">51.0</td><td style = \"text-align: right;\">1.58</td><td style = \"text-align: right;\">148.0</td><td style = \"text-align: right;\">20.4294</td><td style = \"text-align: left;\">Saludable</td></tr><tr><td class = \"rowNumber\" style = \"font-weight: bold; text-align: right;\">10</td><td style = \"text-align: left;\">Miguel Angel Cuadrado Gutiérrez</td><td style = \"text-align: right;\">27</td><td style = \"text-align: left;\">H</td><td style = \"text-align: right;\">109.0</td><td style = \"text-align: right;\">1.98</td><td style = \"text-align: right;\">210.0</td><td style = \"text-align: right;\">27.8033</td><td style = \"text-align: left;\">Sobrepeso</td></tr><tr><td class = \"rowNumber\" style = \"font-weight: bold; text-align: right;\">11</td><td style = \"text-align: left;\">Pedro Gálvez Tenorio</td><td style = \"text-align: right;\">35</td><td style = \"text-align: left;\">H</td><td style = \"text-align: right;\">90.0</td><td style = \"text-align: right;\">1.94</td><td style = \"text-align: right;\">241.0</td><td style = \"text-align: right;\">23.9133</td><td style = \"text-align: left;\">Saludable</td></tr><tr><td class = \"rowNumber\" style = \"font-weight: bold; text-align: right;\">12</td><td style = \"text-align: left;\">Pilar Martín González</td><td style = \"text-align: right;\">22</td><td style = \"text-align: left;\">M</td><td style = \"text-align: right;\">60.0</td><td style = \"text-align: right;\">1.66</td><td style = \"text-align: right;\">220.231</td><td style = \"text-align: right;\">21.7738</td><td style = \"text-align: left;\">Saludable</td></tr><tr><td class = \"rowNumber\" style = \"font-weight: bold; text-align: right;\">13</td><td style = \"text-align: left;\">Rosa Díaz Díaz</td><td style = \"text-align: right;\">32</td><td style = \"text-align: left;\">M</td><td style = \"text-align: right;\">65.0</td><td style = \"text-align: right;\">1.73</td><td style = \"text-align: right;\">232.0</td><td style = \"text-align: right;\">21.7181</td><td style = \"text-align: left;\">Saludable</td></tr><tr><td class = \"rowNumber\" style = \"font-weight: bold; text-align: right;\">14</td><td style = \"text-align: left;\">Santiago Reillo Manzano</td><td style = \"text-align: right;\">46</td><td style = \"text-align: left;\">H</td><td style = \"text-align: right;\">75.0</td><td style = \"text-align: right;\">1.85</td><td style = \"text-align: right;\">280.0</td><td style = \"text-align: right;\">21.9138</td><td style = \"text-align: left;\">Saludable</td></tr></tbody></table></div>"
      ],
      "text/latex": [
       "\\begin{tabular}{r|ccccccc}\n",
       "\t& nombre & edad & sexo & peso & altura & colesterol & \\\\\n",
       "\t\\hline\n",
       "\t& String & Int64 & String1 & Float64? & Float64 & Float64 & \\\\\n",
       "\t\\hline\n",
       "\t1 & Antonio Fernández Ocaña & 51 & H & 62.0 & 1.72 & 276.0 & $\\dots$ \\\\\n",
       "\t2 & Antonio Ruiz Cruz & 68 & H & 66.0 & 1.74 & 249.0 & $\\dots$ \\\\\n",
       "\t3 & Carmen López Pinzón & 35 & M & 65.0 & 1.7 & 200.0 & $\\dots$ \\\\\n",
       "\t4 & Carolina Rubio Moreno & 20 & M & 61.0 & 1.77 & 194.0 & $\\dots$ \\\\\n",
       "\t5 & Javier García Sánchez & 24 & H & \\emph{missing} & 1.81 & 191.0 & $\\dots$ \\\\\n",
       "\t6 & José Luis Martínez Izquierdo & 18 & H & 85.0 & 1.79 & 182.0 & $\\dots$ \\\\\n",
       "\t7 & José María de la Guía Sanz & 58 & H & 78.0 & 1.87 & 198.0 & $\\dots$ \\\\\n",
       "\t8 & Macarena Álvarez Luna & 53 & M & 55.0 & 1.62 & 262.0 & $\\dots$ \\\\\n",
       "\t9 & Marisa López Collado & 46 & M & 51.0 & 1.58 & 148.0 & $\\dots$ \\\\\n",
       "\t10 & Miguel Angel Cuadrado Gutiérrez & 27 & H & 109.0 & 1.98 & 210.0 & $\\dots$ \\\\\n",
       "\t11 & Pedro Gálvez Tenorio & 35 & H & 90.0 & 1.94 & 241.0 & $\\dots$ \\\\\n",
       "\t12 & Pilar Martín González & 22 & M & 60.0 & 1.66 & 220.231 & $\\dots$ \\\\\n",
       "\t13 & Rosa Díaz Díaz & 32 & M & 65.0 & 1.73 & 232.0 & $\\dots$ \\\\\n",
       "\t14 & Santiago Reillo Manzano & 46 & H & 75.0 & 1.85 & 280.0 & $\\dots$ \\\\\n",
       "\\end{tabular}\n"
      ],
      "text/plain": [
       "\u001b[1m14×8 DataFrame\u001b[0m\n",
       "\u001b[1m Row \u001b[0m│\u001b[1m nombre                          \u001b[0m\u001b[1m edad  \u001b[0m\u001b[1m sexo    \u001b[0m\u001b[1m peso      \u001b[0m\u001b[1m altura  \u001b[0m\u001b[1m co\u001b[0m ⋯\n",
       "     │\u001b[90m String                          \u001b[0m\u001b[90m Int64 \u001b[0m\u001b[90m String1 \u001b[0m\u001b[90m Float64?  \u001b[0m\u001b[90m Float64 \u001b[0m\u001b[90m Fl\u001b[0m ⋯\n",
       "─────┼──────────────────────────────────────────────────────────────────────────\n",
       "   1 │ Antonio Fernández Ocaña             51  H             62.0     1.72     ⋯\n",
       "   2 │ Antonio Ruiz Cruz                   68  H             66.0     1.74\n",
       "   3 │ Carmen López Pinzón                 35  M             65.0     1.7\n",
       "   4 │ Carolina Rubio Moreno               20  M             61.0     1.77\n",
       "   5 │ Javier García Sánchez               24  H       \u001b[90m missing   \u001b[0m    1.81     ⋯\n",
       "   6 │ José Luis Martínez Izquierdo        18  H             85.0     1.79\n",
       "   7 │ José María de la Guía Sanz          58  H             78.0     1.87\n",
       "   8 │ Macarena Álvarez Luna               53  M             55.0     1.62\n",
       "   9 │ Marisa López Collado                46  M             51.0     1.58     ⋯\n",
       "  10 │ Miguel Angel Cuadrado Gutiérrez     27  H            109.0     1.98\n",
       "  11 │ Pedro Gálvez Tenorio                35  H             90.0     1.94\n",
       "  12 │ Pilar Martín González               22  M             60.0     1.66\n",
       "  13 │ Rosa Díaz Díaz                      32  M             65.0     1.73     ⋯\n",
       "  14 │ Santiago Reillo Manzano             46  H             75.0     1.85\n",
       "\u001b[36m                                                               3 columns omitted\u001b[0m"
      ]
     },
     "execution_count": 17,
     "metadata": {},
     "output_type": "execute_result"
    }
   ],
   "source": [
    "sort(df, :nombre)"
   ]
  },
  {
   "cell_type": "code",
   "execution_count": 18,
   "id": "dc5bc27c",
   "metadata": {
    "md-indent": "    "
   },
   "outputs": [
    {
     "data": {
      "text/html": [
       "<div><div style = \"float: left;\"><span>14×8 DataFrame</span></div><div style = \"clear: both;\"></div></div><div class = \"data-frame\" style = \"overflow-x: scroll;\"><table class = \"data-frame\" style = \"margin-bottom: 6px;\"><thead><tr class = \"header\"><th class = \"rowNumber\" style = \"font-weight: bold; text-align: right;\">Row</th><th style = \"text-align: left;\">nombre</th><th style = \"text-align: left;\">edad</th><th style = \"text-align: left;\">sexo</th><th style = \"text-align: left;\">peso</th><th style = \"text-align: left;\">altura</th><th style = \"text-align: left;\">colesterol</th><th style = \"text-align: left;\">imc</th><th style = \"text-align: left;\">obesidad</th></tr><tr class = \"subheader headerLastRow\"><th class = \"rowNumber\" style = \"font-weight: bold; text-align: right;\"></th><th title = \"String\" style = \"text-align: left;\">String</th><th title = \"Int64\" style = \"text-align: left;\">Int64</th><th title = \"String1\" style = \"text-align: left;\">String1</th><th title = \"Union{Missing, Float64}\" style = \"text-align: left;\">Float64?</th><th title = \"Float64\" style = \"text-align: left;\">Float64</th><th title = \"Float64\" style = \"text-align: left;\">Float64</th><th title = \"Union{Missing, Float64}\" style = \"text-align: left;\">Float64?</th><th title = \"Union{Missing, CategoricalValue{String, UInt32}}\" style = \"text-align: left;\">Cat…?</th></tr></thead><tbody><tr><td class = \"rowNumber\" style = \"font-weight: bold; text-align: right;\">1</td><td style = \"text-align: left;\">Antonio Ruiz Cruz</td><td style = \"text-align: right;\">68</td><td style = \"text-align: left;\">H</td><td style = \"text-align: right;\">66.0</td><td style = \"text-align: right;\">1.74</td><td style = \"text-align: right;\">249.0</td><td style = \"text-align: right;\">21.7994</td><td style = \"text-align: left;\">Saludable</td></tr><tr><td class = \"rowNumber\" style = \"font-weight: bold; text-align: right;\">2</td><td style = \"text-align: left;\">José María de la Guía Sanz</td><td style = \"text-align: right;\">58</td><td style = \"text-align: left;\">H</td><td style = \"text-align: right;\">78.0</td><td style = \"text-align: right;\">1.87</td><td style = \"text-align: right;\">198.0</td><td style = \"text-align: right;\">22.3055</td><td style = \"text-align: left;\">Saludable</td></tr><tr><td class = \"rowNumber\" style = \"font-weight: bold; text-align: right;\">3</td><td style = \"text-align: left;\">Antonio Fernández Ocaña</td><td style = \"text-align: right;\">51</td><td style = \"text-align: left;\">H</td><td style = \"text-align: right;\">62.0</td><td style = \"text-align: right;\">1.72</td><td style = \"text-align: right;\">276.0</td><td style = \"text-align: right;\">20.9573</td><td style = \"text-align: left;\">Saludable</td></tr><tr><td class = \"rowNumber\" style = \"font-weight: bold; text-align: right;\">4</td><td style = \"text-align: left;\">Santiago Reillo Manzano</td><td style = \"text-align: right;\">46</td><td style = \"text-align: left;\">H</td><td style = \"text-align: right;\">75.0</td><td style = \"text-align: right;\">1.85</td><td style = \"text-align: right;\">280.0</td><td style = \"text-align: right;\">21.9138</td><td style = \"text-align: left;\">Saludable</td></tr><tr><td class = \"rowNumber\" style = \"font-weight: bold; text-align: right;\">5</td><td style = \"text-align: left;\">Pedro Gálvez Tenorio</td><td style = \"text-align: right;\">35</td><td style = \"text-align: left;\">H</td><td style = \"text-align: right;\">90.0</td><td style = \"text-align: right;\">1.94</td><td style = \"text-align: right;\">241.0</td><td style = \"text-align: right;\">23.9133</td><td style = \"text-align: left;\">Saludable</td></tr><tr><td class = \"rowNumber\" style = \"font-weight: bold; text-align: right;\">6</td><td style = \"text-align: left;\">Miguel Angel Cuadrado Gutiérrez</td><td style = \"text-align: right;\">27</td><td style = \"text-align: left;\">H</td><td style = \"text-align: right;\">109.0</td><td style = \"text-align: right;\">1.98</td><td style = \"text-align: right;\">210.0</td><td style = \"text-align: right;\">27.8033</td><td style = \"text-align: left;\">Sobrepeso</td></tr><tr><td class = \"rowNumber\" style = \"font-weight: bold; text-align: right;\">7</td><td style = \"text-align: left;\">Javier García Sánchez</td><td style = \"text-align: right;\">24</td><td style = \"text-align: left;\">H</td><td style = \"font-style: italic; text-align: right;\">missing</td><td style = \"text-align: right;\">1.81</td><td style = \"text-align: right;\">191.0</td><td style = \"font-style: italic; text-align: right;\">missing</td><td style = \"font-style: italic; text-align: left;\">missing</td></tr><tr><td class = \"rowNumber\" style = \"font-weight: bold; text-align: right;\">8</td><td style = \"text-align: left;\">José Luis Martínez Izquierdo</td><td style = \"text-align: right;\">18</td><td style = \"text-align: left;\">H</td><td style = \"text-align: right;\">85.0</td><td style = \"text-align: right;\">1.79</td><td style = \"text-align: right;\">182.0</td><td style = \"text-align: right;\">26.5285</td><td style = \"text-align: left;\">Sobrepeso</td></tr><tr><td class = \"rowNumber\" style = \"font-weight: bold; text-align: right;\">9</td><td style = \"text-align: left;\">Macarena Álvarez Luna</td><td style = \"text-align: right;\">53</td><td style = \"text-align: left;\">M</td><td style = \"text-align: right;\">55.0</td><td style = \"text-align: right;\">1.62</td><td style = \"text-align: right;\">262.0</td><td style = \"text-align: right;\">20.9572</td><td style = \"text-align: left;\">Saludable</td></tr><tr><td class = \"rowNumber\" style = \"font-weight: bold; text-align: right;\">10</td><td style = \"text-align: left;\">Marisa López Collado</td><td style = \"text-align: right;\">46</td><td style = \"text-align: left;\">M</td><td style = \"text-align: right;\">51.0</td><td style = \"text-align: right;\">1.58</td><td style = \"text-align: right;\">148.0</td><td style = \"text-align: right;\">20.4294</td><td style = \"text-align: left;\">Saludable</td></tr><tr><td class = \"rowNumber\" style = \"font-weight: bold; text-align: right;\">11</td><td style = \"text-align: left;\">Carmen López Pinzón</td><td style = \"text-align: right;\">35</td><td style = \"text-align: left;\">M</td><td style = \"text-align: right;\">65.0</td><td style = \"text-align: right;\">1.7</td><td style = \"text-align: right;\">200.0</td><td style = \"text-align: right;\">22.4913</td><td style = \"text-align: left;\">Saludable</td></tr><tr><td class = \"rowNumber\" style = \"font-weight: bold; text-align: right;\">12</td><td style = \"text-align: left;\">Rosa Díaz Díaz</td><td style = \"text-align: right;\">32</td><td style = \"text-align: left;\">M</td><td style = \"text-align: right;\">65.0</td><td style = \"text-align: right;\">1.73</td><td style = \"text-align: right;\">232.0</td><td style = \"text-align: right;\">21.7181</td><td style = \"text-align: left;\">Saludable</td></tr><tr><td class = \"rowNumber\" style = \"font-weight: bold; text-align: right;\">13</td><td style = \"text-align: left;\">Pilar Martín González</td><td style = \"text-align: right;\">22</td><td style = \"text-align: left;\">M</td><td style = \"text-align: right;\">60.0</td><td style = \"text-align: right;\">1.66</td><td style = \"text-align: right;\">220.231</td><td style = \"text-align: right;\">21.7738</td><td style = \"text-align: left;\">Saludable</td></tr><tr><td class = \"rowNumber\" style = \"font-weight: bold; text-align: right;\">14</td><td style = \"text-align: left;\">Carolina Rubio Moreno</td><td style = \"text-align: right;\">20</td><td style = \"text-align: left;\">M</td><td style = \"text-align: right;\">61.0</td><td style = \"text-align: right;\">1.77</td><td style = \"text-align: right;\">194.0</td><td style = \"text-align: right;\">19.4708</td><td style = \"text-align: left;\">Saludable</td></tr></tbody></table></div>"
      ],
      "text/latex": [
       "\\begin{tabular}{r|ccccccc}\n",
       "\t& nombre & edad & sexo & peso & altura & colesterol & \\\\\n",
       "\t\\hline\n",
       "\t& String & Int64 & String1 & Float64? & Float64 & Float64 & \\\\\n",
       "\t\\hline\n",
       "\t1 & Antonio Ruiz Cruz & 68 & H & 66.0 & 1.74 & 249.0 & $\\dots$ \\\\\n",
       "\t2 & José María de la Guía Sanz & 58 & H & 78.0 & 1.87 & 198.0 & $\\dots$ \\\\\n",
       "\t3 & Antonio Fernández Ocaña & 51 & H & 62.0 & 1.72 & 276.0 & $\\dots$ \\\\\n",
       "\t4 & Santiago Reillo Manzano & 46 & H & 75.0 & 1.85 & 280.0 & $\\dots$ \\\\\n",
       "\t5 & Pedro Gálvez Tenorio & 35 & H & 90.0 & 1.94 & 241.0 & $\\dots$ \\\\\n",
       "\t6 & Miguel Angel Cuadrado Gutiérrez & 27 & H & 109.0 & 1.98 & 210.0 & $\\dots$ \\\\\n",
       "\t7 & Javier García Sánchez & 24 & H & \\emph{missing} & 1.81 & 191.0 & $\\dots$ \\\\\n",
       "\t8 & José Luis Martínez Izquierdo & 18 & H & 85.0 & 1.79 & 182.0 & $\\dots$ \\\\\n",
       "\t9 & Macarena Álvarez Luna & 53 & M & 55.0 & 1.62 & 262.0 & $\\dots$ \\\\\n",
       "\t10 & Marisa López Collado & 46 & M & 51.0 & 1.58 & 148.0 & $\\dots$ \\\\\n",
       "\t11 & Carmen López Pinzón & 35 & M & 65.0 & 1.7 & 200.0 & $\\dots$ \\\\\n",
       "\t12 & Rosa Díaz Díaz & 32 & M & 65.0 & 1.73 & 232.0 & $\\dots$ \\\\\n",
       "\t13 & Pilar Martín González & 22 & M & 60.0 & 1.66 & 220.231 & $\\dots$ \\\\\n",
       "\t14 & Carolina Rubio Moreno & 20 & M & 61.0 & 1.77 & 194.0 & $\\dots$ \\\\\n",
       "\\end{tabular}\n"
      ],
      "text/plain": [
       "\u001b[1m14×8 DataFrame\u001b[0m\n",
       "\u001b[1m Row \u001b[0m│\u001b[1m nombre                          \u001b[0m\u001b[1m edad  \u001b[0m\u001b[1m sexo    \u001b[0m\u001b[1m peso      \u001b[0m\u001b[1m altura  \u001b[0m\u001b[1m co\u001b[0m ⋯\n",
       "     │\u001b[90m String                          \u001b[0m\u001b[90m Int64 \u001b[0m\u001b[90m String1 \u001b[0m\u001b[90m Float64?  \u001b[0m\u001b[90m Float64 \u001b[0m\u001b[90m Fl\u001b[0m ⋯\n",
       "─────┼──────────────────────────────────────────────────────────────────────────\n",
       "   1 │ Antonio Ruiz Cruz                   68  H             66.0     1.74     ⋯\n",
       "   2 │ José María de la Guía Sanz          58  H             78.0     1.87\n",
       "   3 │ Antonio Fernández Ocaña             51  H             62.0     1.72\n",
       "   4 │ Santiago Reillo Manzano             46  H             75.0     1.85\n",
       "   5 │ Pedro Gálvez Tenorio                35  H             90.0     1.94     ⋯\n",
       "   6 │ Miguel Angel Cuadrado Gutiérrez     27  H            109.0     1.98\n",
       "   7 │ Javier García Sánchez               24  H       \u001b[90m missing   \u001b[0m    1.81\n",
       "   8 │ José Luis Martínez Izquierdo        18  H             85.0     1.79\n",
       "   9 │ Macarena Álvarez Luna               53  M             55.0     1.62     ⋯\n",
       "  10 │ Marisa López Collado                46  M             51.0     1.58\n",
       "  11 │ Carmen López Pinzón                 35  M             65.0     1.7\n",
       "  12 │ Rosa Díaz Díaz                      32  M             65.0     1.73\n",
       "  13 │ Pilar Martín González               22  M             60.0     1.66     ⋯\n",
       "  14 │ Carolina Rubio Moreno               20  M             61.0     1.77\n",
       "\u001b[36m                                                               3 columns omitted\u001b[0m"
      ]
     },
     "execution_count": 18,
     "metadata": {},
     "output_type": "execute_result"
    }
   ],
   "source": [
    "sort(df, [:sexo, :edad], rev=[false, true])"
   ]
  },
  {
   "cell_type": "code",
   "execution_count": 19,
   "id": "ea7dd8b4",
   "metadata": {
    "md-indent": "    "
   },
   "outputs": [
    {
     "data": {
      "text/html": [
       "<div><div style = \"float: left;\"><span>120×9 DataFrame</span></div><div style = \"float: right;\"><span style = \"font-style: italic;\">95 rows omitted</span></div><div style = \"clear: both;\"></div></div><div class = \"data-frame\" style = \"overflow-x: scroll;\"><table class = \"data-frame\" style = \"margin-bottom: 6px;\"><thead><tr class = \"header\"><th class = \"rowNumber\" style = \"font-weight: bold; text-align: right;\">Row</th><th style = \"text-align: left;\">sexo</th><th style = \"text-align: left;\">turno</th><th style = \"text-align: left;\">grupo</th><th style = \"text-align: left;\">trabaja</th><th style = \"text-align: left;\">notaA</th><th style = \"text-align: left;\">notaB</th><th style = \"text-align: left;\">notaC</th><th style = \"text-align: left;\">notaD</th><th style = \"text-align: left;\">notaE</th></tr><tr class = \"subheader headerLastRow\"><th class = \"rowNumber\" style = \"font-weight: bold; text-align: right;\"></th><th title = \"String7\" style = \"text-align: left;\">String7</th><th title = \"String7\" style = \"text-align: left;\">String7</th><th title = \"String1\" style = \"text-align: left;\">String1</th><th title = \"String1\" style = \"text-align: left;\">String1</th><th title = \"Float64\" style = \"text-align: left;\">Float64</th><th title = \"Union{Missing, Float64}\" style = \"text-align: left;\">Float64?</th><th title = \"Union{Missing, Float64}\" style = \"text-align: left;\">Float64?</th><th title = \"Union{Missing, Float64}\" style = \"text-align: left;\">Float64?</th><th title = \"Union{Missing, Float64}\" style = \"text-align: left;\">Float64?</th></tr></thead><tbody><tr><td class = \"rowNumber\" style = \"font-weight: bold; text-align: right;\">1</td><td style = \"text-align: left;\">Mujer</td><td style = \"text-align: left;\">Tarde</td><td style = \"text-align: left;\">C</td><td style = \"text-align: left;\">N</td><td style = \"text-align: right;\">5.2</td><td style = \"text-align: right;\">6.3</td><td style = \"text-align: right;\">3.4</td><td style = \"text-align: right;\">2.3</td><td style = \"text-align: right;\">2.0</td></tr><tr><td class = \"rowNumber\" style = \"font-weight: bold; text-align: right;\">2</td><td style = \"text-align: left;\">Hombre</td><td style = \"text-align: left;\">Mañana</td><td style = \"text-align: left;\">A</td><td style = \"text-align: left;\">N</td><td style = \"text-align: right;\">5.7</td><td style = \"text-align: right;\">5.7</td><td style = \"text-align: right;\">4.2</td><td style = \"text-align: right;\">3.5</td><td style = \"text-align: right;\">2.7</td></tr><tr><td class = \"rowNumber\" style = \"font-weight: bold; text-align: right;\">3</td><td style = \"text-align: left;\">Hombre</td><td style = \"text-align: left;\">Mañana</td><td style = \"text-align: left;\">B</td><td style = \"text-align: left;\">N</td><td style = \"text-align: right;\">8.3</td><td style = \"text-align: right;\">8.8</td><td style = \"text-align: right;\">8.8</td><td style = \"text-align: right;\">8.0</td><td style = \"text-align: right;\">5.5</td></tr><tr><td class = \"rowNumber\" style = \"font-weight: bold; text-align: right;\">4</td><td style = \"text-align: left;\">Hombre</td><td style = \"text-align: left;\">Mañana</td><td style = \"text-align: left;\">B</td><td style = \"text-align: left;\">N</td><td style = \"text-align: right;\">6.1</td><td style = \"text-align: right;\">6.8</td><td style = \"text-align: right;\">4.0</td><td style = \"text-align: right;\">3.5</td><td style = \"text-align: right;\">2.2</td></tr><tr><td class = \"rowNumber\" style = \"font-weight: bold; text-align: right;\">5</td><td style = \"text-align: left;\">Hombre</td><td style = \"text-align: left;\">Mañana</td><td style = \"text-align: left;\">A</td><td style = \"text-align: left;\">N</td><td style = \"text-align: right;\">6.2</td><td style = \"text-align: right;\">9.0</td><td style = \"text-align: right;\">5.0</td><td style = \"text-align: right;\">4.4</td><td style = \"text-align: right;\">3.7</td></tr><tr><td class = \"rowNumber\" style = \"font-weight: bold; text-align: right;\">6</td><td style = \"text-align: left;\">Hombre</td><td style = \"text-align: left;\">Mañana</td><td style = \"text-align: left;\">A</td><td style = \"text-align: left;\">S</td><td style = \"text-align: right;\">8.6</td><td style = \"text-align: right;\">8.9</td><td style = \"text-align: right;\">9.5</td><td style = \"text-align: right;\">8.4</td><td style = \"text-align: right;\">3.9</td></tr><tr><td class = \"rowNumber\" style = \"font-weight: bold; text-align: right;\">7</td><td style = \"text-align: left;\">Mujer</td><td style = \"text-align: left;\">Mañana</td><td style = \"text-align: left;\">A</td><td style = \"text-align: left;\">N</td><td style = \"text-align: right;\">6.7</td><td style = \"text-align: right;\">7.9</td><td style = \"text-align: right;\">5.6</td><td style = \"text-align: right;\">4.8</td><td style = \"text-align: right;\">4.2</td></tr><tr><td class = \"rowNumber\" style = \"font-weight: bold; text-align: right;\">8</td><td style = \"text-align: left;\">Mujer</td><td style = \"text-align: left;\">Tarde</td><td style = \"text-align: left;\">C</td><td style = \"text-align: left;\">S</td><td style = \"text-align: right;\">4.1</td><td style = \"text-align: right;\">5.2</td><td style = \"text-align: right;\">1.7</td><td style = \"text-align: right;\">0.3</td><td style = \"text-align: right;\">1.0</td></tr><tr><td class = \"rowNumber\" style = \"font-weight: bold; text-align: right;\">9</td><td style = \"text-align: left;\">Hombre</td><td style = \"text-align: left;\">Tarde</td><td style = \"text-align: left;\">C</td><td style = \"text-align: left;\">N</td><td style = \"text-align: right;\">5.0</td><td style = \"text-align: right;\">5.0</td><td style = \"text-align: right;\">3.3</td><td style = \"text-align: right;\">2.7</td><td style = \"text-align: right;\">6.0</td></tr><tr><td class = \"rowNumber\" style = \"font-weight: bold; text-align: right;\">10</td><td style = \"text-align: left;\">Hombre</td><td style = \"text-align: left;\">Tarde</td><td style = \"text-align: left;\">C</td><td style = \"text-align: left;\">N</td><td style = \"text-align: right;\">5.3</td><td style = \"text-align: right;\">6.3</td><td style = \"text-align: right;\">4.8</td><td style = \"text-align: right;\">3.6</td><td style = \"text-align: right;\">2.3</td></tr><tr><td class = \"rowNumber\" style = \"font-weight: bold; text-align: right;\">11</td><td style = \"text-align: left;\">Mujer</td><td style = \"text-align: left;\">Mañana</td><td style = \"text-align: left;\">A</td><td style = \"text-align: left;\">N</td><td style = \"text-align: right;\">7.8</td><td style = \"font-style: italic; text-align: right;\">missing</td><td style = \"text-align: right;\">6.5</td><td style = \"text-align: right;\">6.7</td><td style = \"text-align: right;\">2.8</td></tr><tr><td class = \"rowNumber\" style = \"font-weight: bold; text-align: right;\">12</td><td style = \"text-align: left;\">Hombre</td><td style = \"text-align: left;\">Mañana</td><td style = \"text-align: left;\">A</td><td style = \"text-align: left;\">N</td><td style = \"text-align: right;\">6.5</td><td style = \"text-align: right;\">8.0</td><td style = \"text-align: right;\">5.0</td><td style = \"text-align: right;\">3.2</td><td style = \"text-align: right;\">3.3</td></tr><tr><td class = \"rowNumber\" style = \"font-weight: bold; text-align: right;\">13</td><td style = \"text-align: left;\">Hombre</td><td style = \"text-align: left;\">Mañana</td><td style = \"text-align: left;\">B</td><td style = \"text-align: left;\">N</td><td style = \"text-align: right;\">6.6</td><td style = \"text-align: right;\">7.6</td><td style = \"text-align: right;\">5.3</td><td style = \"text-align: right;\">4.0</td><td style = \"text-align: right;\">1.0</td></tr><tr><td style = \"text-align: right;\">&vellip;</td><td style = \"text-align: right;\">&vellip;</td><td style = \"text-align: right;\">&vellip;</td><td style = \"text-align: right;\">&vellip;</td><td style = \"text-align: right;\">&vellip;</td><td style = \"text-align: right;\">&vellip;</td><td style = \"text-align: right;\">&vellip;</td><td style = \"text-align: right;\">&vellip;</td><td style = \"text-align: right;\">&vellip;</td><td style = \"text-align: right;\">&vellip;</td></tr><tr><td class = \"rowNumber\" style = \"font-weight: bold; text-align: right;\">109</td><td style = \"text-align: left;\">Mujer</td><td style = \"text-align: left;\">Tarde</td><td style = \"text-align: left;\">C</td><td style = \"text-align: left;\">N</td><td style = \"text-align: right;\">5.4</td><td style = \"text-align: right;\">7.3</td><td style = \"text-align: right;\">3.5</td><td style = \"text-align: right;\">2.5</td><td style = \"text-align: right;\">4.6</td></tr><tr><td class = \"rowNumber\" style = \"font-weight: bold; text-align: right;\">110</td><td style = \"text-align: left;\">Hombre</td><td style = \"text-align: left;\">Mañana</td><td style = \"text-align: left;\">B</td><td style = \"text-align: left;\">N</td><td style = \"text-align: right;\">7.4</td><td style = \"text-align: right;\">7.4</td><td style = \"text-align: right;\">6.2</td><td style = \"text-align: right;\">5.8</td><td style = \"text-align: right;\">1.1</td></tr><tr><td class = \"rowNumber\" style = \"font-weight: bold; text-align: right;\">111</td><td style = \"text-align: left;\">Mujer</td><td style = \"text-align: left;\">Tarde</td><td style = \"text-align: left;\">C</td><td style = \"text-align: left;\">S</td><td style = \"text-align: right;\">5.1</td><td style = \"text-align: right;\">8.1</td><td style = \"text-align: right;\">5.2</td><td style = \"text-align: right;\">5.1</td><td style = \"text-align: right;\">4.5</td></tr><tr><td class = \"rowNumber\" style = \"font-weight: bold; text-align: right;\">112</td><td style = \"text-align: left;\">Hombre</td><td style = \"text-align: left;\">Mañana</td><td style = \"text-align: left;\">A</td><td style = \"text-align: left;\">N</td><td style = \"text-align: right;\">6.9</td><td style = \"text-align: right;\">7.8</td><td style = \"text-align: right;\">3.9</td><td style = \"text-align: right;\">2.8</td><td style = \"font-style: italic; text-align: right;\">missing</td></tr><tr><td class = \"rowNumber\" style = \"font-weight: bold; text-align: right;\">113</td><td style = \"text-align: left;\">Hombre</td><td style = \"text-align: left;\">Tarde</td><td style = \"text-align: left;\">C</td><td style = \"text-align: left;\">N</td><td style = \"text-align: right;\">3.6</td><td style = \"text-align: right;\">4.8</td><td style = \"text-align: right;\">2.1</td><td style = \"text-align: right;\">0.5</td><td style = \"text-align: right;\">5.6</td></tr><tr><td class = \"rowNumber\" style = \"font-weight: bold; text-align: right;\">114</td><td style = \"text-align: left;\">Hombre</td><td style = \"text-align: left;\">Tarde</td><td style = \"text-align: left;\">C</td><td style = \"text-align: left;\">S</td><td style = \"text-align: right;\">5.9</td><td style = \"text-align: right;\">6.2</td><td style = \"text-align: right;\">5.0</td><td style = \"text-align: right;\">3.9</td><td style = \"text-align: right;\">1.9</td></tr><tr><td class = \"rowNumber\" style = \"font-weight: bold; text-align: right;\">115</td><td style = \"text-align: left;\">Hombre</td><td style = \"text-align: left;\">Mañana</td><td style = \"text-align: left;\">B</td><td style = \"text-align: left;\">N</td><td style = \"text-align: right;\">6.8</td><td style = \"text-align: right;\">7.2</td><td style = \"text-align: right;\">4.9</td><td style = \"text-align: right;\">3.8</td><td style = \"text-align: right;\">2.8</td></tr><tr><td class = \"rowNumber\" style = \"font-weight: bold; text-align: right;\">116</td><td style = \"text-align: left;\">Hombre</td><td style = \"text-align: left;\">Mañana</td><td style = \"text-align: left;\">A</td><td style = \"text-align: left;\">N</td><td style = \"text-align: right;\">6.5</td><td style = \"text-align: right;\">6.1</td><td style = \"text-align: right;\">5.8</td><td style = \"text-align: right;\">4.9</td><td style = \"text-align: right;\">1.2</td></tr><tr><td class = \"rowNumber\" style = \"font-weight: bold; text-align: right;\">117</td><td style = \"text-align: left;\">Mujer</td><td style = \"text-align: left;\">Mañana</td><td style = \"text-align: left;\">B</td><td style = \"text-align: left;\">N</td><td style = \"text-align: right;\">6.2</td><td style = \"text-align: right;\">7.0</td><td style = \"text-align: right;\">5.6</td><td style = \"text-align: right;\">5.4</td><td style = \"text-align: right;\">1.7</td></tr><tr><td class = \"rowNumber\" style = \"font-weight: bold; text-align: right;\">118</td><td style = \"text-align: left;\">Mujer</td><td style = \"text-align: left;\">Tarde</td><td style = \"text-align: left;\">C</td><td style = \"text-align: left;\">N</td><td style = \"text-align: right;\">5.0</td><td style = \"text-align: right;\">6.5</td><td style = \"text-align: right;\">4.0</td><td style = \"text-align: right;\">2.8</td><td style = \"text-align: right;\">3.6</td></tr><tr><td class = \"rowNumber\" style = \"font-weight: bold; text-align: right;\">119</td><td style = \"text-align: left;\">Hombre</td><td style = \"text-align: left;\">Tarde</td><td style = \"text-align: left;\">C</td><td style = \"text-align: left;\">N</td><td style = \"text-align: right;\">4.7</td><td style = \"text-align: right;\">6.0</td><td style = \"text-align: right;\">1.3</td><td style = \"text-align: right;\">0.4</td><td style = \"text-align: right;\">2.2</td></tr><tr><td class = \"rowNumber\" style = \"font-weight: bold; text-align: right;\">120</td><td style = \"text-align: left;\">Hombre</td><td style = \"text-align: left;\">Tarde</td><td style = \"text-align: left;\">C</td><td style = \"text-align: left;\">S</td><td style = \"text-align: right;\">4.5</td><td style = \"text-align: right;\">4.7</td><td style = \"text-align: right;\">6.0</td><td style = \"text-align: right;\">4.9</td><td style = \"text-align: right;\">1.8</td></tr></tbody></table></div>"
      ],
      "text/latex": [
       "\\begin{tabular}{r|ccccccccc}\n",
       "\t& sexo & turno & grupo & trabaja & notaA & notaB & notaC & notaD & notaE\\\\\n",
       "\t\\hline\n",
       "\t& String7 & String7 & String1 & String1 & Float64 & Float64? & Float64? & Float64? & Float64?\\\\\n",
       "\t\\hline\n",
       "\t1 & Mujer & Tarde & C & N & 5.2 & 6.3 & 3.4 & 2.3 & 2.0 \\\\\n",
       "\t2 & Hombre & Mañana & A & N & 5.7 & 5.7 & 4.2 & 3.5 & 2.7 \\\\\n",
       "\t3 & Hombre & Mañana & B & N & 8.3 & 8.8 & 8.8 & 8.0 & 5.5 \\\\\n",
       "\t4 & Hombre & Mañana & B & N & 6.1 & 6.8 & 4.0 & 3.5 & 2.2 \\\\\n",
       "\t5 & Hombre & Mañana & A & N & 6.2 & 9.0 & 5.0 & 4.4 & 3.7 \\\\\n",
       "\t6 & Hombre & Mañana & A & S & 8.6 & 8.9 & 9.5 & 8.4 & 3.9 \\\\\n",
       "\t7 & Mujer & Mañana & A & N & 6.7 & 7.9 & 5.6 & 4.8 & 4.2 \\\\\n",
       "\t8 & Mujer & Tarde & C & S & 4.1 & 5.2 & 1.7 & 0.3 & 1.0 \\\\\n",
       "\t9 & Hombre & Tarde & C & N & 5.0 & 5.0 & 3.3 & 2.7 & 6.0 \\\\\n",
       "\t10 & Hombre & Tarde & C & N & 5.3 & 6.3 & 4.8 & 3.6 & 2.3 \\\\\n",
       "\t11 & Mujer & Mañana & A & N & 7.8 & \\emph{missing} & 6.5 & 6.7 & 2.8 \\\\\n",
       "\t12 & Hombre & Mañana & A & N & 6.5 & 8.0 & 5.0 & 3.2 & 3.3 \\\\\n",
       "\t13 & Hombre & Mañana & B & N & 6.6 & 7.6 & 5.3 & 4.0 & 1.0 \\\\\n",
       "\t14 & Hombre & Mañana & B & N & 6.2 & 6.7 & 5.3 & 4.7 & 4.7 \\\\\n",
       "\t15 & Hombre & Mañana & B & N & 5.2 & 4.1 & 5.8 & 5.0 & 1.9 \\\\\n",
       "\t16 & Hombre & Mañana & B & S & 8.7 & \\emph{missing} & 7.6 & 6.3 & 9.3 \\\\\n",
       "\t17 & Mujer & Mañana & B & N & 6.7 & 6.3 & 6.8 & 5.3 & 2.8 \\\\\n",
       "\t18 & Mujer & Tarde & C & N & 3.1 & 4.8 & 2.7 & 1.8 & 1.0 \\\\\n",
       "\t19 & Hombre & Mañana & B & N & 7.1 & 10.0 & 5.9 & 4.9 & 2.5 \\\\\n",
       "\t20 & Hombre & Mañana & B & S & 5.3 & 4.8 & 2.8 & 0.9 & 4.2 \\\\\n",
       "\t21 & Hombre & Mañana & A & N & 4.4 & 6.1 & 2.9 & 1.9 & 2.4 \\\\\n",
       "\t22 & Mujer & Tarde & C & S & 5.7 & 6.4 & 4.2 & 3.3 & 1.0 \\\\\n",
       "\t23 & Mujer & Tarde & C & S & 4.5 & 3.9 & 3.5 & 2.6 & 2.2 \\\\\n",
       "\t24 & Mujer & Tarde & C & N & 4.9 & 4.4 & 5.2 & 3.7 & 0.4 \\\\\n",
       "\t25 & Hombre & Tarde & C & N & 5.1 & 4.5 & 6.4 & 5.6 & 0.5 \\\\\n",
       "\t26 & Hombre & Mañana & B & N & 3.5 & 3.9 & 4.0 & 3.7 & 1.7 \\\\\n",
       "\t27 & Mujer & Mañana & A & N & 7.3 & 6.8 & 6.1 & 5.4 & 1.8 \\\\\n",
       "\t28 & Hombre & Mañana & B & N & 6.2 & 7.9 & 3.5 & 1.9 & 3.1 \\\\\n",
       "\t29 & Mujer & Mañana & A & N & 4.3 & 7.4 & 2.9 & 1.7 & 0.2 \\\\\n",
       "\t30 & Hombre & Mañana & B & N & 7.9 & 7.6 & 7.0 & 6.1 & 0.4 \\\\\n",
       "\t$\\dots$ & $\\dots$ & $\\dots$ & $\\dots$ & $\\dots$ & $\\dots$ & $\\dots$ & $\\dots$ & $\\dots$ & $\\dots$ \\\\\n",
       "\\end{tabular}\n"
      ],
      "text/plain": [
       "\u001b[1m120×9 DataFrame\u001b[0m\n",
       "\u001b[1m Row \u001b[0m│\u001b[1m sexo    \u001b[0m\u001b[1m turno   \u001b[0m\u001b[1m grupo   \u001b[0m\u001b[1m trabaja \u001b[0m\u001b[1m notaA   \u001b[0m\u001b[1m notaB     \u001b[0m\u001b[1m notaC    \u001b[0m\u001b[1m notaD\u001b[0m ⋯\n",
       "     │\u001b[90m String7 \u001b[0m\u001b[90m String7 \u001b[0m\u001b[90m String1 \u001b[0m\u001b[90m String1 \u001b[0m\u001b[90m Float64 \u001b[0m\u001b[90m Float64?  \u001b[0m\u001b[90m Float64? \u001b[0m\u001b[90m Float\u001b[0m ⋯\n",
       "─────┼──────────────────────────────────────────────────────────────────────────\n",
       "   1 │ Mujer    Tarde    C        N            5.2        6.3       3.4        ⋯\n",
       "   2 │ Hombre   Mañana   A        N            5.7        5.7       4.2\n",
       "   3 │ Hombre   Mañana   B        N            8.3        8.8       8.8\n",
       "   4 │ Hombre   Mañana   B        N            6.1        6.8       4.0\n",
       "   5 │ Hombre   Mañana   A        N            6.2        9.0       5.0        ⋯\n",
       "   6 │ Hombre   Mañana   A        S            8.6        8.9       9.5\n",
       "   7 │ Mujer    Mañana   A        N            6.7        7.9       5.6\n",
       "   8 │ Mujer    Tarde    C        S            4.1        5.2       1.7\n",
       "   9 │ Hombre   Tarde    C        N            5.0        5.0       3.3        ⋯\n",
       "  10 │ Hombre   Tarde    C        N            5.3        6.3       4.8\n",
       "  11 │ Mujer    Mañana   A        N            7.8 \u001b[90m missing   \u001b[0m      6.5\n",
       "  ⋮  │    ⋮        ⋮        ⋮        ⋮        ⋮         ⋮         ⋮         ⋮  ⋱\n",
       " 111 │ Mujer    Tarde    C        S            5.1        8.1       5.2\n",
       " 112 │ Hombre   Mañana   A        N            6.9        7.8       3.9        ⋯\n",
       " 113 │ Hombre   Tarde    C        N            3.6        4.8       2.1\n",
       " 114 │ Hombre   Tarde    C        S            5.9        6.2       5.0\n",
       " 115 │ Hombre   Mañana   B        N            6.8        7.2       4.9\n",
       " 116 │ Hombre   Mañana   A        N            6.5        6.1       5.8        ⋯\n",
       " 117 │ Mujer    Mañana   B        N            6.2        7.0       5.6\n",
       " 118 │ Mujer    Tarde    C        N            5.0        6.5       4.0\n",
       " 119 │ Hombre   Tarde    C        N            4.7        6.0       1.3\n",
       " 120 │ Hombre   Tarde    C        S            4.5        4.7       6.0        ⋯\n",
       "\u001b[36m                                                   2 columns and 99 rows omitted\u001b[0m"
      ]
     },
     "execution_count": 19,
     "metadata": {},
     "output_type": "execute_result"
    }
   ],
   "source": [
    "using CSV, DataFrames\n",
    "df = CSV.read(download(\"https://aprendeconalf.es/aprendizaje-automatico-practicas-julia/datos/notas-curso2.csv\"), DataFrame; missingstring=\"NA\")"
   ]
  },
  {
   "cell_type": "code",
   "execution_count": 20,
   "id": "79461540",
   "metadata": {
    "md-indent": "    "
   },
   "outputs": [
    {
     "data": {
      "text/html": [
       "<div><div style = \"float: left;\"><span>9×2 DataFrame</span></div><div style = \"clear: both;\"></div></div><div class = \"data-frame\" style = \"overflow-x: scroll;\"><table class = \"data-frame\" style = \"margin-bottom: 6px;\"><thead><tr class = \"header\"><th class = \"rowNumber\" style = \"font-weight: bold; text-align: right;\">Row</th><th style = \"text-align: left;\">variable</th><th style = \"text-align: left;\">nmissing</th></tr><tr class = \"subheader headerLastRow\"><th class = \"rowNumber\" style = \"font-weight: bold; text-align: right;\"></th><th title = \"Symbol\" style = \"text-align: left;\">Symbol</th><th title = \"Int64\" style = \"text-align: left;\">Int64</th></tr></thead><tbody><tr><td class = \"rowNumber\" style = \"font-weight: bold; text-align: right;\">1</td><td style = \"text-align: left;\">sexo</td><td style = \"text-align: right;\">0</td></tr><tr><td class = \"rowNumber\" style = \"font-weight: bold; text-align: right;\">2</td><td style = \"text-align: left;\">turno</td><td style = \"text-align: right;\">0</td></tr><tr><td class = \"rowNumber\" style = \"font-weight: bold; text-align: right;\">3</td><td style = \"text-align: left;\">grupo</td><td style = \"text-align: right;\">0</td></tr><tr><td class = \"rowNumber\" style = \"font-weight: bold; text-align: right;\">4</td><td style = \"text-align: left;\">trabaja</td><td style = \"text-align: right;\">0</td></tr><tr><td class = \"rowNumber\" style = \"font-weight: bold; text-align: right;\">5</td><td style = \"text-align: left;\">notaA</td><td style = \"text-align: right;\">0</td></tr><tr><td class = \"rowNumber\" style = \"font-weight: bold; text-align: right;\">6</td><td style = \"text-align: left;\">notaB</td><td style = \"text-align: right;\">5</td></tr><tr><td class = \"rowNumber\" style = \"font-weight: bold; text-align: right;\">7</td><td style = \"text-align: left;\">notaC</td><td style = \"text-align: right;\">1</td></tr><tr><td class = \"rowNumber\" style = \"font-weight: bold; text-align: right;\">8</td><td style = \"text-align: left;\">notaD</td><td style = \"text-align: right;\">2</td></tr><tr><td class = \"rowNumber\" style = \"font-weight: bold; text-align: right;\">9</td><td style = \"text-align: left;\">notaE</td><td style = \"text-align: right;\">2</td></tr></tbody></table></div>"
      ],
      "text/latex": [
       "\\begin{tabular}{r|cc}\n",
       "\t& variable & nmissing\\\\\n",
       "\t\\hline\n",
       "\t& Symbol & Int64\\\\\n",
       "\t\\hline\n",
       "\t1 & sexo & 0 \\\\\n",
       "\t2 & turno & 0 \\\\\n",
       "\t3 & grupo & 0 \\\\\n",
       "\t4 & trabaja & 0 \\\\\n",
       "\t5 & notaA & 0 \\\\\n",
       "\t6 & notaB & 5 \\\\\n",
       "\t7 & notaC & 1 \\\\\n",
       "\t8 & notaD & 2 \\\\\n",
       "\t9 & notaE & 2 \\\\\n",
       "\\end{tabular}\n"
      ],
      "text/plain": [
       "\u001b[1m9×2 DataFrame\u001b[0m\n",
       "\u001b[1m Row \u001b[0m│\u001b[1m variable \u001b[0m\u001b[1m nmissing \u001b[0m\n",
       "     │\u001b[90m Symbol   \u001b[0m\u001b[90m Int64    \u001b[0m\n",
       "─────┼────────────────────\n",
       "   1 │ sexo             0\n",
       "   2 │ turno            0\n",
       "   3 │ grupo            0\n",
       "   4 │ trabaja          0\n",
       "   5 │ notaA            0\n",
       "   6 │ notaB            5\n",
       "   7 │ notaC            1\n",
       "   8 │ notaD            2\n",
       "   9 │ notaE            2"
      ]
     },
     "execution_count": 20,
     "metadata": {},
     "output_type": "execute_result"
    }
   ],
   "source": [
    "describe(df)[:, [:variable, :nmissing]]"
   ]
  },
  {
   "cell_type": "code",
   "execution_count": 21,
   "id": "27d4ec99",
   "metadata": {
    "md-indent": "    "
   },
   "outputs": [
    {
     "data": {
      "text/html": [
       "<div><div style = \"float: left;\"><span>120×12 DataFrame</span></div><div style = \"float: right;\"><span style = \"font-style: italic;\">95 rows omitted</span></div><div style = \"clear: both;\"></div></div><div class = \"data-frame\" style = \"overflow-x: scroll;\"><table class = \"data-frame\" style = \"margin-bottom: 6px;\"><thead><tr class = \"header\"><th class = \"rowNumber\" style = \"font-weight: bold; text-align: right;\">Row</th><th style = \"text-align: left;\">sexo</th><th style = \"text-align: left;\">turno</th><th style = \"text-align: left;\">grupo</th><th style = \"text-align: left;\">trabaja</th><th style = \"text-align: left;\">notaA</th><th style = \"text-align: left;\">notaB</th><th style = \"text-align: left;\">notaC</th><th style = \"text-align: left;\">notaD</th><th style = \"text-align: left;\">notaE</th><th style = \"text-align: left;\">x1</th><th style = \"text-align: left;\">x2</th><th style = \"text-align: left;\">x3</th></tr><tr class = \"subheader headerLastRow\"><th class = \"rowNumber\" style = \"font-weight: bold; text-align: right;\"></th><th title = \"String7\" style = \"text-align: left;\">String7</th><th title = \"String7\" style = \"text-align: left;\">String7</th><th title = \"String1\" style = \"text-align: left;\">String1</th><th title = \"String1\" style = \"text-align: left;\">String1</th><th title = \"Float64\" style = \"text-align: left;\">Float64</th><th title = \"Union{Missing, Float64}\" style = \"text-align: left;\">Float64?</th><th title = \"Union{Missing, Float64}\" style = \"text-align: left;\">Float64?</th><th title = \"Union{Missing, Float64}\" style = \"text-align: left;\">Float64?</th><th title = \"Union{Missing, Float64}\" style = \"text-align: left;\">Float64?</th><th title = \"Bool\" style = \"text-align: left;\">Bool</th><th title = \"Bool\" style = \"text-align: left;\">Bool</th><th title = \"Bool\" style = \"text-align: left;\">Bool</th></tr></thead><tbody><tr><td class = \"rowNumber\" style = \"font-weight: bold; text-align: right;\">1</td><td style = \"text-align: left;\">Mujer</td><td style = \"text-align: left;\">Tarde</td><td style = \"text-align: left;\">C</td><td style = \"text-align: left;\">N</td><td style = \"text-align: right;\">5.2</td><td style = \"text-align: right;\">6.3</td><td style = \"text-align: right;\">3.4</td><td style = \"text-align: right;\">2.3</td><td style = \"text-align: right;\">2.0</td><td style = \"text-align: right;\">true</td><td style = \"text-align: right;\">false</td><td style = \"text-align: right;\">false</td></tr><tr><td class = \"rowNumber\" style = \"font-weight: bold; text-align: right;\">2</td><td style = \"text-align: left;\">Hombre</td><td style = \"text-align: left;\">Mañana</td><td style = \"text-align: left;\">A</td><td style = \"text-align: left;\">N</td><td style = \"text-align: right;\">5.7</td><td style = \"text-align: right;\">5.7</td><td style = \"text-align: right;\">4.2</td><td style = \"text-align: right;\">3.5</td><td style = \"text-align: right;\">2.7</td><td style = \"text-align: right;\">false</td><td style = \"text-align: right;\">true</td><td style = \"text-align: right;\">false</td></tr><tr><td class = \"rowNumber\" style = \"font-weight: bold; text-align: right;\">3</td><td style = \"text-align: left;\">Hombre</td><td style = \"text-align: left;\">Mañana</td><td style = \"text-align: left;\">B</td><td style = \"text-align: left;\">N</td><td style = \"text-align: right;\">8.3</td><td style = \"text-align: right;\">8.8</td><td style = \"text-align: right;\">8.8</td><td style = \"text-align: right;\">8.0</td><td style = \"text-align: right;\">5.5</td><td style = \"text-align: right;\">false</td><td style = \"text-align: right;\">false</td><td style = \"text-align: right;\">true</td></tr><tr><td class = \"rowNumber\" style = \"font-weight: bold; text-align: right;\">4</td><td style = \"text-align: left;\">Hombre</td><td style = \"text-align: left;\">Mañana</td><td style = \"text-align: left;\">B</td><td style = \"text-align: left;\">N</td><td style = \"text-align: right;\">6.1</td><td style = \"text-align: right;\">6.8</td><td style = \"text-align: right;\">4.0</td><td style = \"text-align: right;\">3.5</td><td style = \"text-align: right;\">2.2</td><td style = \"text-align: right;\">false</td><td style = \"text-align: right;\">false</td><td style = \"text-align: right;\">true</td></tr><tr><td class = \"rowNumber\" style = \"font-weight: bold; text-align: right;\">5</td><td style = \"text-align: left;\">Hombre</td><td style = \"text-align: left;\">Mañana</td><td style = \"text-align: left;\">A</td><td style = \"text-align: left;\">N</td><td style = \"text-align: right;\">6.2</td><td style = \"text-align: right;\">9.0</td><td style = \"text-align: right;\">5.0</td><td style = \"text-align: right;\">4.4</td><td style = \"text-align: right;\">3.7</td><td style = \"text-align: right;\">false</td><td style = \"text-align: right;\">true</td><td style = \"text-align: right;\">false</td></tr><tr><td class = \"rowNumber\" style = \"font-weight: bold; text-align: right;\">6</td><td style = \"text-align: left;\">Hombre</td><td style = \"text-align: left;\">Mañana</td><td style = \"text-align: left;\">A</td><td style = \"text-align: left;\">S</td><td style = \"text-align: right;\">8.6</td><td style = \"text-align: right;\">8.9</td><td style = \"text-align: right;\">9.5</td><td style = \"text-align: right;\">8.4</td><td style = \"text-align: right;\">3.9</td><td style = \"text-align: right;\">false</td><td style = \"text-align: right;\">true</td><td style = \"text-align: right;\">false</td></tr><tr><td class = \"rowNumber\" style = \"font-weight: bold; text-align: right;\">7</td><td style = \"text-align: left;\">Mujer</td><td style = \"text-align: left;\">Mañana</td><td style = \"text-align: left;\">A</td><td style = \"text-align: left;\">N</td><td style = \"text-align: right;\">6.7</td><td style = \"text-align: right;\">7.9</td><td style = \"text-align: right;\">5.6</td><td style = \"text-align: right;\">4.8</td><td style = \"text-align: right;\">4.2</td><td style = \"text-align: right;\">false</td><td style = \"text-align: right;\">true</td><td style = \"text-align: right;\">false</td></tr><tr><td class = \"rowNumber\" style = \"font-weight: bold; text-align: right;\">8</td><td style = \"text-align: left;\">Mujer</td><td style = \"text-align: left;\">Tarde</td><td style = \"text-align: left;\">C</td><td style = \"text-align: left;\">S</td><td style = \"text-align: right;\">4.1</td><td style = \"text-align: right;\">5.2</td><td style = \"text-align: right;\">1.7</td><td style = \"text-align: right;\">0.3</td><td style = \"text-align: right;\">1.0</td><td style = \"text-align: right;\">true</td><td style = \"text-align: right;\">false</td><td style = \"text-align: right;\">false</td></tr><tr><td class = \"rowNumber\" style = \"font-weight: bold; text-align: right;\">9</td><td style = \"text-align: left;\">Hombre</td><td style = \"text-align: left;\">Tarde</td><td style = \"text-align: left;\">C</td><td style = \"text-align: left;\">N</td><td style = \"text-align: right;\">5.0</td><td style = \"text-align: right;\">5.0</td><td style = \"text-align: right;\">3.3</td><td style = \"text-align: right;\">2.7</td><td style = \"text-align: right;\">6.0</td><td style = \"text-align: right;\">true</td><td style = \"text-align: right;\">false</td><td style = \"text-align: right;\">false</td></tr><tr><td class = \"rowNumber\" style = \"font-weight: bold; text-align: right;\">10</td><td style = \"text-align: left;\">Hombre</td><td style = \"text-align: left;\">Tarde</td><td style = \"text-align: left;\">C</td><td style = \"text-align: left;\">N</td><td style = \"text-align: right;\">5.3</td><td style = \"text-align: right;\">6.3</td><td style = \"text-align: right;\">4.8</td><td style = \"text-align: right;\">3.6</td><td style = \"text-align: right;\">2.3</td><td style = \"text-align: right;\">true</td><td style = \"text-align: right;\">false</td><td style = \"text-align: right;\">false</td></tr><tr><td class = \"rowNumber\" style = \"font-weight: bold; text-align: right;\">11</td><td style = \"text-align: left;\">Mujer</td><td style = \"text-align: left;\">Mañana</td><td style = \"text-align: left;\">A</td><td style = \"text-align: left;\">N</td><td style = \"text-align: right;\">7.8</td><td style = \"font-style: italic; text-align: right;\">missing</td><td style = \"text-align: right;\">6.5</td><td style = \"text-align: right;\">6.7</td><td style = \"text-align: right;\">2.8</td><td style = \"text-align: right;\">false</td><td style = \"text-align: right;\">true</td><td style = \"text-align: right;\">false</td></tr><tr><td class = \"rowNumber\" style = \"font-weight: bold; text-align: right;\">12</td><td style = \"text-align: left;\">Hombre</td><td style = \"text-align: left;\">Mañana</td><td style = \"text-align: left;\">A</td><td style = \"text-align: left;\">N</td><td style = \"text-align: right;\">6.5</td><td style = \"text-align: right;\">8.0</td><td style = \"text-align: right;\">5.0</td><td style = \"text-align: right;\">3.2</td><td style = \"text-align: right;\">3.3</td><td style = \"text-align: right;\">false</td><td style = \"text-align: right;\">true</td><td style = \"text-align: right;\">false</td></tr><tr><td class = \"rowNumber\" style = \"font-weight: bold; text-align: right;\">13</td><td style = \"text-align: left;\">Hombre</td><td style = \"text-align: left;\">Mañana</td><td style = \"text-align: left;\">B</td><td style = \"text-align: left;\">N</td><td style = \"text-align: right;\">6.6</td><td style = \"text-align: right;\">7.6</td><td style = \"text-align: right;\">5.3</td><td style = \"text-align: right;\">4.0</td><td style = \"text-align: right;\">1.0</td><td style = \"text-align: right;\">false</td><td style = \"text-align: right;\">false</td><td style = \"text-align: right;\">true</td></tr><tr><td style = \"text-align: right;\">&vellip;</td><td style = \"text-align: right;\">&vellip;</td><td style = \"text-align: right;\">&vellip;</td><td style = \"text-align: right;\">&vellip;</td><td style = \"text-align: right;\">&vellip;</td><td style = \"text-align: right;\">&vellip;</td><td style = \"text-align: right;\">&vellip;</td><td style = \"text-align: right;\">&vellip;</td><td style = \"text-align: right;\">&vellip;</td><td style = \"text-align: right;\">&vellip;</td><td style = \"text-align: right;\">&vellip;</td><td style = \"text-align: right;\">&vellip;</td><td style = \"text-align: right;\">&vellip;</td></tr><tr><td class = \"rowNumber\" style = \"font-weight: bold; text-align: right;\">109</td><td style = \"text-align: left;\">Mujer</td><td style = \"text-align: left;\">Tarde</td><td style = \"text-align: left;\">C</td><td style = \"text-align: left;\">N</td><td style = \"text-align: right;\">5.4</td><td style = \"text-align: right;\">7.3</td><td style = \"text-align: right;\">3.5</td><td style = \"text-align: right;\">2.5</td><td style = \"text-align: right;\">4.6</td><td style = \"text-align: right;\">true</td><td style = \"text-align: right;\">false</td><td style = \"text-align: right;\">false</td></tr><tr><td class = \"rowNumber\" style = \"font-weight: bold; text-align: right;\">110</td><td style = \"text-align: left;\">Hombre</td><td style = \"text-align: left;\">Mañana</td><td style = \"text-align: left;\">B</td><td style = \"text-align: left;\">N</td><td style = \"text-align: right;\">7.4</td><td style = \"text-align: right;\">7.4</td><td style = \"text-align: right;\">6.2</td><td style = \"text-align: right;\">5.8</td><td style = \"text-align: right;\">1.1</td><td style = \"text-align: right;\">false</td><td style = \"text-align: right;\">false</td><td style = \"text-align: right;\">true</td></tr><tr><td class = \"rowNumber\" style = \"font-weight: bold; text-align: right;\">111</td><td style = \"text-align: left;\">Mujer</td><td style = \"text-align: left;\">Tarde</td><td style = \"text-align: left;\">C</td><td style = \"text-align: left;\">S</td><td style = \"text-align: right;\">5.1</td><td style = \"text-align: right;\">8.1</td><td style = \"text-align: right;\">5.2</td><td style = \"text-align: right;\">5.1</td><td style = \"text-align: right;\">4.5</td><td style = \"text-align: right;\">true</td><td style = \"text-align: right;\">false</td><td style = \"text-align: right;\">false</td></tr><tr><td class = \"rowNumber\" style = \"font-weight: bold; text-align: right;\">112</td><td style = \"text-align: left;\">Hombre</td><td style = \"text-align: left;\">Mañana</td><td style = \"text-align: left;\">A</td><td style = \"text-align: left;\">N</td><td style = \"text-align: right;\">6.9</td><td style = \"text-align: right;\">7.8</td><td style = \"text-align: right;\">3.9</td><td style = \"text-align: right;\">2.8</td><td style = \"font-style: italic; text-align: right;\">missing</td><td style = \"text-align: right;\">false</td><td style = \"text-align: right;\">true</td><td style = \"text-align: right;\">false</td></tr><tr><td class = \"rowNumber\" style = \"font-weight: bold; text-align: right;\">113</td><td style = \"text-align: left;\">Hombre</td><td style = \"text-align: left;\">Tarde</td><td style = \"text-align: left;\">C</td><td style = \"text-align: left;\">N</td><td style = \"text-align: right;\">3.6</td><td style = \"text-align: right;\">4.8</td><td style = \"text-align: right;\">2.1</td><td style = \"text-align: right;\">0.5</td><td style = \"text-align: right;\">5.6</td><td style = \"text-align: right;\">true</td><td style = \"text-align: right;\">false</td><td style = \"text-align: right;\">false</td></tr><tr><td class = \"rowNumber\" style = \"font-weight: bold; text-align: right;\">114</td><td style = \"text-align: left;\">Hombre</td><td style = \"text-align: left;\">Tarde</td><td style = \"text-align: left;\">C</td><td style = \"text-align: left;\">S</td><td style = \"text-align: right;\">5.9</td><td style = \"text-align: right;\">6.2</td><td style = \"text-align: right;\">5.0</td><td style = \"text-align: right;\">3.9</td><td style = \"text-align: right;\">1.9</td><td style = \"text-align: right;\">true</td><td style = \"text-align: right;\">false</td><td style = \"text-align: right;\">false</td></tr><tr><td class = \"rowNumber\" style = \"font-weight: bold; text-align: right;\">115</td><td style = \"text-align: left;\">Hombre</td><td style = \"text-align: left;\">Mañana</td><td style = \"text-align: left;\">B</td><td style = \"text-align: left;\">N</td><td style = \"text-align: right;\">6.8</td><td style = \"text-align: right;\">7.2</td><td style = \"text-align: right;\">4.9</td><td style = \"text-align: right;\">3.8</td><td style = \"text-align: right;\">2.8</td><td style = \"text-align: right;\">false</td><td style = \"text-align: right;\">false</td><td style = \"text-align: right;\">true</td></tr><tr><td class = \"rowNumber\" style = \"font-weight: bold; text-align: right;\">116</td><td style = \"text-align: left;\">Hombre</td><td style = \"text-align: left;\">Mañana</td><td style = \"text-align: left;\">A</td><td style = \"text-align: left;\">N</td><td style = \"text-align: right;\">6.5</td><td style = \"text-align: right;\">6.1</td><td style = \"text-align: right;\">5.8</td><td style = \"text-align: right;\">4.9</td><td style = \"text-align: right;\">1.2</td><td style = \"text-align: right;\">false</td><td style = \"text-align: right;\">true</td><td style = \"text-align: right;\">false</td></tr><tr><td class = \"rowNumber\" style = \"font-weight: bold; text-align: right;\">117</td><td style = \"text-align: left;\">Mujer</td><td style = \"text-align: left;\">Mañana</td><td style = \"text-align: left;\">B</td><td style = \"text-align: left;\">N</td><td style = \"text-align: right;\">6.2</td><td style = \"text-align: right;\">7.0</td><td style = \"text-align: right;\">5.6</td><td style = \"text-align: right;\">5.4</td><td style = \"text-align: right;\">1.7</td><td style = \"text-align: right;\">false</td><td style = \"text-align: right;\">false</td><td style = \"text-align: right;\">true</td></tr><tr><td class = \"rowNumber\" style = \"font-weight: bold; text-align: right;\">118</td><td style = \"text-align: left;\">Mujer</td><td style = \"text-align: left;\">Tarde</td><td style = \"text-align: left;\">C</td><td style = \"text-align: left;\">N</td><td style = \"text-align: right;\">5.0</td><td style = \"text-align: right;\">6.5</td><td style = \"text-align: right;\">4.0</td><td style = \"text-align: right;\">2.8</td><td style = \"text-align: right;\">3.6</td><td style = \"text-align: right;\">true</td><td style = \"text-align: right;\">false</td><td style = \"text-align: right;\">false</td></tr><tr><td class = \"rowNumber\" style = \"font-weight: bold; text-align: right;\">119</td><td style = \"text-align: left;\">Hombre</td><td style = \"text-align: left;\">Tarde</td><td style = \"text-align: left;\">C</td><td style = \"text-align: left;\">N</td><td style = \"text-align: right;\">4.7</td><td style = \"text-align: right;\">6.0</td><td style = \"text-align: right;\">1.3</td><td style = \"text-align: right;\">0.4</td><td style = \"text-align: right;\">2.2</td><td style = \"text-align: right;\">true</td><td style = \"text-align: right;\">false</td><td style = \"text-align: right;\">false</td></tr><tr><td class = \"rowNumber\" style = \"font-weight: bold; text-align: right;\">120</td><td style = \"text-align: left;\">Hombre</td><td style = \"text-align: left;\">Tarde</td><td style = \"text-align: left;\">C</td><td style = \"text-align: left;\">S</td><td style = \"text-align: right;\">4.5</td><td style = \"text-align: right;\">4.7</td><td style = \"text-align: right;\">6.0</td><td style = \"text-align: right;\">4.9</td><td style = \"text-align: right;\">1.8</td><td style = \"text-align: right;\">true</td><td style = \"text-align: right;\">false</td><td style = \"text-align: right;\">false</td></tr></tbody></table></div>"
      ],
      "text/latex": [
       "\\begin{tabular}{r|cccccccccc}\n",
       "\t& sexo & turno & grupo & trabaja & notaA & notaB & notaC & notaD & notaE & \\\\\n",
       "\t\\hline\n",
       "\t& String7 & String7 & String1 & String1 & Float64 & Float64? & Float64? & Float64? & Float64? & \\\\\n",
       "\t\\hline\n",
       "\t1 & Mujer & Tarde & C & N & 5.2 & 6.3 & 3.4 & 2.3 & 2.0 & $\\dots$ \\\\\n",
       "\t2 & Hombre & Mañana & A & N & 5.7 & 5.7 & 4.2 & 3.5 & 2.7 & $\\dots$ \\\\\n",
       "\t3 & Hombre & Mañana & B & N & 8.3 & 8.8 & 8.8 & 8.0 & 5.5 & $\\dots$ \\\\\n",
       "\t4 & Hombre & Mañana & B & N & 6.1 & 6.8 & 4.0 & 3.5 & 2.2 & $\\dots$ \\\\\n",
       "\t5 & Hombre & Mañana & A & N & 6.2 & 9.0 & 5.0 & 4.4 & 3.7 & $\\dots$ \\\\\n",
       "\t6 & Hombre & Mañana & A & S & 8.6 & 8.9 & 9.5 & 8.4 & 3.9 & $\\dots$ \\\\\n",
       "\t7 & Mujer & Mañana & A & N & 6.7 & 7.9 & 5.6 & 4.8 & 4.2 & $\\dots$ \\\\\n",
       "\t8 & Mujer & Tarde & C & S & 4.1 & 5.2 & 1.7 & 0.3 & 1.0 & $\\dots$ \\\\\n",
       "\t9 & Hombre & Tarde & C & N & 5.0 & 5.0 & 3.3 & 2.7 & 6.0 & $\\dots$ \\\\\n",
       "\t10 & Hombre & Tarde & C & N & 5.3 & 6.3 & 4.8 & 3.6 & 2.3 & $\\dots$ \\\\\n",
       "\t11 & Mujer & Mañana & A & N & 7.8 & \\emph{missing} & 6.5 & 6.7 & 2.8 & $\\dots$ \\\\\n",
       "\t12 & Hombre & Mañana & A & N & 6.5 & 8.0 & 5.0 & 3.2 & 3.3 & $\\dots$ \\\\\n",
       "\t13 & Hombre & Mañana & B & N & 6.6 & 7.6 & 5.3 & 4.0 & 1.0 & $\\dots$ \\\\\n",
       "\t14 & Hombre & Mañana & B & N & 6.2 & 6.7 & 5.3 & 4.7 & 4.7 & $\\dots$ \\\\\n",
       "\t15 & Hombre & Mañana & B & N & 5.2 & 4.1 & 5.8 & 5.0 & 1.9 & $\\dots$ \\\\\n",
       "\t16 & Hombre & Mañana & B & S & 8.7 & \\emph{missing} & 7.6 & 6.3 & 9.3 & $\\dots$ \\\\\n",
       "\t17 & Mujer & Mañana & B & N & 6.7 & 6.3 & 6.8 & 5.3 & 2.8 & $\\dots$ \\\\\n",
       "\t18 & Mujer & Tarde & C & N & 3.1 & 4.8 & 2.7 & 1.8 & 1.0 & $\\dots$ \\\\\n",
       "\t19 & Hombre & Mañana & B & N & 7.1 & 10.0 & 5.9 & 4.9 & 2.5 & $\\dots$ \\\\\n",
       "\t20 & Hombre & Mañana & B & S & 5.3 & 4.8 & 2.8 & 0.9 & 4.2 & $\\dots$ \\\\\n",
       "\t21 & Hombre & Mañana & A & N & 4.4 & 6.1 & 2.9 & 1.9 & 2.4 & $\\dots$ \\\\\n",
       "\t22 & Mujer & Tarde & C & S & 5.7 & 6.4 & 4.2 & 3.3 & 1.0 & $\\dots$ \\\\\n",
       "\t23 & Mujer & Tarde & C & S & 4.5 & 3.9 & 3.5 & 2.6 & 2.2 & $\\dots$ \\\\\n",
       "\t24 & Mujer & Tarde & C & N & 4.9 & 4.4 & 5.2 & 3.7 & 0.4 & $\\dots$ \\\\\n",
       "\t25 & Hombre & Tarde & C & N & 5.1 & 4.5 & 6.4 & 5.6 & 0.5 & $\\dots$ \\\\\n",
       "\t26 & Hombre & Mañana & B & N & 3.5 & 3.9 & 4.0 & 3.7 & 1.7 & $\\dots$ \\\\\n",
       "\t27 & Mujer & Mañana & A & N & 7.3 & 6.8 & 6.1 & 5.4 & 1.8 & $\\dots$ \\\\\n",
       "\t28 & Hombre & Mañana & B & N & 6.2 & 7.9 & 3.5 & 1.9 & 3.1 & $\\dots$ \\\\\n",
       "\t29 & Mujer & Mañana & A & N & 4.3 & 7.4 & 2.9 & 1.7 & 0.2 & $\\dots$ \\\\\n",
       "\t30 & Hombre & Mañana & B & N & 7.9 & 7.6 & 7.0 & 6.1 & 0.4 & $\\dots$ \\\\\n",
       "\t$\\dots$ & $\\dots$ & $\\dots$ & $\\dots$ & $\\dots$ & $\\dots$ & $\\dots$ & $\\dots$ & $\\dots$ & $\\dots$ &  \\\\\n",
       "\\end{tabular}\n"
      ],
      "text/plain": [
       "\u001b[1m120×12 DataFrame\u001b[0m\n",
       "\u001b[1m Row \u001b[0m│\u001b[1m sexo    \u001b[0m\u001b[1m turno   \u001b[0m\u001b[1m grupo   \u001b[0m\u001b[1m trabaja \u001b[0m\u001b[1m notaA   \u001b[0m\u001b[1m notaB     \u001b[0m\u001b[1m notaC    \u001b[0m\u001b[1m notaD\u001b[0m ⋯\n",
       "     │\u001b[90m String7 \u001b[0m\u001b[90m String7 \u001b[0m\u001b[90m String1 \u001b[0m\u001b[90m String1 \u001b[0m\u001b[90m Float64 \u001b[0m\u001b[90m Float64?  \u001b[0m\u001b[90m Float64? \u001b[0m\u001b[90m Float\u001b[0m ⋯\n",
       "─────┼──────────────────────────────────────────────────────────────────────────\n",
       "   1 │ Mujer    Tarde    C        N            5.2        6.3       3.4        ⋯\n",
       "   2 │ Hombre   Mañana   A        N            5.7        5.7       4.2\n",
       "   3 │ Hombre   Mañana   B        N            8.3        8.8       8.8\n",
       "   4 │ Hombre   Mañana   B        N            6.1        6.8       4.0\n",
       "   5 │ Hombre   Mañana   A        N            6.2        9.0       5.0        ⋯\n",
       "   6 │ Hombre   Mañana   A        S            8.6        8.9       9.5\n",
       "   7 │ Mujer    Mañana   A        N            6.7        7.9       5.6\n",
       "   8 │ Mujer    Tarde    C        S            4.1        5.2       1.7\n",
       "   9 │ Hombre   Tarde    C        N            5.0        5.0       3.3        ⋯\n",
       "  10 │ Hombre   Tarde    C        N            5.3        6.3       4.8\n",
       "  11 │ Mujer    Mañana   A        N            7.8 \u001b[90m missing   \u001b[0m      6.5\n",
       "  ⋮  │    ⋮        ⋮        ⋮        ⋮        ⋮         ⋮         ⋮         ⋮  ⋱\n",
       " 111 │ Mujer    Tarde    C        S            5.1        8.1       5.2\n",
       " 112 │ Hombre   Mañana   A        N            6.9        7.8       3.9        ⋯\n",
       " 113 │ Hombre   Tarde    C        N            3.6        4.8       2.1\n",
       " 114 │ Hombre   Tarde    C        S            5.9        6.2       5.0\n",
       " 115 │ Hombre   Mañana   B        N            6.8        7.2       4.9\n",
       " 116 │ Hombre   Mañana   A        N            6.5        6.1       5.8        ⋯\n",
       " 117 │ Mujer    Mañana   B        N            6.2        7.0       5.6\n",
       " 118 │ Mujer    Tarde    C        N            5.0        6.5       4.0\n",
       " 119 │ Hombre   Tarde    C        N            4.7        6.0       1.3\n",
       " 120 │ Hombre   Tarde    C        S            4.5        4.7       6.0        ⋯\n",
       "\u001b[36m                                                   5 columns and 99 rows omitted\u001b[0m"
      ]
     },
     "execution_count": 21,
     "metadata": {},
     "output_type": "execute_result"
    }
   ],
   "source": [
    "using OneHotArrays\n",
    "codificacion = permutedims(onehotbatch(df.grupo, unique(df.grupo)))\n",
    "hcat(df, DataFrame(codificacion, :auto))"
   ]
  }
 ],
 "metadata": {
  "kernelspec": {
   "display_name": "Julia 1.11.4",
   "language": "julia",
   "name": "julia-1.11",
   "path": "/home/alf/.local/share/jupyter/kernels/julia-1.11"
  },
  "language_info": {
   "file_extension": ".jl",
   "mimetype": "application/julia",
   "name": "julia",
   "version": "1.11.4"
  }
 },
 "nbformat": 4,
 "nbformat_minor": 5
}