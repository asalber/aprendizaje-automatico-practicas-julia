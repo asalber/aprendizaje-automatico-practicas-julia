{
 "cells": [
  {
   "cell_type": "code",
   "execution_count": 1,
   "id": "ee0f7ed2",
   "metadata": {},
   "outputs": [],
   "source": [
    "import IJulia\n",
    "import Base64\n",
    "\n",
    "# The julia kernel has built in support for Revise.jl, so this is the \n",
    "# recommended approach for long-running sessions:\n",
    "# https://github.com/JuliaLang/IJulia.jl/blob/9b10fa9b879574bbf720f5285029e07758e50a5e/src/kernel.jl#L46-L51\n",
    "\n",
    "# Users should enable revise within .julia/config/startup_ijulia.jl:\n",
    "# https://timholy.github.io/Revise.jl/stable/config/#Using-Revise-automatically-within-Jupyter/IJulia-1\n",
    "\n",
    "# clear console history\n",
    "IJulia.clear_history()\n",
    "\n",
    "fig_width = 7\n",
    "fig_height = 5\n",
    "fig_format = :retina\n",
    "fig_dpi = 96\n",
    "\n",
    "# no retina format type, use svg for high quality type/marks\n",
    "if fig_format == :retina\n",
    "  fig_format = :svg\n",
    "elseif fig_format == :pdf\n",
    "  fig_dpi = 96\n",
    "  # Enable PDF support for IJulia\n",
    "  IJulia.register_mime(MIME(\"application/pdf\"))\n",
    "end\n",
    "\n",
    "# convert inches to pixels\n",
    "fig_width = fig_width * fig_dpi\n",
    "fig_height = fig_height * fig_dpi\n",
    "\n",
    "# Intialize Plots w/ default fig width/height\n",
    "try\n",
    "  import Plots\n",
    "\n",
    "  # Plots.jl doesn't support PDF output for versions < 1.28.1\n",
    "  # so use png (if the DPI remains the default of 300 then set to 96)\n",
    "  if (Plots._current_plots_version < v\"1.28.1\") & (fig_format == :pdf)\n",
    "    Plots.gr(size=(fig_width, fig_height), fmt = :png, dpi = fig_dpi)\n",
    "  else\n",
    "    Plots.gr(size=(fig_width, fig_height), fmt = fig_format, dpi = fig_dpi)\n",
    "  end\n",
    "catch e\n",
    "  # @warn \"Plots init\" exception=(e, catch_backtrace())\n",
    "end\n",
    "\n",
    "# Initialize CairoMakie with default fig width/height\n",
    "try\n",
    "  import CairoMakie\n",
    "\n",
    "  # CairoMakie's display() in PDF format opens an interactive window\n",
    "  # instead of saving to the ipynb file, so we don't do that.\n",
    "  # https://github.com/quarto-dev/quarto-cli/issues/7548\n",
    "  if fig_format == :pdf\n",
    "    CairoMakie.activate!(type = \"png\")\n",
    "  else\n",
    "    CairoMakie.activate!(type = string(fig_format))\n",
    "  end\n",
    "  CairoMakie.update_theme!(resolution=(fig_width, fig_height))\n",
    "catch e\n",
    "    # @warn \"CairoMakie init\" exception=(e, catch_backtrace())\n",
    "end\n",
    "  \n",
    "# Set run_path if specified\n",
    "try\n",
    "  run_path = \"L3J1bi9tZWRpYS9hbGYvZGF0b3MvbWlzcmVwb3NpdG9yaW9zL2RvY2VuY2lhL2FwcmVuZGl6YWplLWF1dG9tYXRpY28tcHJhY3RpY2FzLWp1bGlh\"\n",
    "  if !isempty(run_path)\n",
    "    run_path = String(Base64.base64decode(run_path))\n",
    "    cd(run_path)\n",
    "  end\n",
    "catch e\n",
    "  @warn \"Run path init:\" exception=(e, catch_backtrace())\n",
    "end\n",
    "\n",
    "\n",
    "# emulate old Pkg.installed beahvior, see\n",
    "# https://discourse.julialang.org/t/how-to-use-pkg-dependencies-instead-of-pkg-installed/36416/9\n",
    "import Pkg\n",
    "function isinstalled(pkg::String)\n",
    "  any(x -> x.name == pkg && x.is_direct_dep, values(Pkg.dependencies()))\n",
    "end\n",
    "\n",
    "# ojs_define\n",
    "if isinstalled(\"JSON\") && isinstalled(\"DataFrames\")\n",
    "  import JSON, DataFrames\n",
    "  global function ojs_define(; kwargs...)\n",
    "    convert(x) = x\n",
    "    convert(x::DataFrames.AbstractDataFrame) = Tables.rows(x)\n",
    "    content = Dict(\"contents\" => [Dict(\"name\" => k, \"value\" => convert(v)) for (k, v) in kwargs])\n",
    "    tag = \"<script type='ojs-define'>$(JSON.json(content))</script>\"\n",
    "    IJulia.display(MIME(\"text/html\"), tag)\n",
    "  end\n",
    "elseif isinstalled(\"JSON\")\n",
    "  import JSON\n",
    "  global function ojs_define(; kwargs...)\n",
    "    content = Dict(\"contents\" => [Dict(\"name\" => k, \"value\" => v) for (k, v) in kwargs])\n",
    "    tag = \"<script type='ojs-define'>$(JSON.json(content))</script>\"\n",
    "    IJulia.display(MIME(\"text/html\"), tag)\n",
    "  end\n",
    "else\n",
    "  global function ojs_define(; kwargs...)\n",
    "    @warn \"JSON package not available. Please install the JSON.jl package to use ojs_define.\"\n",
    "  end\n",
    "end\n",
    "\n",
    "\n",
    "# don't return kernel dependencies (b/c Revise should take care of dependencies)\n",
    "nothing\n"
   ]
  },
  {
   "cell_type": "code",
   "execution_count": 2,
   "id": "78cd74cf",
   "metadata": {
    "md-indent": "    "
   },
   "outputs": [
    {
     "data": {
      "text/html": [
       "<div><div style = \"float: left;\"><span>14×5 DataFrame</span></div><div style = \"clear: both;\"></div></div><div class = \"data-frame\" style = \"overflow-x: scroll;\"><table class = \"data-frame\" style = \"margin-bottom: 6px;\"><thead><tr class = \"header\"><th class = \"rowNumber\" style = \"font-weight: bold; text-align: right;\">Row</th><th style = \"text-align: left;\">Cielo</th><th style = \"text-align: left;\">Temperatura</th><th style = \"text-align: left;\">Humedad</th><th style = \"text-align: left;\">Viento</th><th style = \"text-align: left;\">Tenis</th></tr><tr class = \"subheader headerLastRow\"><th class = \"rowNumber\" style = \"font-weight: bold; text-align: right;\"></th><th title = \"String15\" style = \"text-align: left;\">String15</th><th title = \"String15\" style = \"text-align: left;\">String15</th><th title = \"String7\" style = \"text-align: left;\">String7</th><th title = \"String7\" style = \"text-align: left;\">String7</th><th title = \"String3\" style = \"text-align: left;\">String3</th></tr></thead><tbody><tr><td class = \"rowNumber\" style = \"font-weight: bold; text-align: right;\">1</td><td style = \"text-align: left;\">Soleado</td><td style = \"text-align: left;\">Caluroso</td><td style = \"text-align: left;\">Alta</td><td style = \"text-align: left;\">Suave</td><td style = \"text-align: left;\">No</td></tr><tr><td class = \"rowNumber\" style = \"font-weight: bold; text-align: right;\">2</td><td style = \"text-align: left;\">Soleado</td><td style = \"text-align: left;\">Caluroso</td><td style = \"text-align: left;\">Alta</td><td style = \"text-align: left;\">Fuerte</td><td style = \"text-align: left;\">No</td></tr><tr><td class = \"rowNumber\" style = \"font-weight: bold; text-align: right;\">3</td><td style = \"text-align: left;\">Nublado</td><td style = \"text-align: left;\">Caluroso</td><td style = \"text-align: left;\">Alta</td><td style = \"text-align: left;\">Suave</td><td style = \"text-align: left;\">Sí</td></tr><tr><td class = \"rowNumber\" style = \"font-weight: bold; text-align: right;\">4</td><td style = \"text-align: left;\">Lluvioso</td><td style = \"text-align: left;\">Moderado</td><td style = \"text-align: left;\">Alta</td><td style = \"text-align: left;\">Suave</td><td style = \"text-align: left;\">Sí</td></tr><tr><td class = \"rowNumber\" style = \"font-weight: bold; text-align: right;\">5</td><td style = \"text-align: left;\">Lluvioso</td><td style = \"text-align: left;\">Frío</td><td style = \"text-align: left;\">Normal</td><td style = \"text-align: left;\">Suave</td><td style = \"text-align: left;\">Sí</td></tr><tr><td class = \"rowNumber\" style = \"font-weight: bold; text-align: right;\">6</td><td style = \"text-align: left;\">Lluvioso</td><td style = \"text-align: left;\">Frío</td><td style = \"text-align: left;\">Normal</td><td style = \"text-align: left;\">Fuerte</td><td style = \"text-align: left;\">No</td></tr><tr><td class = \"rowNumber\" style = \"font-weight: bold; text-align: right;\">7</td><td style = \"text-align: left;\">Nublado</td><td style = \"text-align: left;\">Frío</td><td style = \"text-align: left;\">Normal</td><td style = \"text-align: left;\">Fuerte</td><td style = \"text-align: left;\">Sí</td></tr><tr><td class = \"rowNumber\" style = \"font-weight: bold; text-align: right;\">8</td><td style = \"text-align: left;\">Soleado</td><td style = \"text-align: left;\">Moderado</td><td style = \"text-align: left;\">Alta</td><td style = \"text-align: left;\">Suave</td><td style = \"text-align: left;\">No</td></tr><tr><td class = \"rowNumber\" style = \"font-weight: bold; text-align: right;\">9</td><td style = \"text-align: left;\">Soleado</td><td style = \"text-align: left;\">Frío</td><td style = \"text-align: left;\">Normal</td><td style = \"text-align: left;\">Suave</td><td style = \"text-align: left;\">Sí</td></tr><tr><td class = \"rowNumber\" style = \"font-weight: bold; text-align: right;\">10</td><td style = \"text-align: left;\">Lluvioso</td><td style = \"text-align: left;\">Moderado</td><td style = \"text-align: left;\">Normal</td><td style = \"text-align: left;\">Suave</td><td style = \"text-align: left;\">Sí</td></tr><tr><td class = \"rowNumber\" style = \"font-weight: bold; text-align: right;\">11</td><td style = \"text-align: left;\">Soleado</td><td style = \"text-align: left;\">Moderado</td><td style = \"text-align: left;\">Normal</td><td style = \"text-align: left;\">Fuerte</td><td style = \"text-align: left;\">Sí</td></tr><tr><td class = \"rowNumber\" style = \"font-weight: bold; text-align: right;\">12</td><td style = \"text-align: left;\">Nublado</td><td style = \"text-align: left;\">Moderado</td><td style = \"text-align: left;\">Alta</td><td style = \"text-align: left;\">Fuerte</td><td style = \"text-align: left;\">Sí</td></tr><tr><td class = \"rowNumber\" style = \"font-weight: bold; text-align: right;\">13</td><td style = \"text-align: left;\">Nublado</td><td style = \"text-align: left;\">Caluroso</td><td style = \"text-align: left;\">Normal</td><td style = \"text-align: left;\">Suave</td><td style = \"text-align: left;\">Sí</td></tr><tr><td class = \"rowNumber\" style = \"font-weight: bold; text-align: right;\">14</td><td style = \"text-align: left;\">Lluvioso</td><td style = \"text-align: left;\">Moderado</td><td style = \"text-align: left;\">Alta</td><td style = \"text-align: left;\">Fuerte</td><td style = \"text-align: left;\">No</td></tr></tbody></table></div>"
      ],
      "text/latex": [
       "\\begin{tabular}{r|ccccc}\n",
       "\t& Cielo & Temperatura & Humedad & Viento & Tenis\\\\\n",
       "\t\\hline\n",
       "\t& String15 & String15 & String7 & String7 & String3\\\\\n",
       "\t\\hline\n",
       "\t1 & Soleado & Caluroso & Alta & Suave & No \\\\\n",
       "\t2 & Soleado & Caluroso & Alta & Fuerte & No \\\\\n",
       "\t3 & Nublado & Caluroso & Alta & Suave & Sí \\\\\n",
       "\t4 & Lluvioso & Moderado & Alta & Suave & Sí \\\\\n",
       "\t5 & Lluvioso & Frío & Normal & Suave & Sí \\\\\n",
       "\t6 & Lluvioso & Frío & Normal & Fuerte & No \\\\\n",
       "\t7 & Nublado & Frío & Normal & Fuerte & Sí \\\\\n",
       "\t8 & Soleado & Moderado & Alta & Suave & No \\\\\n",
       "\t9 & Soleado & Frío & Normal & Suave & Sí \\\\\n",
       "\t10 & Lluvioso & Moderado & Normal & Suave & Sí \\\\\n",
       "\t11 & Soleado & Moderado & Normal & Fuerte & Sí \\\\\n",
       "\t12 & Nublado & Moderado & Alta & Fuerte & Sí \\\\\n",
       "\t13 & Nublado & Caluroso & Normal & Suave & Sí \\\\\n",
       "\t14 & Lluvioso & Moderado & Alta & Fuerte & No \\\\\n",
       "\\end{tabular}\n"
      ],
      "text/plain": [
       "\u001b[1m14×5 DataFrame\u001b[0m\n",
       "\u001b[1m Row \u001b[0m│\u001b[1m Cielo    \u001b[0m\u001b[1m Temperatura \u001b[0m\u001b[1m Humedad \u001b[0m\u001b[1m Viento  \u001b[0m\u001b[1m Tenis   \u001b[0m\n",
       "     │\u001b[90m String15 \u001b[0m\u001b[90m String15    \u001b[0m\u001b[90m String7 \u001b[0m\u001b[90m String7 \u001b[0m\u001b[90m String3 \u001b[0m\n",
       "─────┼──────────────────────────────────────────────────\n",
       "   1 │ Soleado   Caluroso     Alta     Suave    No\n",
       "   2 │ Soleado   Caluroso     Alta     Fuerte   No\n",
       "   3 │ Nublado   Caluroso     Alta     Suave    Sí\n",
       "   4 │ Lluvioso  Moderado     Alta     Suave    Sí\n",
       "   5 │ Lluvioso  Frío         Normal   Suave    Sí\n",
       "   6 │ Lluvioso  Frío         Normal   Fuerte   No\n",
       "   7 │ Nublado   Frío         Normal   Fuerte   Sí\n",
       "   8 │ Soleado   Moderado     Alta     Suave    No\n",
       "   9 │ Soleado   Frío         Normal   Suave    Sí\n",
       "  10 │ Lluvioso  Moderado     Normal   Suave    Sí\n",
       "  11 │ Soleado   Moderado     Normal   Fuerte   Sí\n",
       "  12 │ Nublado   Moderado     Alta     Fuerte   Sí\n",
       "  13 │ Nublado   Caluroso     Normal   Suave    Sí\n",
       "  14 │ Lluvioso  Moderado     Alta     Fuerte   No"
      ]
     },
     "execution_count": 18,
     "metadata": {},
     "output_type": "execute_result"
    }
   ],
   "source": [
    "using CSV, DataFrames\n",
    "df = CSV.read(\"datos/tenis.csv\", DataFrame)"
   ]
  },
  {
   "cell_type": "code",
   "execution_count": 3,
   "id": "d893e2a6",
   "metadata": {
    "md-indent": "    "
   },
   "outputs": [
    {
     "data": {
      "image/png": "[encoded data removed]",
      "text/html": [
       "<img width=600 height=450 style='object-fit: contain; height: auto;' src=\"data:image/png;base64, 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\"/>"
      ]
     },
     "execution_count": 19,
     "metadata": {},
     "output_type": "execute_result"
    }
   ],
   "source": [
    "using GLMakie, AlgebraOfGraphics\n",
    "\n",
    "function frecuencias(df::DataFrame, var::Symbol)\n",
    "    frec = combine(groupby(df, [var, :Tenis]), nrow => :Días)\n",
    "    plt = data(frec) * \n",
    "    mapping(var, :Días, stack = :Tenis, color = :Tenis, ) * \n",
    "    visual(BarPlot) \n",
    "    return plt\n",
    "end\n",
    "\n",
    "fig = Figure()\n",
    "draw!(f[1, 1], frecuencias(df, :Cielo))\n",
    "draw!(f[1, 2], frecuencias(df, :Temperatura))\n",
    "draw!(f[1, 3], frecuencias(df, :Humedad))\n",
    "draw!(f[1, 4], frecuencias(df, :Viento))\n",
    "fig"
   ]
  },
  {
   "cell_type": "code",
   "execution_count": 4,
   "id": "fbb7f602",
   "metadata": {
    "md-indent": "    "
   },
   "outputs": [
    {
     "data": {
      "text/plain": [
       "DecisionTreeClassifier\n",
       "max_depth:                3\n",
       "min_samples_leaf:         1\n",
       "min_samples_split:        2\n",
       "min_purity_increase:      0.0\n",
       "pruning_purity_threshold: 1.0\n",
       "n_subfeatures:            0\n",
       "classes:                  String3[\"No\", \"Sí\"]\n",
       "root:                     Decision Tree\n",
       "Leaves: 6\n",
       "Depth:  3"
      ]
     },
     "execution_count": 20,
     "metadata": {},
     "output_type": "execute_result"
    }
   ],
   "source": [
    "using DecisionTree\n",
    "\n",
    "# Definir el árbol de decisión\n",
    "X = Matrix(select(df, Not(:Tenis)))\n",
    "y = df.Tenis\n",
    "tree = DecisionTreeClassifier(max_depth=3)\n",
    "fit!(tree, X, y)"
   ]
  }
 ],
 "metadata": {
  "kernelspec": {
   "display_name": "Julia 1.11.4",
   "language": "julia",
   "name": "julia-1.11",
   "path": "/home/alf/.local/share/jupyter/kernels/julia-1.11"
  }
 },
 "nbformat": 4,
 "nbformat_minor": 5
}