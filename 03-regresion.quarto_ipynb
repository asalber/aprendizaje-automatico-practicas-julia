{
  "cells": [
    {
      "cell_type": "markdown",
      "metadata": {},
      "source": [
        "---\n",
        "title: Regresión\n",
        "lang: es\n",
        "---\n",
        "\n",
        "Los modelos de aprendizaje basados en regresión son modelos bastante simples que pueden utilizarse para predecir variables cuantitativas (regresión lineal) o cualitativas (regresión logística). Esta práctica contiene ejercicios que muestran como construir modelos de aprendizaje de regresión lineal y regresión logística con Julia.\n",
        "\n",
        "## Ejercicios Resueltos\n",
        "\n",
        "Para la realización de esta práctica se requieren los siguientes paquetes:\n",
        "\n",
        "```julia\n",
        "using CSV  # Para la lectura de archivos CSV.\n",
        "using DataFrames  # Para el manejo de datos tabulares.\n",
        "using PrettyTables  # Para mostrar tablas formateadas.\n",
        "using Plots  # Para el dibujo de gráficas.\n",
        "using GLMakie  # Para obtener gráficos interactivos.\n",
        "```\n",
        "\n",
        ":::{#exr-regresion-1}\n",
        "El conjunto de datos `viviendas.csv` contiene información sobre el precio de venta de viviendas en una ciudad. \n",
        "\n",
        "a.  Cargar los datos del archivo `viviendas.csv` en un data frame.\n",
        "\n",
        "    :::{.callout-tip collapse=\"true\"}\n",
        "    ## Solución"
      ],
      "id": "34ce540f"
    },
    {
      "cell_type": "code",
      "metadata": {
        "md-indent": "    "
      },
      "source": [
        "using CSV, DataFrames\n",
        "df = CSV.read(download(\"https://aprendeconalf.es/aprendizaje-automatico-practicas-julia/datos/viviendas.csv\"), DataFrame)\n",
        "first(df, 5)"
      ],
      "id": "f186dfe5",
      "execution_count": null,
      "outputs": []
    },
    {
      "cell_type": "markdown",
      "metadata": {},
      "source": [
        "    :::\n",
        "\n",
        "a.  Dibujar un diagrama de dispersión entre el precio y el area de las viviendas.\n",
        "\n",
        "    :::{.callout-tip collapse=\"true\"}\n",
        "    ## Solución"
      ],
      "id": "d26b57a9"
    },
    {
      "cell_type": "code",
      "metadata": {
        "md-indent": "    "
      },
      "source": [
        "using Plots\n",
        "plt = scatter(df.area, df.precio, xlabel=\"Area\", ylabel=\"Precio\", title=\"Precio vs Area\", label = \"Ejemplos\", fmt=:png,)"
      ],
      "id": "8290214a",
      "execution_count": null,
      "outputs": []
    },
    {
      "cell_type": "markdown",
      "metadata": {},
      "source": [
        "    :::\n",
        "\n",
        "a.  Definir un modelo lineal que explique el precio en función del área de las viviendas.\n",
        "\n",
        "    :::{.callout-note collapse=\"true\"}\n",
        "    ## Ayuda\n",
        "    Un modelo lineal tiene encuación $y = \\theta_1 + \\theta_2 x$.\n",
        "    :::\n",
        "\n",
        "    :::{.callout-tip collapse=\"true\"}\n",
        "    ## Solución"
      ],
      "id": "bf509c90"
    },
    {
      "cell_type": "code",
      "metadata": {
        "md-indent": "    "
      },
      "source": [
        "precio(area, θ) = θ[1] .+ θ[2] * area"
      ],
      "id": "b0594389",
      "execution_count": null,
      "outputs": []
    },
    {
      "cell_type": "markdown",
      "metadata": {},
      "source": [
        "    Observa que la función precio está vectorizada, lo que significa que puede recibir un vector de áreas y devolver un vector de precios.\n",
        "    :::\n",
        "\n",
        "a.  Inicializar los parámetros del modelo lineal con valores nulos y dibujar el modelo sobre el diagrama de dispersión.\n",
        "\n",
        "    :::{.callout-tip collapse=\"true\"}\n",
        "    ## Solución"
      ],
      "id": "fcda13a9"
    },
    {
      "cell_type": "code",
      "metadata": {
        "md-indent": "    "
      },
      "source": [
        "θ = [0.0, 0.0]\n",
        "plot!(df.area, precio(df.area, θ), label = \"Modelo 0\")"
      ],
      "id": "90bda8b5",
      "execution_count": null,
      "outputs": []
    },
    {
      "cell_type": "markdown",
      "metadata": {},
      "source": [
        "    :::\n",
        "\n",
        "a.  Definir una función de costo para el modelo lineal y evaluar el coste para el modelo lineal construido con los parámetros iniciales. A la vista del coste obtenido, ¿cómo de bueno es el modelo?\n",
        "\n",
        "    :::{.callout-note collapse=\"true\"}\n",
        "    ## Ayuda\n",
        "    La función de coste para un modelo lineal es el error cuadrático medio.\n",
        "\n",
        "    $$ J(\\theta) = \\frac{1}{2m} \\sum_{i=1}^{m} (h_\\theta(x^{(i)}) - y^{(i)})^2 $$\n",
        "\n",
        "    donde $h_\\theta$ es el modelo, $h_\\theta(x^{(i)})$ es la predicción del modelo para el ejemplo $i$-ésimo, $y^{(i)}$ es el valor real observado para el ejemplo $i$-ésimo, y $m$ es el número de ejemplos.\n",
        "    :::\n",
        "\n",
        "    :::{.callout-tip collapse=\"true\"}\n",
        "    ## Solución"
      ],
      "id": "f2bf618c"
    },
    {
      "cell_type": "code",
      "metadata": {
        "md-indent": "    "
      },
      "source": [
        "function coste(θ, X, Y)\n",
        "    m = length(Y)\n",
        "    return sum((precio(X, θ) .- Y).^2) / (2 * m)\n",
        "end\n",
        "\n",
        "coste(θ, df.area, df.precio)"
      ],
      "id": "cccd4706",
      "execution_count": null,
      "outputs": []
    },
    {
      "cell_type": "markdown",
      "metadata": {},
      "source": [
        "    La función de coste nos da una medida de lo lejos que están las predicciones del modelo de los valores reales observados. En este caso, el coste es muy alto, lo que indica que el modelo no es bueno.\n",
        "    :::\n",
        "\n",
        "a.  ¿En qué dirección debemos modificar los parámetros del modelo para mejorar el modelo?\n",
        "\n",
        "    :::{.callout-tip collapse=\"true\"}\n",
        "    ## Solución\n",
        "\n",
        "    Para minimizar la función de coste, debemos modificar los parámetros del modelo en la dirección opuesta al gradiente de la función de coste, ya que el gradiente de una función indica la dirección de mayor crecimiento de la función.\n",
        "    :::\n",
        "\n",
        "a.  Crear una función para modificar los pesos del modelo lineal mediante el algoritmo del gradiente descendente, y aplicarla a los parámetros actuales tomando una tasa de aprendizaje de $10^{-8}$. ¿Cómo han cambiado los parámetros del modelo? Dibujar el modelo actualizado sobre el diagrama de dispersión. ¿Cómo ha cambiado el coste?\n",
        "\n",
        "    :::{.callout-note collapse=\"true\"}\n",
        "    ## Ayuda\n",
        "    El algoritmo del gradiente descendente actualiza los parámetros del modelo de acuerdo a la siguiente regla:\n",
        "\n",
        "    $$\n",
        "    \\theta_j = \\theta_j - \\alpha \\frac{\\partial J(\\theta)}{\\partial \\theta_j}\n",
        "    $$\n",
        "\n",
        "    donde $\\alpha$ es la tasa de aprendizaje y $\\frac{\\partial J(\\theta)}{\\partial \\theta_j}$ es la derivada parcial de la función de coste con respecto al parámetro $\\theta_j$.\n",
        "    :::\n",
        "\n",
        "    :::{.callout-tip collapse=\"true\"}\n",
        "    ## Solución"
      ],
      "id": "f2cd0df2"
    },
    {
      "cell_type": "code",
      "metadata": {
        "md-indent": "    "
      },
      "source": [
        "function gradiente_descendente!(θ, X, Y, α)\n",
        "    # Calculamos el número de ejemplos\n",
        "    m = length(Y)\n",
        "    # Actualizamos el término independiente del modelo lineal.\n",
        "    θ[1] -= α * sum(precio(X, θ) - Y) / m\n",
        "    # Actualizamos la pendiente del modelo lineal.\n",
        "    θ[2] -= α * sum((precio(X, θ) - Y) .* X) / m\n",
        "    return θ\n",
        "end"
      ],
      "id": "9b5013d8",
      "execution_count": null,
      "outputs": []
    },
    {
      "cell_type": "markdown",
      "metadata": {},
      "source": [
        "    Aplicamos la función a los parámetros del modelo actual y mostramos los nuevos parámetros."
      ],
      "id": "08ce90cb"
    },
    {
      "cell_type": "code",
      "metadata": {
        "md-indent": "    "
      },
      "source": [
        "gradiente_descendente!(θ, df.area, df.precio, 1e-8)\n",
        "θ"
      ],
      "id": "ee902464",
      "execution_count": null,
      "outputs": []
    },
    {
      "cell_type": "markdown",
      "metadata": {},
      "source": [
        "    Dibujamos el nuevo modelo."
      ],
      "id": "edd4bb5b"
    },
    {
      "cell_type": "code",
      "metadata": {
        "md-indent": "    "
      },
      "source": [
        "plot!(df.area, precio(df.area, θ), label = \"Modelo 1\")"
      ],
      "id": "89c47b4d",
      "execution_count": null,
      "outputs": []
    },
    {
      "cell_type": "markdown",
      "metadata": {},
      "source": [
        "    Se observa que ahora la recta está más cerca de la nube de puntos, por lo que el modelo ha mejorado. Calculamos el coste del nuevo modelo."
      ],
      "id": "ce7246cc"
    },
    {
      "cell_type": "code",
      "metadata": {
        "md-indent": "    "
      },
      "source": [
        "coste(θ, df.area, df.precio)"
      ],
      "id": "fc2395a8",
      "execution_count": null,
      "outputs": []
    },
    {
      "cell_type": "markdown",
      "metadata": {},
      "source": [
        "    :::\n",
        "\n",
        "a.  Repetir el proceso de actualización de los parámetros del modelo mediante el algoritmo del gradiente descendente durante 9 iteraciones más y dibujar los modelos actualizados.\n",
        "\n",
        "    :::{.callout-tip collapse=\"true\"}\n",
        "    ## Solución\n",
        "\n",
        "    ```julia\n",
        "    for i = 2:10\n",
        "        gradiente_descendente!(θ, df.area, df.precio, 1e-8)\n",
        "        plot!(df.area, precio(df.area, θ), label = \"Modelo $i\", legend = true)\n",
        "    end\n",
        "    plt\n",
        "    ```\n",
        "\n",
        "    ![](img/regresion/modelos_regresion)\n",
        "    :::\n",
        "\n",
        "a.  Dibujar un gráfico con la evolución del coste del modelo a lo largo de las iteraciones. ¿Cómo se comporta el coste a lo largo de las iteraciones?\n",
        "\n",
        "    :::{.callout-tip collapse=\"true\"}\n",
        "    ## Solución"
      ],
      "id": "173886ba"
    },
    {
      "cell_type": "code",
      "metadata": {
        "md-indent": "    "
      },
      "source": [
        "costes = Float64[]\n",
        "for i = 1:10\n",
        "    gradiente_descendente!(θ, df.area, df.precio, 1e-8)\n",
        "    push!(costes, coste(θ, df.area, df.precio))\n",
        "end\n",
        "costes"
      ],
      "id": "7055fe03",
      "execution_count": null,
      "outputs": []
    },
    {
      "cell_type": "markdown",
      "metadata": {},
      "source": [
        "    El coste del modelo disminuye en cada iteración, lo que indica que el modelo está mejorando. Esto se debe a que el algoritmo del gradiente descendente modifica los parámetros del modelo en la dirección que minimiza la función de coste.\n",
        "    :::\n",
        "\n",
        "a.  ¿Hasta qué iteración habrá que llegar para conseguir un reducción del coste menor de un $0.0001\\%$?\n",
        "\n",
        "    :::{.callout-tip collapse=\"true\"}\n",
        "    ## Solución"
      ],
      "id": "bb20c2c6"
    },
    {
      "cell_type": "code",
      "metadata": {
        "md-indent": "    "
      },
      "source": [
        "θ = [0.0, 0.0]\n",
        "costes = [0, coste(θ, df.area, df.precio)]\n",
        "i = 1\n",
        "while abs(costes[end] - costes[end-1]) / costes[end-1] > 0.000001\n",
        "    i += 1\n",
        "    gradiente_descendente!(θ, df.area, df.precio, 1e-8)\n",
        "    push!(costes, coste(θ, df.area, df.precio))\n",
        "end\n",
        "i"
      ],
      "id": "c78b720b",
      "execution_count": null,
      "outputs": []
    },
    {
      "cell_type": "markdown",
      "metadata": {},
      "source": [
        "    En este caso, el algoritmo del gradiente descendente converge en 1000 iteraciones.\n",
        "    :::\n",
        "\n",
        "a.  ¿Qué sucede si se utiliza una tasa de aprendizaje $\\alpha = 0.0001$? ¿Cómo afecta al coste y a la convergencia del modelo?\n",
        "\n",
        "    :::{.callout-tip collapse=\"true\"}\n",
        "    ## Solución"
      ],
      "id": "e850d5f7"
    },
    {
      "cell_type": "code",
      "metadata": {
        "md-indent": "    "
      },
      "source": [
        "θ = [0.0, 0.0]\n",
        "costes = [coste(θ, df.area, df.precio)]\n",
        "for i = 1:10\n",
        "    gradiente_descendente!(θ, df.area, df.precio, 0.0001)\n",
        "    push!(costes, coste(θ, df.area, df.precio))\n",
        "end\n",
        "costes"
      ],
      "id": "fbefa058",
      "execution_count": null,
      "outputs": []
    },
    {
      "cell_type": "markdown",
      "metadata": {},
      "source": [
        "    Si la tasa de aprendizaje es demasiado grande, el algoritmo del gradiente descendente puede no converger y el coste puede oscilar en lugar de disminuir. En este caso, el coste aumenta en cada iteración, lo que indica que la tasa de aprendizaje es demasiado grande.\n",
        "    :::\n",
        ":::\n"
      ],
      "id": "fb3834fe"
    }
  ],
  "metadata": {
    "kernelspec": {
      "name": "julia-1.11",
      "language": "julia",
      "display_name": "Julia 1.11.4",
      "path": "/home/alf/.local/share/jupyter/kernels/julia-1.11"
    }
  },
  "nbformat": 4,
  "nbformat_minor": 5
}